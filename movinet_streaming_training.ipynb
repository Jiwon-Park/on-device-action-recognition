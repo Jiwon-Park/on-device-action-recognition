{
  "cells": [
    {
      "cell_type": "markdown",
      "metadata": {
        "id": "9OEXtK6c6lyz"
      },
      "source": [
        "# Movinet Streaming Model Tutorial\n",
        "\n",
        "This tutorial trains a [MoViNet](https://arxiv.org/abs/2103.11511) with `A0` configuration from the TensorFlow Model Garden package (tensorflow-models).\n",
        "\n",
        "[Model Garden](https://www.tensorflow.org/tfmodels) contains a collection of state-of-the-art models, implemented with TensorFlow's high-level APIs. The implementations demonstrate the best practices for modeling, letting users to take full advantage of TensorFlow for their research and product development.\n",
        "\n",
        "**Streaming Models**:\n",
        "\n",
        "Streaming models implement causal (2+1)D convolutions with stream buffers. Streaming models use (2+1)D convolution instead of 3D to utilize optimized tf.nn.conv2d operations, which offer fast inference on CPU. Streaming models can be run on individual frames or on larger video clips like base models.\n",
        "\n",
        "**Note**: A3, A4, and A5 models use a positional encoding in the squeeze-excitation blocks, while A0, A1, and A2 do not. For the smaller models, accuracy is unaffected without positional encoding, while for the larger models accuracy is significantly worse without positional encoding.\n",
        "\n",
        "**Dataset:** [UCF_101](https://www.tensorflow.org/datasets/catalog/ucf101)\n",
        "* A 101-label video classification dataset\n",
        "\n",
        "**This tutorial demonstrates how to:**\n",
        "\n",
        "* Use models from the TensorFlow Models package.\n",
        "* Train/Fine-tune a pre-built [MoViNet](https://arxiv.org/abs/2103.11511) for Video Classification.\n",
        "* Export the trained/tuned MoViNet-A0-Stream model"
      ]
    },
    {
      "cell_type": "markdown",
      "metadata": {
        "id": "560IfSkP7fld"
      },
      "source": [
        "## Install Necessary libraries"
      ]
    },
    {
      "cell_type": "code",
      "execution_count": 1,
      "metadata": {
        "id": "MVX4IofucuZK"
      },
      "outputs": [
        {
          "name": "stdout",
          "output_type": "stream",
          "text": [
            "Requirement already satisfied: pip in ./.venv/lib/python3.10/site-packages (23.0.1)\n",
            "Collecting pip\n",
            "  Using cached pip-23.3.1-py3-none-any.whl (2.1 MB)\n",
            "Installing collected packages: pip\n",
            "  Attempting uninstall: pip\n",
            "    Found existing installation: pip 23.0.1\n",
            "    Uninstalling pip-23.0.1:\n",
            "      Successfully uninstalled pip-23.0.1\n",
            "Successfully installed pip-23.3.1\n",
            "Note: you may need to restart the kernel to use updated packages.\n",
            "Collecting tensorflow[and-cuda]\n",
            "  Using cached tensorflow-2.14.0-cp310-cp310-manylinux_2_17_x86_64.manylinux2014_x86_64.whl.metadata (4.1 kB)\n",
            "Collecting absl-py>=1.0.0 (from tensorflow[and-cuda])\n",
            "  Downloading absl_py-2.0.0-py3-none-any.whl.metadata (2.3 kB)\n",
            "Collecting astunparse>=1.6.0 (from tensorflow[and-cuda])\n",
            "  Downloading astunparse-1.6.3-py2.py3-none-any.whl (12 kB)\n",
            "Collecting flatbuffers>=23.5.26 (from tensorflow[and-cuda])\n",
            "  Downloading flatbuffers-23.5.26-py2.py3-none-any.whl.metadata (850 bytes)\n",
            "Collecting gast!=0.5.0,!=0.5.1,!=0.5.2,>=0.2.1 (from tensorflow[and-cuda])\n",
            "  Downloading gast-0.5.4-py3-none-any.whl (19 kB)\n",
            "Collecting google-pasta>=0.1.1 (from tensorflow[and-cuda])\n",
            "  Downloading google_pasta-0.2.0-py3-none-any.whl (57 kB)\n",
            "\u001b[2K     \u001b[90m━━━━━━━━━━━━━━━━━━━━━━━━━━━━━━━━━━━━━━━━\u001b[0m \u001b[32m57.5/57.5 kB\u001b[0m \u001b[31m3.2 MB/s\u001b[0m eta \u001b[36m0:00:00\u001b[0m\n",
            "\u001b[?25hCollecting h5py>=2.9.0 (from tensorflow[and-cuda])\n",
            "  Downloading h5py-3.10.0-cp310-cp310-manylinux_2_17_x86_64.manylinux2014_x86_64.whl.metadata (2.5 kB)\n",
            "Collecting libclang>=13.0.0 (from tensorflow[and-cuda])\n",
            "  Downloading libclang-16.0.6-py2.py3-none-manylinux2010_x86_64.whl.metadata (5.2 kB)\n",
            "Collecting ml-dtypes==0.2.0 (from tensorflow[and-cuda])\n",
            "  Downloading ml_dtypes-0.2.0-cp310-cp310-manylinux_2_17_x86_64.manylinux2014_x86_64.whl.metadata (20 kB)\n",
            "Collecting numpy>=1.23.5 (from tensorflow[and-cuda])\n",
            "  Downloading numpy-1.26.1-cp310-cp310-manylinux_2_17_x86_64.manylinux2014_x86_64.whl.metadata (61 kB)\n",
            "\u001b[2K     \u001b[90m━━━━━━━━━━━━━━━━━━━━━━━━━━━━━━━━━━━━━━━━\u001b[0m \u001b[32m61.2/61.2 kB\u001b[0m \u001b[31m5.4 MB/s\u001b[0m eta \u001b[36m0:00:00\u001b[0m\n",
            "\u001b[?25hCollecting opt-einsum>=2.3.2 (from tensorflow[and-cuda])\n",
            "  Downloading opt_einsum-3.3.0-py3-none-any.whl (65 kB)\n",
            "\u001b[2K     \u001b[90m━━━━━━━━━━━━━━━━━━━━━━━━━━━━━━━━━━━━━━━━\u001b[0m \u001b[32m65.5/65.5 kB\u001b[0m \u001b[31m5.9 MB/s\u001b[0m eta \u001b[36m0:00:00\u001b[0m\n",
            "\u001b[?25hCollecting packaging (from tensorflow[and-cuda])\n",
            "  Downloading packaging-23.2-py3-none-any.whl.metadata (3.2 kB)\n",
            "Collecting protobuf!=4.21.0,!=4.21.1,!=4.21.2,!=4.21.3,!=4.21.4,!=4.21.5,<5.0.0dev,>=3.20.3 (from tensorflow[and-cuda])\n",
            "  Downloading protobuf-4.24.4-cp37-abi3-manylinux2014_x86_64.whl.metadata (540 bytes)\n",
            "Requirement already satisfied: setuptools in ./.venv/lib/python3.10/site-packages (from tensorflow[and-cuda]) (65.5.0)\n",
            "Collecting six>=1.12.0 (from tensorflow[and-cuda])\n",
            "  Downloading six-1.16.0-py2.py3-none-any.whl (11 kB)\n",
            "Collecting termcolor>=1.1.0 (from tensorflow[and-cuda])\n",
            "  Downloading termcolor-2.3.0-py3-none-any.whl (6.9 kB)\n",
            "Collecting typing-extensions>=3.6.6 (from tensorflow[and-cuda])\n",
            "  Downloading typing_extensions-4.8.0-py3-none-any.whl.metadata (3.0 kB)\n",
            "Collecting wrapt<1.15,>=1.11.0 (from tensorflow[and-cuda])\n",
            "  Downloading wrapt-1.14.1-cp310-cp310-manylinux_2_5_x86_64.manylinux1_x86_64.manylinux_2_17_x86_64.manylinux2014_x86_64.whl (77 kB)\n",
            "\u001b[2K     \u001b[90m━━━━━━━━━━━━━━━━━━━━━━━━━━━━━━━━━━━━━━━━\u001b[0m \u001b[32m77.9/77.9 kB\u001b[0m \u001b[31m7.6 MB/s\u001b[0m eta \u001b[36m0:00:00\u001b[0m\n",
            "\u001b[?25hCollecting tensorflow-io-gcs-filesystem>=0.23.1 (from tensorflow[and-cuda])\n",
            "  Downloading tensorflow_io_gcs_filesystem-0.34.0-cp310-cp310-manylinux_2_12_x86_64.manylinux2010_x86_64.whl.metadata (14 kB)\n",
            "Collecting grpcio<2.0,>=1.24.3 (from tensorflow[and-cuda])\n",
            "  Downloading grpcio-1.59.0-cp310-cp310-manylinux_2_17_x86_64.manylinux2014_x86_64.whl.metadata (4.0 kB)\n",
            "Collecting tensorboard<2.15,>=2.14 (from tensorflow[and-cuda])\n",
            "  Downloading tensorboard-2.14.1-py3-none-any.whl.metadata (1.7 kB)\n",
            "Collecting tensorflow-estimator<2.15,>=2.14.0 (from tensorflow[and-cuda])\n",
            "  Downloading tensorflow_estimator-2.14.0-py2.py3-none-any.whl.metadata (1.3 kB)\n",
            "Collecting keras<2.15,>=2.14.0 (from tensorflow[and-cuda])\n",
            "  Downloading keras-2.14.0-py3-none-any.whl.metadata (2.4 kB)\n",
            "Collecting nvidia-cuda-runtime-cu11==11.8.89 (from tensorflow[and-cuda])\n",
            "  Using cached nvidia_cuda_runtime_cu11-11.8.89-py3-none-manylinux1_x86_64.whl (875 kB)\n",
            "Collecting nvidia-cublas-cu11==11.11.3.6 (from tensorflow[and-cuda])\n",
            "  Downloading nvidia_cublas_cu11-11.11.3.6-py3-none-manylinux1_x86_64.whl (417.9 MB)\n",
            "\u001b[2K     \u001b[90m━━━━━━━━━━━━━━━━━━━━━━━━━━━━━━━━━━━━━\u001b[0m \u001b[32m417.9/417.9 MB\u001b[0m \u001b[31m518.5 kB/s\u001b[0m eta \u001b[36m0:00:00\u001b[0m00:01\u001b[0m00:01\u001b[0m\n",
            "\u001b[?25hCollecting nvidia-cufft-cu11==10.9.0.58 (from tensorflow[and-cuda])\n",
            "  Using cached nvidia_cufft_cu11-10.9.0.58-py3-none-manylinux1_x86_64.whl (168.4 MB)\n",
            "Collecting nvidia-cudnn-cu11==8.7.0.84 (from tensorflow[and-cuda])\n",
            "  Using cached nvidia_cudnn_cu11-8.7.0.84-py3-none-manylinux1_x86_64.whl (728.5 MB)\n",
            "Collecting nvidia-curand-cu11==10.3.0.86 (from tensorflow[and-cuda])\n",
            "  Using cached nvidia_curand_cu11-10.3.0.86-py3-none-manylinux1_x86_64.whl (58.1 MB)\n",
            "Collecting nvidia-cusolver-cu11==11.4.1.48 (from tensorflow[and-cuda])\n",
            "  Using cached nvidia_cusolver_cu11-11.4.1.48-py3-none-manylinux1_x86_64.whl (128.2 MB)\n",
            "Collecting nvidia-cusparse-cu11==11.7.5.86 (from tensorflow[and-cuda])\n",
            "  Using cached nvidia_cusparse_cu11-11.7.5.86-py3-none-manylinux1_x86_64.whl (204.1 MB)\n",
            "Collecting nvidia-nccl-cu11==2.16.5 (from tensorflow[and-cuda])\n",
            "  Using cached nvidia_nccl_cu11-2.16.5-py3-none-manylinux1_x86_64.whl (210.3 MB)\n",
            "Collecting nvidia-cuda-cupti-cu11==11.8.87 (from tensorflow[and-cuda])\n",
            "  Using cached nvidia_cuda_cupti_cu11-11.8.87-py3-none-manylinux1_x86_64.whl (13.1 MB)\n",
            "Collecting nvidia-cuda-nvcc-cu11==11.8.89 (from tensorflow[and-cuda])\n",
            "  Using cached nvidia_cuda_nvcc_cu11-11.8.89-py3-none-manylinux1_x86_64.whl (19.5 MB)\n",
            "Collecting tensorrt==8.5.3.1 (from tensorflow[and-cuda])\n",
            "  Using cached tensorrt-8.5.3.1-cp310-none-manylinux_2_17_x86_64.whl (549.5 MB)\n",
            "Collecting wheel<1.0,>=0.23.0 (from astunparse>=1.6.0->tensorflow[and-cuda])\n",
            "  Downloading wheel-0.41.2-py3-none-any.whl.metadata (2.2 kB)\n",
            "Collecting google-auth<3,>=1.6.3 (from tensorboard<2.15,>=2.14->tensorflow[and-cuda])\n",
            "  Downloading google_auth-2.23.3-py2.py3-none-any.whl.metadata (4.2 kB)\n",
            "Collecting google-auth-oauthlib<1.1,>=0.5 (from tensorboard<2.15,>=2.14->tensorflow[and-cuda])\n",
            "  Downloading google_auth_oauthlib-1.0.0-py2.py3-none-any.whl (18 kB)\n",
            "Collecting markdown>=2.6.8 (from tensorboard<2.15,>=2.14->tensorflow[and-cuda])\n",
            "  Downloading Markdown-3.5-py3-none-any.whl.metadata (7.1 kB)\n",
            "Collecting requests<3,>=2.21.0 (from tensorboard<2.15,>=2.14->tensorflow[and-cuda])\n",
            "  Downloading requests-2.31.0-py3-none-any.whl.metadata (4.6 kB)\n",
            "Collecting tensorboard-data-server<0.8.0,>=0.7.0 (from tensorboard<2.15,>=2.14->tensorflow[and-cuda])\n",
            "  Downloading tensorboard_data_server-0.7.2-py3-none-manylinux_2_31_x86_64.whl.metadata (1.1 kB)\n",
            "Collecting werkzeug>=1.0.1 (from tensorboard<2.15,>=2.14->tensorflow[and-cuda])\n",
            "  Downloading werkzeug-3.0.1-py3-none-any.whl.metadata (4.1 kB)\n",
            "Collecting cachetools<6.0,>=2.0.0 (from google-auth<3,>=1.6.3->tensorboard<2.15,>=2.14->tensorflow[and-cuda])\n",
            "  Downloading cachetools-5.3.2-py3-none-any.whl.metadata (5.2 kB)\n",
            "Collecting pyasn1-modules>=0.2.1 (from google-auth<3,>=1.6.3->tensorboard<2.15,>=2.14->tensorflow[and-cuda])\n",
            "  Downloading pyasn1_modules-0.3.0-py2.py3-none-any.whl (181 kB)\n",
            "\u001b[2K     \u001b[90m━━━━━━━━━━━━━━━━━━━━━━━━━━━━━━━━━━━━━━\u001b[0m \u001b[32m181.3/181.3 kB\u001b[0m \u001b[31m14.8 MB/s\u001b[0m eta \u001b[36m0:00:00\u001b[0m\n",
            "\u001b[?25hCollecting rsa<5,>=3.1.4 (from google-auth<3,>=1.6.3->tensorboard<2.15,>=2.14->tensorflow[and-cuda])\n",
            "  Downloading rsa-4.9-py3-none-any.whl (34 kB)\n",
            "Collecting requests-oauthlib>=0.7.0 (from google-auth-oauthlib<1.1,>=0.5->tensorboard<2.15,>=2.14->tensorflow[and-cuda])\n",
            "  Downloading requests_oauthlib-1.3.1-py2.py3-none-any.whl (23 kB)\n",
            "Collecting charset-normalizer<4,>=2 (from requests<3,>=2.21.0->tensorboard<2.15,>=2.14->tensorflow[and-cuda])\n",
            "  Downloading charset_normalizer-3.3.1-cp310-cp310-manylinux_2_17_x86_64.manylinux2014_x86_64.whl.metadata (33 kB)\n",
            "Collecting idna<4,>=2.5 (from requests<3,>=2.21.0->tensorboard<2.15,>=2.14->tensorflow[and-cuda])\n",
            "  Downloading idna-3.4-py3-none-any.whl (61 kB)\n",
            "\u001b[2K     \u001b[90m━━━━━━━━━━━━━━━━━━━━━━━━━━━━━━━━━━━━━━━━\u001b[0m \u001b[32m61.5/61.5 kB\u001b[0m \u001b[31m5.3 MB/s\u001b[0m eta \u001b[36m0:00:00\u001b[0m\n",
            "\u001b[?25hCollecting urllib3<3,>=1.21.1 (from requests<3,>=2.21.0->tensorboard<2.15,>=2.14->tensorflow[and-cuda])\n",
            "  Downloading urllib3-2.0.7-py3-none-any.whl.metadata (6.6 kB)\n",
            "Collecting certifi>=2017.4.17 (from requests<3,>=2.21.0->tensorboard<2.15,>=2.14->tensorflow[and-cuda])\n",
            "  Downloading certifi-2023.7.22-py3-none-any.whl.metadata (2.2 kB)\n",
            "Collecting MarkupSafe>=2.1.1 (from werkzeug>=1.0.1->tensorboard<2.15,>=2.14->tensorflow[and-cuda])\n",
            "  Downloading MarkupSafe-2.1.3-cp310-cp310-manylinux_2_17_x86_64.manylinux2014_x86_64.whl.metadata (3.0 kB)\n",
            "Collecting pyasn1<0.6.0,>=0.4.6 (from pyasn1-modules>=0.2.1->google-auth<3,>=1.6.3->tensorboard<2.15,>=2.14->tensorflow[and-cuda])\n",
            "  Downloading pyasn1-0.5.0-py2.py3-none-any.whl (83 kB)\n",
            "\u001b[2K     \u001b[90m━━━━━━━━━━━━━━━━━━━━━━━━━━━━━━━━━━━━━━━━\u001b[0m \u001b[32m83.9/83.9 kB\u001b[0m \u001b[31m8.1 MB/s\u001b[0m eta \u001b[36m0:00:00\u001b[0m\n",
            "\u001b[?25hCollecting oauthlib>=3.0.0 (from requests-oauthlib>=0.7.0->google-auth-oauthlib<1.1,>=0.5->tensorboard<2.15,>=2.14->tensorflow[and-cuda])\n",
            "  Downloading oauthlib-3.2.2-py3-none-any.whl (151 kB)\n",
            "\u001b[2K     \u001b[90m━━━━━━━━━━━━━━━━━━━━━━━━━━━━━━━━━━━━━━\u001b[0m \u001b[32m151.7/151.7 kB\u001b[0m \u001b[31m13.5 MB/s\u001b[0m eta \u001b[36m0:00:00\u001b[0m\n",
            "\u001b[?25hDownloading ml_dtypes-0.2.0-cp310-cp310-manylinux_2_17_x86_64.manylinux2014_x86_64.whl (1.0 MB)\n",
            "\u001b[2K   \u001b[90m━━━━━━━━━━━━━━━━━━━━━━━━━━━━━━━━━━━━━━━━\u001b[0m \u001b[32m1.0/1.0 MB\u001b[0m \u001b[31m27.1 MB/s\u001b[0m eta \u001b[36m0:00:00\u001b[0m00:01\u001b[0m\n",
            "\u001b[?25hDownloading absl_py-2.0.0-py3-none-any.whl (130 kB)\n",
            "\u001b[2K   \u001b[90m━━━━━━━━━━━━━━━━━━━━━━━━━━━━━━━━━━━━━━━━\u001b[0m \u001b[32m130.2/130.2 kB\u001b[0m \u001b[31m13.2 MB/s\u001b[0m eta \u001b[36m0:00:00\u001b[0m\n",
            "\u001b[?25hDownloading flatbuffers-23.5.26-py2.py3-none-any.whl (26 kB)\n",
            "Downloading grpcio-1.59.0-cp310-cp310-manylinux_2_17_x86_64.manylinux2014_x86_64.whl (5.3 MB)\n",
            "\u001b[2K   \u001b[90m━━━━━━━━━━━━━━━━━━━━━━━━━━━━━━━━━━━━━━━━\u001b[0m \u001b[32m5.3/5.3 MB\u001b[0m \u001b[31m20.1 MB/s\u001b[0m eta \u001b[36m0:00:00\u001b[0m00:01\u001b[0m00:01\u001b[0m\n",
            "\u001b[?25hDownloading h5py-3.10.0-cp310-cp310-manylinux_2_17_x86_64.manylinux2014_x86_64.whl (4.8 MB)\n",
            "\u001b[2K   \u001b[90m━━━━━━━━━━━━━━━━━━━━━━━━━━━━━━━━━━━━━━━━\u001b[0m \u001b[32m4.8/4.8 MB\u001b[0m \u001b[31m29.3 MB/s\u001b[0m eta \u001b[36m0:00:00\u001b[0m00:01\u001b[0m00:01\u001b[0m\n",
            "\u001b[?25hDownloading keras-2.14.0-py3-none-any.whl (1.7 MB)\n",
            "\u001b[2K   \u001b[90m━━━━━━━━━━━━━━━━━━━━━━━━━━━━━━━━━━━━━━━━\u001b[0m \u001b[32m1.7/1.7 MB\u001b[0m \u001b[31m28.4 MB/s\u001b[0m eta \u001b[36m0:00:00\u001b[0m00:01\u001b[0m\n",
            "\u001b[?25hDownloading libclang-16.0.6-py2.py3-none-manylinux2010_x86_64.whl (22.9 MB)\n",
            "\u001b[2K   \u001b[90m━━━━━━━━━━━━━━━━━━━━━━━━━━━━━━━━━━━━━━━━\u001b[0m \u001b[32m22.9/22.9 MB\u001b[0m \u001b[31m19.3 MB/s\u001b[0m eta \u001b[36m0:00:00\u001b[0m00:01\u001b[0m00:01\u001b[0m\n",
            "\u001b[?25hDownloading numpy-1.26.1-cp310-cp310-manylinux_2_17_x86_64.manylinux2014_x86_64.whl (18.2 MB)\n",
            "\u001b[2K   \u001b[90m━━━━━━━━━━━━━━━━━━━━━━━━━━━━━━━━━━━━━━━━\u001b[0m \u001b[32m18.2/18.2 MB\u001b[0m \u001b[31m22.0 MB/s\u001b[0m eta \u001b[36m0:00:00\u001b[0m00:01\u001b[0m00:01\u001b[0m\n",
            "\u001b[?25hDownloading protobuf-4.24.4-cp37-abi3-manylinux2014_x86_64.whl (311 kB)\n",
            "\u001b[2K   \u001b[90m━━━━━━━━━━━━━━━━━━━━━━━━━━━━━━━━━━━━━━━━\u001b[0m \u001b[32m311.6/311.6 kB\u001b[0m \u001b[31m20.2 MB/s\u001b[0m eta \u001b[36m0:00:00\u001b[0m\n",
            "\u001b[?25hDownloading tensorboard-2.14.1-py3-none-any.whl (5.5 MB)\n",
            "\u001b[2K   \u001b[90m━━━━━━━━━━━━━━━━━━━━━━━━━━━━━━━━━━━━━━━━\u001b[0m \u001b[32m5.5/5.5 MB\u001b[0m \u001b[31m29.7 MB/s\u001b[0m eta \u001b[36m0:00:00\u001b[0m00:01\u001b[0m00:01\u001b[0m\n",
            "\u001b[?25hDownloading tensorflow_estimator-2.14.0-py2.py3-none-any.whl (440 kB)\n",
            "\u001b[2K   \u001b[90m━━━━━━━━━━━━━━━━━━━━━━━━━━━━━━━━━━━━━━━━\u001b[0m \u001b[32m440.7/440.7 kB\u001b[0m \u001b[31m24.2 MB/s\u001b[0m eta \u001b[36m0:00:00\u001b[0m\n",
            "\u001b[?25hDownloading tensorflow_io_gcs_filesystem-0.34.0-cp310-cp310-manylinux_2_12_x86_64.manylinux2010_x86_64.whl (2.4 MB)\n",
            "\u001b[2K   \u001b[90m━━━━━━━━━━━━━━━━━━━━━━━━━━━━━━━━━━━━━━━━\u001b[0m \u001b[32m2.4/2.4 MB\u001b[0m \u001b[31m29.0 MB/s\u001b[0m eta \u001b[36m0:00:00\u001b[0m00:01\u001b[0m00:01\u001b[0m\n",
            "\u001b[?25hDownloading typing_extensions-4.8.0-py3-none-any.whl (31 kB)\n",
            "Downloading packaging-23.2-py3-none-any.whl (53 kB)\n",
            "\u001b[2K   \u001b[90m━━━━━━━━━━━━━━━━━━━━━━━━━━━━━━━━━━━━━━━━\u001b[0m \u001b[32m53.0/53.0 kB\u001b[0m \u001b[31m5.9 MB/s\u001b[0m eta \u001b[36m0:00:00\u001b[0m\n",
            "\u001b[?25hUsing cached tensorflow-2.14.0-cp310-cp310-manylinux_2_17_x86_64.manylinux2014_x86_64.whl (489.8 MB)\n",
            "Downloading google_auth-2.23.3-py2.py3-none-any.whl (182 kB)\n",
            "\u001b[2K   \u001b[90m━━━━━━━━━━━━━━━━━━━━━━━━━━━━━━━━━━━━━━━━\u001b[0m \u001b[32m182.3/182.3 kB\u001b[0m \u001b[31m15.4 MB/s\u001b[0m eta \u001b[36m0:00:00\u001b[0m\n",
            "\u001b[?25hDownloading Markdown-3.5-py3-none-any.whl (101 kB)\n",
            "\u001b[2K   \u001b[90m━━━━━━━━━━━━━━━━━━━━━━━━━━━━━━━━━━━━━━━━\u001b[0m \u001b[32m101.7/101.7 kB\u001b[0m \u001b[31m9.1 MB/s\u001b[0m eta \u001b[36m0:00:00\u001b[0m\n",
            "\u001b[?25hDownloading requests-2.31.0-py3-none-any.whl (62 kB)\n",
            "\u001b[2K   \u001b[90m━━━━━━━━━━━━━━━━━━━━━━━━━━━━━━━━━━━━━━━━\u001b[0m \u001b[32m62.6/62.6 kB\u001b[0m \u001b[31m6.9 MB/s\u001b[0m eta \u001b[36m0:00:00\u001b[0m\n",
            "\u001b[?25hDownloading tensorboard_data_server-0.7.2-py3-none-manylinux_2_31_x86_64.whl (6.6 MB)\n",
            "\u001b[2K   \u001b[90m━━━━━━━━━━━━━━━━━━━━━━━━━━━━━━━━━━━━━━━━\u001b[0m \u001b[32m6.6/6.6 MB\u001b[0m \u001b[31m30.1 MB/s\u001b[0m eta \u001b[36m0:00:00\u001b[0m00:01\u001b[0m00:01\u001b[0m\n",
            "\u001b[?25hDownloading werkzeug-3.0.1-py3-none-any.whl (226 kB)\n",
            "\u001b[2K   \u001b[90m━━━━━━━━━━━━━━━━━━━━━━━━━━━━━━━━━━━━━━━━\u001b[0m \u001b[32m226.7/226.7 kB\u001b[0m \u001b[31m17.8 MB/s\u001b[0m eta \u001b[36m0:00:00\u001b[0m\n",
            "\u001b[?25hDownloading wheel-0.41.2-py3-none-any.whl (64 kB)\n",
            "\u001b[2K   \u001b[90m━━━━━━━━━━━━━━━━━━━━━━━━━━━━━━━━━━━━━━━━\u001b[0m \u001b[32m64.8/64.8 kB\u001b[0m \u001b[31m7.0 MB/s\u001b[0m eta \u001b[36m0:00:00\u001b[0m\n",
            "\u001b[?25hDownloading cachetools-5.3.2-py3-none-any.whl (9.3 kB)\n",
            "Downloading certifi-2023.7.22-py3-none-any.whl (158 kB)\n",
            "\u001b[2K   \u001b[90m━━━━━━━━━━━━━━━━━━━━━━━━━━━━━━━━━━━━━━━━\u001b[0m \u001b[32m158.3/158.3 kB\u001b[0m \u001b[31m13.8 MB/s\u001b[0m eta \u001b[36m0:00:00\u001b[0m\n",
            "\u001b[?25hDownloading charset_normalizer-3.3.1-cp310-cp310-manylinux_2_17_x86_64.manylinux2014_x86_64.whl (139 kB)\n",
            "\u001b[2K   \u001b[90m━━━━━━━━━━━━━━━━━━━━━━━━━━━━━━━━━━━━━━━━\u001b[0m \u001b[32m139.2/139.2 kB\u001b[0m \u001b[31m12.8 MB/s\u001b[0m eta \u001b[36m0:00:00\u001b[0m\n",
            "\u001b[?25hDownloading MarkupSafe-2.1.3-cp310-cp310-manylinux_2_17_x86_64.manylinux2014_x86_64.whl (25 kB)\n",
            "Downloading urllib3-2.0.7-py3-none-any.whl (124 kB)\n",
            "\u001b[2K   \u001b[90m━━━━━━━━━━━━━━━━━━━━━━━━━━━━━━━━━━━━━━━━\u001b[0m \u001b[32m124.2/124.2 kB\u001b[0m \u001b[31m12.8 MB/s\u001b[0m eta \u001b[36m0:00:00\u001b[0m\n",
            "\u001b[?25hInstalling collected packages: libclang, flatbuffers, wrapt, wheel, urllib3, typing-extensions, termcolor, tensorflow-io-gcs-filesystem, tensorflow-estimator, tensorboard-data-server, six, pyasn1, protobuf, packaging, oauthlib, nvidia-nccl-cu11, nvidia-cusparse-cu11, nvidia-curand-cu11, nvidia-cufft-cu11, nvidia-cuda-runtime-cu11, nvidia-cuda-nvcc-cu11, nvidia-cuda-cupti-cu11, nvidia-cublas-cu11, numpy, MarkupSafe, markdown, keras, idna, grpcio, gast, charset-normalizer, certifi, cachetools, absl-py, werkzeug, rsa, requests, pyasn1-modules, opt-einsum, nvidia-cusolver-cu11, nvidia-cudnn-cu11, ml-dtypes, h5py, google-pasta, astunparse, tensorrt, requests-oauthlib, google-auth, google-auth-oauthlib, tensorboard, tensorflow\n",
            "Successfully installed MarkupSafe-2.1.3 absl-py-2.0.0 astunparse-1.6.3 cachetools-5.3.2 certifi-2023.7.22 charset-normalizer-3.3.1 flatbuffers-23.5.26 gast-0.5.4 google-auth-2.23.3 google-auth-oauthlib-1.0.0 google-pasta-0.2.0 grpcio-1.59.0 h5py-3.10.0 idna-3.4 keras-2.14.0 libclang-16.0.6 markdown-3.5 ml-dtypes-0.2.0 numpy-1.26.1 nvidia-cublas-cu11-11.11.3.6 nvidia-cuda-cupti-cu11-11.8.87 nvidia-cuda-nvcc-cu11-11.8.89 nvidia-cuda-runtime-cu11-11.8.89 nvidia-cudnn-cu11-8.7.0.84 nvidia-cufft-cu11-10.9.0.58 nvidia-curand-cu11-10.3.0.86 nvidia-cusolver-cu11-11.4.1.48 nvidia-cusparse-cu11-11.7.5.86 nvidia-nccl-cu11-2.16.5 oauthlib-3.2.2 opt-einsum-3.3.0 packaging-23.2 protobuf-4.24.4 pyasn1-0.5.0 pyasn1-modules-0.3.0 requests-2.31.0 requests-oauthlib-1.3.1 rsa-4.9 six-1.16.0 tensorboard-2.14.1 tensorboard-data-server-0.7.2 tensorflow-2.14.0 tensorflow-estimator-2.14.0 tensorflow-io-gcs-filesystem-0.34.0 tensorrt-8.5.3.1 termcolor-2.3.0 typing-extensions-4.8.0 urllib3-2.0.7 werkzeug-3.0.1 wheel-0.41.2 wrapt-1.14.1\n",
            "Note: you may need to restart the kernel to use updated packages.\n",
            "Note: you may need to restart the kernel to use updated packages.\n",
            "Collecting mediapy\n",
            "  Downloading mediapy-1.1.9-py3-none-any.whl.metadata (4.8 kB)\n",
            "Collecting remotezip\n",
            "  Using cached remotezip-0.12.1-py3-none-any.whl\n",
            "Collecting ipython (from mediapy)\n",
            "  Downloading ipython-8.16.1-py3-none-any.whl.metadata (5.9 kB)\n",
            "Requirement already satisfied: matplotlib in ./.venv/lib/python3.10/site-packages (from mediapy) (3.8.0)\n",
            "Requirement already satisfied: numpy in ./.venv/lib/python3.10/site-packages (from mediapy) (1.26.1)\n",
            "Requirement already satisfied: Pillow in ./.venv/lib/python3.10/site-packages (from mediapy) (10.1.0)\n",
            "Requirement already satisfied: requests in ./.venv/lib/python3.10/site-packages (from remotezip) (2.31.0)\n",
            "Requirement already satisfied: tabulate in ./.venv/lib/python3.10/site-packages (from remotezip) (0.9.0)\n",
            "Collecting backcall (from ipython->mediapy)\n",
            "  Downloading backcall-0.2.0-py2.py3-none-any.whl (11 kB)\n",
            "Collecting decorator (from ipython->mediapy)\n",
            "  Downloading decorator-5.1.1-py3-none-any.whl (9.1 kB)\n",
            "Collecting jedi>=0.16 (from ipython->mediapy)\n",
            "  Downloading jedi-0.19.1-py2.py3-none-any.whl.metadata (22 kB)\n",
            "Collecting matplotlib-inline (from ipython->mediapy)\n",
            "  Downloading matplotlib_inline-0.1.6-py3-none-any.whl (9.4 kB)\n",
            "Collecting pickleshare (from ipython->mediapy)\n",
            "  Downloading pickleshare-0.7.5-py2.py3-none-any.whl (6.9 kB)\n",
            "Collecting prompt-toolkit!=3.0.37,<3.1.0,>=3.0.30 (from ipython->mediapy)\n",
            "  Downloading prompt_toolkit-3.0.39-py3-none-any.whl.metadata (6.4 kB)\n",
            "Collecting pygments>=2.4.0 (from ipython->mediapy)\n",
            "  Downloading Pygments-2.16.1-py3-none-any.whl.metadata (2.5 kB)\n",
            "Collecting stack-data (from ipython->mediapy)\n",
            "  Downloading stack_data-0.6.3-py3-none-any.whl.metadata (18 kB)\n",
            "Collecting traitlets>=5 (from ipython->mediapy)\n",
            "  Downloading traitlets-5.12.0-py3-none-any.whl.metadata (10 kB)\n",
            "Collecting exceptiongroup (from ipython->mediapy)\n",
            "  Downloading exceptiongroup-1.1.3-py3-none-any.whl.metadata (6.1 kB)\n",
            "Collecting pexpect>4.3 (from ipython->mediapy)\n",
            "  Downloading pexpect-4.8.0-py2.py3-none-any.whl (59 kB)\n",
            "\u001b[2K     \u001b[90m━━━━━━━━━━━━━━━━━━━━━━━━━━━━━━━━━━━━━━━━\u001b[0m \u001b[32m59.0/59.0 kB\u001b[0m \u001b[31m1.6 MB/s\u001b[0m eta \u001b[36m0:00:00\u001b[0m\n",
            "\u001b[?25hRequirement already satisfied: contourpy>=1.0.1 in ./.venv/lib/python3.10/site-packages (from matplotlib->mediapy) (1.1.1)\n",
            "Requirement already satisfied: cycler>=0.10 in ./.venv/lib/python3.10/site-packages (from matplotlib->mediapy) (0.12.1)\n",
            "Requirement already satisfied: fonttools>=4.22.0 in ./.venv/lib/python3.10/site-packages (from matplotlib->mediapy) (4.43.1)\n",
            "Requirement already satisfied: kiwisolver>=1.0.1 in ./.venv/lib/python3.10/site-packages (from matplotlib->mediapy) (1.4.5)\n",
            "Requirement already satisfied: packaging>=20.0 in ./.venv/lib/python3.10/site-packages (from matplotlib->mediapy) (23.2)\n",
            "Requirement already satisfied: pyparsing>=2.3.1 in ./.venv/lib/python3.10/site-packages (from matplotlib->mediapy) (3.1.1)\n",
            "Requirement already satisfied: python-dateutil>=2.7 in ./.venv/lib/python3.10/site-packages (from matplotlib->mediapy) (2.8.2)\n",
            "Requirement already satisfied: charset-normalizer<4,>=2 in ./.venv/lib/python3.10/site-packages (from requests->remotezip) (3.3.1)\n",
            "Requirement already satisfied: idna<4,>=2.5 in ./.venv/lib/python3.10/site-packages (from requests->remotezip) (3.4)\n",
            "Requirement already satisfied: urllib3<3,>=1.21.1 in ./.venv/lib/python3.10/site-packages (from requests->remotezip) (2.0.7)\n",
            "Requirement already satisfied: certifi>=2017.4.17 in ./.venv/lib/python3.10/site-packages (from requests->remotezip) (2023.7.22)\n",
            "Collecting parso<0.9.0,>=0.8.3 (from jedi>=0.16->ipython->mediapy)\n",
            "  Downloading parso-0.8.3-py2.py3-none-any.whl (100 kB)\n",
            "\u001b[2K     \u001b[90m━━━━━━━━━━━━━━━━━━━━━━━━━━━━━━━━━━━━━━━\u001b[0m \u001b[32m100.8/100.8 kB\u001b[0m \u001b[31m2.0 MB/s\u001b[0m eta \u001b[36m0:00:00\u001b[0ma \u001b[36m0:00:01\u001b[0m\n",
            "\u001b[?25hCollecting ptyprocess>=0.5 (from pexpect>4.3->ipython->mediapy)\n",
            "  Downloading ptyprocess-0.7.0-py2.py3-none-any.whl (13 kB)\n",
            "Collecting wcwidth (from prompt-toolkit!=3.0.37,<3.1.0,>=3.0.30->ipython->mediapy)\n",
            "  Downloading wcwidth-0.2.8-py2.py3-none-any.whl.metadata (13 kB)\n",
            "Requirement already satisfied: six>=1.5 in ./.venv/lib/python3.10/site-packages (from python-dateutil>=2.7->matplotlib->mediapy) (1.16.0)\n",
            "Collecting executing>=1.2.0 (from stack-data->ipython->mediapy)\n",
            "  Downloading executing-2.0.0-py2.py3-none-any.whl.metadata (9.0 kB)\n",
            "Collecting asttokens>=2.1.0 (from stack-data->ipython->mediapy)\n",
            "  Downloading asttokens-2.4.1-py2.py3-none-any.whl.metadata (5.2 kB)\n",
            "Collecting pure-eval (from stack-data->ipython->mediapy)\n",
            "  Downloading pure_eval-0.2.2-py3-none-any.whl (11 kB)\n",
            "Downloading mediapy-1.1.9-py3-none-any.whl (25 kB)\n",
            "Downloading ipython-8.16.1-py3-none-any.whl (806 kB)\n",
            "\u001b[2K   \u001b[90m━━━━━━━━━━━━━━━━━━━━━━━━━━━━━━━━━━━━━━━━\u001b[0m \u001b[32m807.0/807.0 kB\u001b[0m \u001b[31m12.0 MB/s\u001b[0m eta \u001b[36m0:00:00\u001b[0m00:01\u001b[0m\n",
            "\u001b[?25hDownloading jedi-0.19.1-py2.py3-none-any.whl (1.6 MB)\n",
            "\u001b[2K   \u001b[90m━━━━━━━━━━━━━━━━━━━━━━━━━━━━━━━━━━━━━━━━\u001b[0m \u001b[32m1.6/1.6 MB\u001b[0m \u001b[31m17.2 MB/s\u001b[0m eta \u001b[36m0:00:00\u001b[0m00:01\u001b[0m\n",
            "\u001b[?25hDownloading prompt_toolkit-3.0.39-py3-none-any.whl (385 kB)\n",
            "\u001b[2K   \u001b[90m━━━━━━━━━━━━━━━━━━━━━━━━━━━━━━━━━━━━━━━━\u001b[0m \u001b[32m385.2/385.2 kB\u001b[0m \u001b[31m7.9 MB/s\u001b[0m eta \u001b[36m0:00:00\u001b[0m:00:01\u001b[0m\n",
            "\u001b[?25hDownloading Pygments-2.16.1-py3-none-any.whl (1.2 MB)\n",
            "\u001b[2K   \u001b[90m━━━━━━━━━━━━━━━━━━━━━━━━━━━━━━━━━━━━━━━━\u001b[0m \u001b[32m1.2/1.2 MB\u001b[0m \u001b[31m14.1 MB/s\u001b[0m eta \u001b[36m0:00:00\u001b[0m00:01\u001b[0m\n",
            "\u001b[?25hDownloading traitlets-5.12.0-py3-none-any.whl (84 kB)\n",
            "\u001b[2K   \u001b[90m━━━━━━━━━━━━━━━━━━━━━━━━━━━━━━━━━━━━━━━━\u001b[0m \u001b[32m84.0/84.0 kB\u001b[0m \u001b[31m1.9 MB/s\u001b[0m eta \u001b[36m0:00:00\u001b[0meta \u001b[36m0:00:01\u001b[0m\n",
            "\u001b[?25hDownloading exceptiongroup-1.1.3-py3-none-any.whl (14 kB)\n",
            "Downloading stack_data-0.6.3-py3-none-any.whl (24 kB)\n",
            "Downloading asttokens-2.4.1-py2.py3-none-any.whl (27 kB)\n",
            "Downloading executing-2.0.0-py2.py3-none-any.whl (24 kB)\n",
            "Downloading wcwidth-0.2.8-py2.py3-none-any.whl (31 kB)\n",
            "Installing collected packages: wcwidth, pure-eval, ptyprocess, pickleshare, executing, backcall, traitlets, pygments, prompt-toolkit, pexpect, parso, exceptiongroup, decorator, asttokens, stack-data, remotezip, matplotlib-inline, jedi, ipython, mediapy\n",
            "Successfully installed asttokens-2.4.1 backcall-0.2.0 decorator-5.1.1 exceptiongroup-1.1.3 executing-2.0.0 ipython-8.16.1 jedi-0.19.1 matplotlib-inline-0.1.6 mediapy-1.1.9 parso-0.8.3 pexpect-4.8.0 pickleshare-0.7.5 prompt-toolkit-3.0.39 ptyprocess-0.7.0 pure-eval-0.2.2 pygments-2.16.1 remotezip-0.12.1 stack-data-0.6.3 traitlets-5.12.0 wcwidth-0.2.8\n",
            "Note: you may need to restart the kernel to use updated packages.\n",
            "Collecting git+https://github.com/tensorflow/docs\n",
            "  Cloning https://github.com/tensorflow/docs to /tmp/pip-req-build-cochu9ok\n",
            "  Running command git clone --filter=blob:none --quiet https://github.com/tensorflow/docs /tmp/pip-req-build-cochu9ok\n",
            "  Resolved https://github.com/tensorflow/docs to commit eb0f9bff81fadad58f92367b8cdf6181f28ec604\n",
            "  Preparing metadata (setup.py) ... \u001b[?25ldone\n",
            "\u001b[?25hCollecting astor (from tensorflow-docs==2023.10.27.81990)\n",
            "  Downloading astor-0.8.1-py2.py3-none-any.whl (27 kB)\n",
            "Requirement already satisfied: absl-py in ./.venv/lib/python3.10/site-packages (from tensorflow-docs==2023.10.27.81990) (1.4.0)\n",
            "Collecting jinja2 (from tensorflow-docs==2023.10.27.81990)\n",
            "  Downloading Jinja2-3.1.2-py3-none-any.whl (133 kB)\n",
            "\u001b[2K     \u001b[90m━━━━━━━━━━━━━━━━━━━━━━━━━━━━━━━━━━━━━\u001b[0m \u001b[32m133.1/133.1 kB\u001b[0m \u001b[31m773.1 kB/s\u001b[0m eta \u001b[36m0:00:00\u001b[0ma \u001b[36m0:00:01\u001b[0m\n",
            "\u001b[?25hCollecting nbformat (from tensorflow-docs==2023.10.27.81990)\n",
            "  Downloading nbformat-5.9.2-py3-none-any.whl.metadata (3.4 kB)\n",
            "Requirement already satisfied: protobuf>=3.12 in ./.venv/lib/python3.10/site-packages (from tensorflow-docs==2023.10.27.81990) (3.20.3)\n",
            "Requirement already satisfied: pyyaml in ./.venv/lib/python3.10/site-packages (from tensorflow-docs==2023.10.27.81990) (6.0.1)\n",
            "Requirement already satisfied: MarkupSafe>=2.0 in ./.venv/lib/python3.10/site-packages (from jinja2->tensorflow-docs==2023.10.27.81990) (2.1.3)\n",
            "Collecting fastjsonschema (from nbformat->tensorflow-docs==2023.10.27.81990)\n",
            "  Downloading fastjsonschema-2.18.1-py3-none-any.whl.metadata (2.0 kB)\n",
            "Collecting jsonschema>=2.6 (from nbformat->tensorflow-docs==2023.10.27.81990)\n",
            "  Downloading jsonschema-4.19.1-py3-none-any.whl.metadata (7.9 kB)\n",
            "Collecting jupyter-core (from nbformat->tensorflow-docs==2023.10.27.81990)\n",
            "  Downloading jupyter_core-5.4.0-py3-none-any.whl.metadata (3.4 kB)\n",
            "Requirement already satisfied: traitlets>=5.1 in ./.venv/lib/python3.10/site-packages (from nbformat->tensorflow-docs==2023.10.27.81990) (5.12.0)\n",
            "Collecting attrs>=22.2.0 (from jsonschema>=2.6->nbformat->tensorflow-docs==2023.10.27.81990)\n",
            "  Downloading attrs-23.1.0-py3-none-any.whl (61 kB)\n",
            "\u001b[2K     \u001b[90m━━━━━━━━━━━━━━━━━━━━━━━━━━━━━━━━━━━━━━━━\u001b[0m \u001b[32m61.2/61.2 kB\u001b[0m \u001b[31m1.9 MB/s\u001b[0m eta \u001b[36m0:00:00\u001b[0m\n",
            "\u001b[?25hCollecting jsonschema-specifications>=2023.03.6 (from jsonschema>=2.6->nbformat->tensorflow-docs==2023.10.27.81990)\n",
            "  Downloading jsonschema_specifications-2023.7.1-py3-none-any.whl.metadata (2.8 kB)\n",
            "Collecting referencing>=0.28.4 (from jsonschema>=2.6->nbformat->tensorflow-docs==2023.10.27.81990)\n",
            "  Downloading referencing-0.30.2-py3-none-any.whl.metadata (2.6 kB)\n",
            "Collecting rpds-py>=0.7.1 (from jsonschema>=2.6->nbformat->tensorflow-docs==2023.10.27.81990)\n",
            "  Downloading rpds_py-0.10.6-cp310-cp310-manylinux_2_17_x86_64.manylinux2014_x86_64.whl.metadata (3.7 kB)\n",
            "Collecting platformdirs>=2.5 (from jupyter-core->nbformat->tensorflow-docs==2023.10.27.81990)\n",
            "  Downloading platformdirs-3.11.0-py3-none-any.whl.metadata (11 kB)\n",
            "Downloading nbformat-5.9.2-py3-none-any.whl (77 kB)\n",
            "\u001b[2K   \u001b[90m━━━━━━━━━━━━━━━━━━━━━━━━━━━━━━━━━━━━━━━━\u001b[0m \u001b[32m77.6/77.6 kB\u001b[0m \u001b[31m2.4 MB/s\u001b[0m eta \u001b[36m0:00:00\u001b[0m\n",
            "\u001b[?25hDownloading jsonschema-4.19.1-py3-none-any.whl (83 kB)\n",
            "\u001b[2K   \u001b[90m━━━━━━━━━━━━━━━━━━━━━━━━━━━━━━━━━━━━━━━━\u001b[0m \u001b[32m83.3/83.3 kB\u001b[0m \u001b[31m2.5 MB/s\u001b[0m eta \u001b[36m0:00:00\u001b[0m\n",
            "\u001b[?25hDownloading fastjsonschema-2.18.1-py3-none-any.whl (23 kB)\n",
            "Downloading jupyter_core-5.4.0-py3-none-any.whl (28 kB)\n",
            "Downloading jsonschema_specifications-2023.7.1-py3-none-any.whl (17 kB)\n",
            "Downloading platformdirs-3.11.0-py3-none-any.whl (17 kB)\n",
            "Downloading referencing-0.30.2-py3-none-any.whl (25 kB)\n",
            "Downloading rpds_py-0.10.6-cp310-cp310-manylinux_2_17_x86_64.manylinux2014_x86_64.whl (1.2 MB)\n",
            "\u001b[2K   \u001b[90m━━━━━━━━━━━━━━━━━━━━━━━━━━━━━━━━━━━━━━━━\u001b[0m \u001b[32m1.2/1.2 MB\u001b[0m \u001b[31m19.1 MB/s\u001b[0m eta \u001b[36m0:00:00\u001b[0m00:01\u001b[0m\n",
            "\u001b[?25hBuilding wheels for collected packages: tensorflow-docs\n",
            "  Building wheel for tensorflow-docs (setup.py) ... \u001b[?25ldone\n",
            "\u001b[?25h  Created wheel for tensorflow-docs: filename=tensorflow_docs-2023.10.27.81990-py3-none-any.whl size=184144 sha256=290c79ec0a2ca89ac44c8e915de66b357613d5d7bad8aa214e10bed75ad2d803\n",
            "  Stored in directory: /tmp/pip-ephem-wheel-cache-o8tqg3ex/wheels/86/0f/1e/3b62293c8ffd0fd5a49508e6871cdb7554abe9c62afd35ec53\n",
            "Successfully built tensorflow-docs\n",
            "Installing collected packages: fastjsonschema, rpds-py, platformdirs, jinja2, attrs, astor, referencing, jupyter-core, jsonschema-specifications, jsonschema, nbformat, tensorflow-docs\n",
            "Successfully installed astor-0.8.1 attrs-23.1.0 fastjsonschema-2.18.1 jinja2-3.1.2 jsonschema-4.19.1 jsonschema-specifications-2023.7.1 jupyter-core-5.4.0 nbformat-5.9.2 platformdirs-3.11.0 referencing-0.30.2 rpds-py-0.10.6 tensorflow-docs-2023.10.27.81990\n",
            "Note: you may need to restart the kernel to use updated packages.\n"
          ]
        }
      ],
      "source": [
        "%pip install --upgrade pip\n",
        "%pip install tensorflow[and-cuda]\n",
        "%pip install -q \"tf-models-official\"\n",
        "\n",
        "# Install the mediapy package for visualizing images/videos.\n",
        "# See https://github.com/google/mediapy\n",
        "!command -v ffmpeg >/dev/null || (apt update && apt install -y ffmpeg)\n",
        "%pip install mediapy remotezip\n",
        "%pip install git+https://github.com/tensorflow/docs"
      ]
    },
    {
      "cell_type": "code",
      "execution_count": 2,
      "metadata": {},
      "outputs": [
        {
          "name": "stdout",
          "output_type": "stream",
          "text": [
            "Package              Version  Latest      Type\n",
            "-------------------- -------- ----------- -----\n",
            "absl-py              1.4.0    2.0.0       wheel\n",
            "google-auth-oauthlib 1.0.0    1.1.0       wheel\n",
            "ml-dtypes            0.2.0    0.3.1       wheel\n",
            "nvidia-cudnn-cu11    8.7.0.84 8.9.4.25    wheel\n",
            "nvidia-nccl-cu11     2.16.5   2.19.3      wheel\n",
            "protobuf             3.20.3   4.24.4      wheel\n",
            "setuptools           65.5.0   68.2.2      wheel\n",
            "tensorboard          2.14.1   2.15.0      wheel\n",
            "tensorrt             8.5.3.1  8.6.1.post1 sdist\n",
            "wrapt                1.14.1   1.15.0      wheel\n",
            "Note: you may need to restart the kernel to use updated packages.\n"
          ]
        }
      ],
      "source": [
        "%pip list --outdated"
      ]
    },
    {
      "cell_type": "code",
      "execution_count": 3,
      "metadata": {},
      "outputs": [
        {
          "name": "stdout",
          "output_type": "stream",
          "text": [
            "Note: you may need to restart the kernel to use updated packages.\n"
          ]
        }
      ],
      "source": [
        "%pip install -q imageio numpy seaborn ipywidgets\n",
        "# !wget https://storage.googleapis.com/thumos14_files/UCF101_videos.zip"
      ]
    },
    {
      "cell_type": "code",
      "execution_count": 32,
      "metadata": {},
      "outputs": [
        {
          "name": "stdout",
          "output_type": "stream",
          "text": [
            "Requirement already satisfied: scikit-learn in ./.venv/lib/python3.10/site-packages (1.3.0)\n",
            "Requirement already satisfied: numpy>=1.17.3 in ./.venv/lib/python3.10/site-packages (from scikit-learn) (1.24.3)\n",
            "Requirement already satisfied: scipy>=1.5.0 in ./.venv/lib/python3.10/site-packages (from scikit-learn) (1.11.2)\n",
            "Requirement already satisfied: joblib>=1.1.1 in ./.venv/lib/python3.10/site-packages (from scikit-learn) (1.3.2)\n",
            "Requirement already satisfied: threadpoolctl>=2.0.0 in ./.venv/lib/python3.10/site-packages (from scikit-learn) (3.2.0)\n",
            "Note: you may need to restart the kernel to use updated packages.\n"
          ]
        }
      ],
      "source": [
        "%pip install scikit-learn"
      ]
    },
    {
      "cell_type": "markdown",
      "metadata": {
        "id": "K-clGdjV7nF5"
      },
      "source": [
        "## Import necessary libraries"
      ]
    },
    {
      "cell_type": "code",
      "execution_count": 1,
      "metadata": {
        "id": "AklLemGhc_Jm"
      },
      "outputs": [
        {
          "name": "stderr",
          "output_type": "stream",
          "text": [
            "2023-11-01 19:09:50.844653: E tensorflow/compiler/xla/stream_executor/cuda/cuda_dnn.cc:9342] Unable to register cuDNN factory: Attempting to register factory for plugin cuDNN when one has already been registered\n",
            "2023-11-01 19:09:50.844715: E tensorflow/compiler/xla/stream_executor/cuda/cuda_fft.cc:609] Unable to register cuFFT factory: Attempting to register factory for plugin cuFFT when one has already been registered\n",
            "2023-11-01 19:09:50.847884: E tensorflow/compiler/xla/stream_executor/cuda/cuda_blas.cc:1518] Unable to register cuBLAS factory: Attempting to register factory for plugin cuBLAS when one has already been registered\n",
            "2023-11-01 19:09:51.071040: I tensorflow/core/platform/cpu_feature_guard.cc:182] This TensorFlow binary is optimized to use available CPU instructions in performance-critical operations.\n",
            "To enable the following instructions: AVX2 FMA, in other operations, rebuild TensorFlow with the appropriate compiler flags.\n"
          ]
        }
      ],
      "source": [
        "import tensorflow as tf\n",
        "import os\n",
        "import tqdm\n",
        "import random\n",
        "import pathlib\n",
        "import imageio\n",
        "import itertools\n",
        "import collections\n",
        "\n",
        "import cv2\n",
        "import numpy as np\n",
        "import remotezip as rz\n",
        "import seaborn as sns\n",
        "import zipfile\n",
        "import matplotlib.pyplot as plt\n",
        "from tensorflow_docs.vis import embed\n",
        "\n",
        "import tensorflow_hub as hub\n",
        "from tensorflow.keras import layers\n",
        "from tensorflow.keras.losses import SparseCategoricalCrossentropy\n",
        "import functools\n",
        "import tensorboard\n"
      ]
    },
    {
      "cell_type": "code",
      "execution_count": 2,
      "metadata": {},
      "outputs": [
        {
          "name": "stdout",
          "output_type": "stream",
          "text": [
            "Linked TensorRT version (8, 4, 3)\n",
            "Loaded TensorRT version (8, 5, 3)\n"
          ]
        },
        {
          "data": {
            "text/plain": [
              "True"
            ]
          },
          "execution_count": 2,
          "metadata": {},
          "output_type": "execute_result"
        }
      ],
      "source": [
        "from tensorflow.compiler.tf2tensorrt._pywrap_py_utils import get_linked_tensorrt_version\n",
        "from tensorflow.compiler.tf2tensorrt._pywrap_py_utils import get_loaded_tensorrt_version\n",
        "\n",
        "print(f\"Linked TensorRT version {get_linked_tensorrt_version()}\")\n",
        "print(f\"Loaded TensorRT version {get_loaded_tensorrt_version()}\")\n",
        "tf.test.is_built_with_cuda()"
      ]
    },
    {
      "cell_type": "code",
      "execution_count": 2,
      "metadata": {},
      "outputs": [],
      "source": [
        "%load_ext tensorboard"
      ]
    },
    {
      "cell_type": "markdown",
      "metadata": {
        "id": "epVTJ5BH7ps3"
      },
      "source": [
        "## Import the MoViNet model from TensorFlow Models (tf-models-official)"
      ]
    },
    {
      "cell_type": "code",
      "execution_count": 2,
      "metadata": {
        "id": "xli9cfvw7s3t"
      },
      "outputs": [],
      "source": [
        "from official.projects.movinet.modeling import movinet\n",
        "from official.projects.movinet.modeling import movinet_model\n",
        "from official.projects.movinet.tools import export_saved_model"
      ]
    },
    {
      "cell_type": "markdown",
      "metadata": {
        "id": "pbMYvcJX76KP"
      },
      "source": [
        "## Download Subdataset of UCF_101"
      ]
    },
    {
      "cell_type": "code",
      "execution_count": 3,
      "metadata": {
        "cellView": "form",
        "id": "F5XwQuLzd5Id"
      },
      "outputs": [],
      "source": [
        "# @title Helper functions for loading data and visualizing\n",
        "def list_files_per_class(zip_url):\n",
        "  \"\"\"\n",
        "    List the files in each class of the dataset given the zip URL.\n",
        "\n",
        "    Args:\n",
        "      zip_url: URL from which the files can be unzipped.\n",
        "\n",
        "    Return:\n",
        "      files: List of files in each of the classes.\n",
        "  \"\"\"\n",
        "  files = []\n",
        "  with zipfile.ZipFile(zip_url) as zip:\n",
        "  # with rz.RemoteZip(zip_url) as zip:\n",
        "    for zip_info in zip.infolist():\n",
        "      files.append(zip_info.filename)\n",
        "  return files\n",
        "\n",
        "def get_class(fname):\n",
        "  \"\"\"\n",
        "    Retrieve the name of the class given a filename.\n",
        "\n",
        "    Args:\n",
        "      fname: Name of the file in the UCF101 dataset.\n",
        "\n",
        "    Return:\n",
        "      Class that the file belongs to.\n",
        "  \"\"\"\n",
        "  return fname.split('_')[-3]\n",
        "\n",
        "def get_files_per_class(files):\n",
        "  \"\"\"\n",
        "    Retrieve the files that belong to each class.\n",
        "\n",
        "    Args:\n",
        "      files: List of files in the dataset.\n",
        "\n",
        "    Return:\n",
        "      Dictionary of class names (key) and files (values).\n",
        "  \"\"\"\n",
        "  files_for_class = collections.defaultdict(list)\n",
        "  for fname in files:\n",
        "    class_name = get_class(fname)\n",
        "    files_for_class[class_name].append(fname)\n",
        "  return files_for_class\n",
        "\n",
        "def download_from_zip(zip_url, to_dir, file_names):\n",
        "  \"\"\"\n",
        "    Download the contents of the zip file from the zip URL.\n",
        "\n",
        "    Args:\n",
        "      zip_url: Zip URL containing data.\n",
        "      to_dir: Directory to download data to.\n",
        "      file_names: Names of files to download.\n",
        "  \"\"\"\n",
        "  with zipfile.ZipFile(zip_url) as zip:\n",
        "  # with rz.RemoteZip(zip_url) as zip:\n",
        "    for fn in tqdm.tqdm(file_names):\n",
        "      class_name = get_class(fn)\n",
        "      zip.extract(fn, str(to_dir / class_name))\n",
        "      unzipped_file = to_dir / class_name / fn\n",
        "\n",
        "      fn = pathlib.Path(fn).parts[-1]\n",
        "      output_file = to_dir / class_name / fn\n",
        "      unzipped_file.rename(output_file,)\n",
        "\n",
        "def split_class_lists(files_for_class, count):\n",
        "  \"\"\"\n",
        "    Returns the list of files belonging to a subset of data as well as the remainder of\n",
        "    files that need to be downloaded.\n",
        "\n",
        "    Args:\n",
        "      files_for_class: Files belonging to a particular class of data.\n",
        "      count: Number of files to download.\n",
        "\n",
        "    Return:\n",
        "      split_files: Files belonging to the subset of data.\n",
        "      remainder: Dictionary of the remainder of files that need to be downloaded.\n",
        "  \"\"\"\n",
        "  split_files = []\n",
        "  remainder = {}\n",
        "  for cls in files_for_class:\n",
        "    split_files.extend(files_for_class[cls][:count])\n",
        "    remainder[cls] = files_for_class[cls][count:]\n",
        "  return split_files, remainder\n",
        "\n",
        "def download_ufc_101_subset(zip_url, num_classes, splits, download_dir):\n",
        "  \"\"\"\n",
        "    Download a subset of the UFC101 dataset and split them into various parts, such as\n",
        "    training, validation, and test.\n",
        "\n",
        "    Args:\n",
        "      zip_url: Zip URL containing data.\n",
        "      num_classes: Number of labels.\n",
        "      splits: Dictionary specifying the training, validation, test, etc. (key) division of data\n",
        "              (value is number of files per split).\n",
        "      download_dir: Directory to download data to.\n",
        "\n",
        "    Return:\n",
        "      dir: Posix path of the resulting directories containing the splits of data.\n",
        "  \"\"\"\n",
        "  files = list_files_per_class(zip_url)\n",
        "  for f in files:\n",
        "    tokens = f.split('/')\n",
        "    if len(tokens) <= 2:\n",
        "      files.remove(f) # Remove that item from the list if it does not have a filename\n",
        "\n",
        "  files_for_class = get_files_per_class(files)\n",
        "\n",
        "  classes = list(files_for_class.keys())[:num_classes]\n",
        "\n",
        "  for cls in classes:\n",
        "    new_files_for_class = files_for_class[cls]\n",
        "    random.shuffle(new_files_for_class)\n",
        "    files_for_class[cls] = new_files_for_class\n",
        "\n",
        "  # Only use the number of classes you want in the dictionary\n",
        "  files_for_class = {x: files_for_class[x] for x in list(files_for_class)[:num_classes]}\n",
        "\n",
        "  dirs = {}\n",
        "  for split_name, split_count in splits.items():\n",
        "    print(split_name, \":\")\n",
        "    split_dir = download_dir / split_name\n",
        "    split_files, files_for_class = split_class_lists(files_for_class, split_count)\n",
        "    download_from_zip(zip_url, split_dir, split_files)\n",
        "    dirs[split_name] = split_dir\n",
        "\n",
        "  return dirs\n",
        "\n",
        "def format_frames(frame, output_size):\n",
        "  \"\"\"\n",
        "    Pad and resize an image from a video.\n",
        "\n",
        "    Args:\n",
        "      frame: Image that needs to resized and padded.\n",
        "      output_size: Pixel size of the output frame image.\n",
        "\n",
        "    Return:\n",
        "      Formatted frame with padding of specified output size.\n",
        "  \"\"\"\n",
        "  frame = tf.image.convert_image_dtype(frame, tf.float32)\n",
        "  frame = tf.image.resize_with_pad(frame, *output_size)\n",
        "  return frame\n",
        "\n",
        "def frames_from_video_file(video_path, n_frames, output_size = (172,172), frame_step = 15):\n",
        "  \"\"\"\n",
        "    Creates frames from each video file present for each category.\n",
        "\n",
        "    Args:\n",
        "      video_path: File path to the video.\n",
        "      n_frames: Number of frames to be created per video file.\n",
        "      output_size: Pixel size of the output frame image.\n",
        "\n",
        "    Return:\n",
        "      An NumPy array of frames in the shape of (n_frames, height, width, channels).\n",
        "  \"\"\"\n",
        "  # Read each video frame by frame\n",
        "  result = []\n",
        "  src = cv2.VideoCapture(str(video_path))\n",
        "\n",
        "  video_length = src.get(cv2.CAP_PROP_FRAME_COUNT)\n",
        "\n",
        "  need_length = 1 + (n_frames - 1) * frame_step\n",
        "\n",
        "  if need_length > video_length:\n",
        "    start = 0\n",
        "  else:\n",
        "    max_start = video_length - need_length\n",
        "    start = random.randint(0, max_start + 1)\n",
        "\n",
        "  src.set(cv2.CAP_PROP_POS_FRAMES, start)\n",
        "  # ret is a boolean indicating whether read was successful, frame is the image itself\n",
        "  ret, frame = src.read()\n",
        "  result.append(format_frames(frame, output_size))\n",
        "\n",
        "  for _ in range(n_frames - 1):\n",
        "    for _ in range(frame_step):\n",
        "      ret, frame = src.read()\n",
        "    if ret:\n",
        "      frame = format_frames(frame, output_size)\n",
        "      result.append(frame)\n",
        "    else:\n",
        "      result.append(np.zeros_like(result[0]))\n",
        "  src.release()\n",
        "  result = np.array(result)[..., [2, 1, 0]]\n",
        "\n",
        "  return result\n",
        "\n",
        "def to_gif(images):\n",
        "  converted_images = np.clip(images * 255, 0, 255).astype(np.uint8)\n",
        "  imageio.mimsave('./animation.gif', converted_images, duration=200, loop=0)\n",
        "  return embed.embed_file('./animation.gif')\n",
        "\n",
        "\n",
        "class FrameGenerator:\n",
        "  def __init__(self, path: pathlib.PosixPath, n_frames, training = False):\n",
        "    \"\"\" Returns a set of frames with their associated label.\n",
        "\n",
        "      Args:\n",
        "        path: Video file paths.\n",
        "        n_frames: Number of frames.\n",
        "        training: Boolean to determine if training dataset is being created.\n",
        "    \"\"\"\n",
        "    self.path = path\n",
        "    self.n_frames = n_frames\n",
        "    self.training = training\n",
        "    self.class_names = sorted(set(p.name for p in self.path.iterdir() if p.is_dir()))\n",
        "    self.class_ids_for_name = dict((name, idx) for idx, name in enumerate(self.class_names))\n",
        "\n",
        "  def get_files_and_class_names(self):\n",
        "    video_paths = list(self.path.glob('*/*.avi'))\n",
        "    classes = [p.parent.name for p in video_paths]\n",
        "    return video_paths, classes\n",
        "\n",
        "  def __call__(self):\n",
        "    video_paths, classes = self.get_files_and_class_names()\n",
        "\n",
        "    pairs = list(zip(video_paths, classes))\n",
        "\n",
        "    if self.training:\n",
        "      random.shuffle(pairs)\n",
        "\n",
        "    for path, name in pairs:\n",
        "      video_frames = frames_from_video_file(path, self.n_frames)\n",
        "      label = self.class_ids_for_name[name] # Encode labels\n",
        "      yield video_frames, label\n",
        "num_classes = None"
      ]
    },
    {
      "cell_type": "code",
      "execution_count": 10,
      "metadata": {
        "id": "JbHsejeveDFW"
      },
      "outputs": [
        {
          "name": "stdout",
          "output_type": "stream",
          "text": [
            "train1 :\n"
          ]
        },
        {
          "name": "stderr",
          "output_type": "stream",
          "text": [
            "100%|██████████| 5913/5913 [01:32<00:00, 63.82it/s] \n"
          ]
        },
        {
          "name": "stdout",
          "output_type": "stream",
          "text": [
            "val :\n"
          ]
        },
        {
          "name": "stderr",
          "output_type": "stream",
          "text": [
            "100%|██████████| 528/528 [00:05<00:00, 89.94it/s] \n"
          ]
        }
      ],
      "source": [
        "# Helper functions below used are taken from following tutorials\n",
        "# https://www.tensorflow.org/tutorials/video/video_classification\n",
        "# https://www.tensorflow.org/tutorials/video/transfer_learning_with_movinet\n",
        "\n",
        "# URL = 'https://storage.googleapis.com/thumos14_files/UCF101_videos.zip'\n",
        "URL = pathlib.Path(os.path.join(os.path.abspath(''), 'UCF101_videos.zip'))\n",
        "!rm -r ./UCF101_subset\n",
        "download_dir = pathlib.Path('./UCF101_subset/')\n",
        "num_classes = 101\n",
        "subset_paths = download_ufc_101_subset(URL,\n",
        "                        num_classes = num_classes,\n",
        "                        splits = {\"train1\": 60, \"val\": 10},\n",
        "                        download_dir = download_dir)"
      ]
    },
    {
      "cell_type": "markdown",
      "metadata": {
        "id": "Riw5ZQDx8aA0"
      },
      "source": [
        "## Prepare train, valid and test dataset"
      ]
    },
    {
      "cell_type": "code",
      "execution_count": 4,
      "metadata": {
        "id": "CJ2xmsdVeGMM"
      },
      "outputs": [
        {
          "name": "stdout",
          "output_type": "stream",
          "text": [
            "['ApplyEyeMakeup', 'ApplyLipstick', 'Archery', 'BabyCrawling', 'BalanceBeam', 'BandMarching', 'BaseballPitch', 'Basketball', 'BasketballDunk', 'BenchPress', 'Biking', 'Billiards', 'BlowDryHair', 'BlowingCandles', 'BodyWeightSquats', 'Bowling', 'BoxingPunchingBag', 'BoxingSpeedBag', 'BreastStroke', 'BrushingTeeth', 'CleanAndJerk', 'CliffDiving', 'CricketBowling', 'CricketShot', 'CuttingInKitchen', 'Diving', 'Drumming', 'Fencing', 'FieldHockeyPenalty', 'FloorGymnastics', 'FrisbeeCatch', 'FrontCrawl', 'GolfSwing', 'Haircut', 'HammerThrow', 'Hammering', 'HandstandPushups', 'HandstandWalking', 'HeadMassage', 'HighJump', 'HorseRace', 'HorseRiding', 'HulaHoop', 'IceDancing', 'JavelinThrow', 'JugglingBalls', 'JumpRope', 'JumpingJack', 'Kayaking', 'Knitting', 'LongJump', 'Lunges', 'MilitaryParade', 'Mixing', 'MoppingFloor', 'Nunchucks', 'ParallelBars', 'PizzaTossing', 'PlayingCello', 'PlayingDaf', 'PlayingDhol', 'PlayingFlute', 'PlayingGuitar', 'PlayingPiano', 'PlayingSitar', 'PlayingTabla', 'PlayingViolin', 'PoleVault', 'PommelHorse', 'PullUps', 'Punch', 'PushUps', 'Rafting', 'RockClimbingIndoor', 'RopeClimbing', 'Rowing', 'SalsaSpin', 'ShavingBeard', 'Shotput', 'SkateBoarding', 'Skiing', 'Skijet', 'SkyDiving', 'SoccerJuggling', 'SoccerPenalty', 'StillRings', 'SumoWrestling', 'Surfing', 'Swing', 'TableTennisShot', 'TaiChi', 'TennisSwing', 'ThrowDiscus', 'TrampolineJumping', 'Typing', 'UnevenBars', 'VolleyballSpiking', 'WalkingWithDog', 'WallPushups', 'WritingOnBoard', 'YoYo']\n"
          ]
        },
        {
          "name": "stderr",
          "output_type": "stream",
          "text": [
            "2023-11-01 19:10:06.786334: I tensorflow/compiler/xla/stream_executor/cuda/cuda_gpu_executor.cc:880] could not open file to read NUMA node: /sys/bus/pci/devices/0000:06:00.0/numa_node\n",
            "Your kernel may have been built without NUMA support.\n",
            "2023-11-01 19:10:06.831775: I tensorflow/compiler/xla/stream_executor/cuda/cuda_gpu_executor.cc:880] could not open file to read NUMA node: /sys/bus/pci/devices/0000:06:00.0/numa_node\n",
            "Your kernel may have been built without NUMA support.\n",
            "2023-11-01 19:10:06.832004: I tensorflow/compiler/xla/stream_executor/cuda/cuda_gpu_executor.cc:880] could not open file to read NUMA node: /sys/bus/pci/devices/0000:06:00.0/numa_node\n",
            "Your kernel may have been built without NUMA support.\n",
            "2023-11-01 19:10:06.835612: I tensorflow/compiler/xla/stream_executor/cuda/cuda_gpu_executor.cc:880] could not open file to read NUMA node: /sys/bus/pci/devices/0000:06:00.0/numa_node\n",
            "Your kernel may have been built without NUMA support.\n",
            "2023-11-01 19:10:06.835851: I tensorflow/compiler/xla/stream_executor/cuda/cuda_gpu_executor.cc:880] could not open file to read NUMA node: /sys/bus/pci/devices/0000:06:00.0/numa_node\n",
            "Your kernel may have been built without NUMA support.\n",
            "2023-11-01 19:10:06.836104: I tensorflow/compiler/xla/stream_executor/cuda/cuda_gpu_executor.cc:880] could not open file to read NUMA node: /sys/bus/pci/devices/0000:06:00.0/numa_node\n",
            "Your kernel may have been built without NUMA support.\n",
            "2023-11-01 19:10:08.484492: I tensorflow/compiler/xla/stream_executor/cuda/cuda_gpu_executor.cc:880] could not open file to read NUMA node: /sys/bus/pci/devices/0000:06:00.0/numa_node\n",
            "Your kernel may have been built without NUMA support.\n",
            "2023-11-01 19:10:08.484730: I tensorflow/compiler/xla/stream_executor/cuda/cuda_gpu_executor.cc:880] could not open file to read NUMA node: /sys/bus/pci/devices/0000:06:00.0/numa_node\n",
            "Your kernel may have been built without NUMA support.\n",
            "2023-11-01 19:10:08.484743: I tensorflow/core/common_runtime/gpu/gpu_device.cc:1977] Could not identify NUMA node of platform GPU id 0, defaulting to 0.  Your kernel may not have been built with NUMA support.\n",
            "2023-11-01 19:10:08.484971: I tensorflow/compiler/xla/stream_executor/cuda/cuda_gpu_executor.cc:880] could not open file to read NUMA node: /sys/bus/pci/devices/0000:06:00.0/numa_node\n",
            "Your kernel may have been built without NUMA support.\n",
            "2023-11-01 19:10:08.484995: I tensorflow/core/common_runtime/gpu/gpu_device.cc:1886] Created device /job:localhost/replica:0/task:0/device:GPU:0 with 5892 MB memory:  -> device: 0, name: NVIDIA GeForce RTX 2080, pci bus id: 0000:06:00.0, compute capability: 7.5\n"
          ]
        }
      ],
      "source": [
        "batch_size = 8\n",
        "num_frames = 8\n",
        "if num_classes == None:\n",
        "    num_classes = 101\n",
        "CLASSES = sorted(os.listdir('./UCF101_subset/train1'))\n",
        "print(CLASSES)\n",
        "# print(subset_paths)\n",
        "subset_paths = {'train1': pathlib.PosixPath('UCF101_subset/train1/'), 'val': pathlib.PosixPath('UCF101_subset/val/'), 'test': pathlib.PosixPath('UCF101_subset/test/')}\n",
        "output_signature = (tf.TensorSpec(shape = (None, None, None, 3), dtype = tf.float32),\n",
        "                    tf.TensorSpec(shape = (), dtype = tf.int16))\n",
        "\n",
        "train1_ds = tf.data.Dataset.from_generator(FrameGenerator(subset_paths['train1'], num_frames, training = True),\n",
        "                                          output_signature = output_signature)\n",
        "train1_ds = train1_ds.batch(batch_size)\n",
        "# train2_ds = tf.data.Dataset.from_generator(FrameGenerator(subset_paths['train2'], num_frames, training = True),\n",
        "#                                           output_signature = output_signature)\n",
        "# train2_ds = train2_ds.batch(batch_size)\n",
        "# train3_ds = tf.data.Dataset.from_generator(FrameGenerator(subset_paths['train3'], num_frames, training = True),\n",
        "#                                           output_signature = output_signature)\n",
        "# train3_ds = train3_ds.batch(batch_size)\n",
        "\n",
        "\n",
        "val_ds = tf.data.Dataset.from_generator(FrameGenerator(subset_paths['val'], num_frames),\n",
        "                                          output_signature = output_signature)\n",
        "val_ds = val_ds.batch(batch_size)\n",
        "\n",
        "test_ds = tf.data.Dataset.from_generator(FrameGenerator(subset_paths['test'], num_frames),\n",
        "                                         output_signature = output_signature)\n",
        "test_ds = test_ds.batch(batch_size)"
      ]
    },
    {
      "cell_type": "code",
      "execution_count": 5,
      "metadata": {
        "id": "SXk55UYDmGxl"
      },
      "outputs": [
        {
          "name": "stdout",
          "output_type": "stream",
          "text": [
            "101 101 101\n"
          ]
        }
      ],
      "source": [
        "fg = FrameGenerator(subset_paths['train1'], num_frames, training = True)\n",
        "label_names = list(fg.class_ids_for_name)\n",
        "fg2 = FrameGenerator(subset_paths['test'], num_frames)\n",
        "label_names_t = list(fg2.class_ids_for_name)\n",
        "fg3= FrameGenerator(subset_paths['val'], num_frames)\n",
        "label_names_v = list(fg3.class_ids_for_name)\n",
        "print(len(label_names), len(label_names_t), len(label_names_v))"
      ]
    },
    {
      "cell_type": "markdown",
      "metadata": {
        "id": "HuyVEA5l8myh"
      },
      "source": [
        "### Check the prepared training batch of the data"
      ]
    },
    {
      "cell_type": "code",
      "execution_count": 6,
      "metadata": {
        "id": "5tPCI35TeihA"
      },
      "outputs": [
        {
          "name": "stdout",
          "output_type": "stream",
          "text": [
            "Shape: (4, 8, 172, 172, 3)\n",
            "Label: (4,)\n"
          ]
        }
      ],
      "source": [
        "for frames, labels in train1_ds.take(1):\n",
        "  print(f\"Shape: {frames.shape}\")\n",
        "  print(f\"Label: {labels.shape}\")"
      ]
    },
    {
      "cell_type": "markdown",
      "metadata": {
        "id": "aNk_b5gk8s-g"
      },
      "source": [
        "## Build the model"
      ]
    },
    {
      "cell_type": "markdown",
      "metadata": {
        "id": "fmdzt6Eu9Afp"
      },
      "source": [
        "### Construct the backbone with proper parameters"
      ]
    },
    {
      "cell_type": "code",
      "execution_count": 5,
      "metadata": {
        "id": "msnxCHSa9Cb2"
      },
      "outputs": [],
      "source": [
        "model_id = 'a0'\n",
        "use_positional_encoding = model_id in {'a3', 'a4', 'a5'}\n",
        "resolution = 172\n",
        "\n",
        "backbone = movinet.Movinet(\n",
        "    model_id=model_id,\n",
        "    causal=True,\n",
        "    conv_type='2plus1d',\n",
        "    se_type='2plus3d',\n",
        "    activation='swish',\n",
        "    gating_activation='hard_sigmoid',\n",
        "    use_positional_encoding=use_positional_encoding,\n",
        "    use_external_states=False,\n",
        ")"
      ]
    },
    {
      "cell_type": "markdown",
      "metadata": {
        "id": "iSCnGqY69IzG"
      },
      "source": [
        "### Construct the model"
      ]
    },
    {
      "cell_type": "code",
      "execution_count": 6,
      "metadata": {
        "id": "n5m9qZ__eo92"
      },
      "outputs": [],
      "source": [
        "# Note: this is a temporary model constructed for the\n",
        "# purpose of loading the pre-trained checkpoint. Only\n",
        "# the backbone will be used to build the custom classifier.\n",
        "\n",
        "model = movinet_model.MovinetClassifier(\n",
        "    backbone,\n",
        "    num_classes=600,\n",
        "    output_states=True)\n",
        "\n",
        "# Create your example input here.\n",
        "# Refer to the paper for recommended input shapes.\n",
        "inputs = tf.ones([1, 13, 172, 172, 3])\n",
        "\n",
        "# [Optional] Build the model and load a pretrained checkpoint.\n",
        "model.build(inputs.shape)"
      ]
    },
    {
      "cell_type": "markdown",
      "metadata": {
        "id": "6jfwRvD59RyX"
      },
      "source": [
        "### Load the pretrained weights"
      ]
    },
    {
      "cell_type": "code",
      "execution_count": 7,
      "metadata": {
        "id": "g7y8zwcz9SJA"
      },
      "outputs": [
        {
          "data": {
            "text/plain": [
              "<tensorflow.python.checkpoint.checkpoint.CheckpointLoadStatus at 0x7fcb8cc7f400>"
            ]
          },
          "execution_count": 7,
          "metadata": {},
          "output_type": "execute_result"
        }
      ],
      "source": [
        "# Extract pretrained weights\n",
        "# !wget https://storage.googleapis.com/tf_model_garden/vision/movinet/movinet_a0_stream.tar.gz -O movinet_a0_stream.tar.gz -q\n",
        "# !tar -xvf movinet_a0_stream.tar.gz\n",
        "\n",
        "checkpoint_dir = 'movinet_a0_stream'\n",
        "checkpoint_path = tf.train.latest_checkpoint(checkpoint_dir)\n",
        "checkpoint = tf.train.Checkpoint(model=model)\n",
        "status = checkpoint.restore(checkpoint_path)\n",
        "status.assert_existing_objects_matched()"
      ]
    },
    {
      "cell_type": "markdown",
      "metadata": {
        "id": "X0MyBsZnTrnh"
      },
      "source": [
        "### Set up the distribution strategy"
      ]
    },
    {
      "cell_type": "code",
      "execution_count": 6,
      "metadata": {
        "id": "IHyqT0csQvRl"
      },
      "outputs": [
        {
          "name": "stdout",
          "output_type": "stream",
          "text": [
            "Running on single GPU  /device:GPU:0\n",
            "Number of accelerators:  1\n"
          ]
        }
      ],
      "source": [
        "# Detect hardware\n",
        "try:\n",
        "  tpu_resolver = tf.distribute.cluster_resolver.TPUClusterResolver() # TPU detection\n",
        "except ValueError:\n",
        "  tpu_resolver = None\n",
        "  gpus = tf.config.experimental.list_logical_devices(\"GPU\")\n",
        "\n",
        "# Select appropriate distribution strategy\n",
        "if tpu_resolver:\n",
        "  tf.config.experimental_connect_to_cluster(tpu_resolver)\n",
        "  tf.tpu.experimental.initialize_tpu_system(tpu_resolver)\n",
        "  distribution_strategy = tf.distribute.experimental.TPUStrategy(tpu_resolver)\n",
        "  print('Running on TPU ', tpu_resolver.cluster_spec().as_dict()['worker'])\n",
        "elif len(gpus) > 1:\n",
        "  distribution_strategy = tf.distribute.MirroredStrategy([gpu.name for gpu in gpus])\n",
        "  print('Running on multiple GPUs ', [gpu.name for gpu in gpus])\n",
        "elif len(gpus) == 1:\n",
        "  distribution_strategy = tf.distribute.get_strategy() # default strategy that works on CPU and single GPU\n",
        "  print('Running on single GPU ', gpus[0].name)\n",
        "else:\n",
        "  distribution_strategy = tf.distribute.get_strategy() # default strategy that works on CPU and single GPU\n",
        "  print('Running on CPU')\n",
        "\n",
        "print(\"Number of accelerators: \", distribution_strategy.num_replicas_in_sync)"
      ]
    },
    {
      "cell_type": "markdown",
      "metadata": {
        "id": "CmPbIku_9ejS"
      },
      "source": [
        "### Construct custom classifier with required number of classes"
      ]
    },
    {
      "cell_type": "code",
      "execution_count": 7,
      "metadata": {
        "id": "lpXf9GFWlE2-"
      },
      "outputs": [],
      "source": [
        "def build_classifier(batch_size, num_frames, resolution, backbone, num_classes):\n",
        "  \"\"\"Builds a classifier on top of a backbone model.\"\"\"\n",
        "  model = movinet_model.MovinetClassifier(\n",
        "      backbone=backbone,\n",
        "      num_classes=num_classes)\n",
        "  model.build([batch_size, num_frames, resolution, resolution, 3])\n",
        "\n",
        "  return model\n",
        "\n",
        "# Construct loss, optimizer and compile the model\n",
        "with distribution_strategy.scope():\n",
        "  model = build_classifier(batch_size, num_frames, resolution, backbone, num_classes)\n",
        "  loss_obj = tf.keras.losses.SparseCategoricalCrossentropy(from_logits=True)\n",
        "  # optimizer = tf.keras.optimizers.Adam(learning_rate = 0.001)\n",
        "  optimizer = tf.keras.optimizers.AdamW()\n",
        "  model.compile(loss=loss_obj, optimizer=optimizer, metrics=['accuracy'])"
      ]
    },
    {
      "cell_type": "markdown",
      "metadata": {},
      "source": [
        "### Load previous trained checkpoint (optional)"
      ]
    },
    {
      "cell_type": "code",
      "execution_count": 8,
      "metadata": {},
      "outputs": [
        {
          "data": {
            "text/plain": [
              "<tensorflow.python.checkpoint.checkpoint.CheckpointLoadStatus at 0x7fc514723f10>"
            ]
          },
          "execution_count": 8,
          "metadata": {},
          "output_type": "execute_result"
        }
      ],
      "source": [
        "checkpoint_dir = 'trained_model1/cp.ckpt'\n",
        "model.load_weights(checkpoint_dir)\n",
        "# checkpoint_path = tf.train.latest_checkpoint(checkpoint_dir)\n",
        "# checkpoint = tf.train.Checkpoint(model=model)\n",
        "# status = checkpoint.restore(checkpoint_path)\n",
        "# status.assert_existing_objects_matched()"
      ]
    },
    {
      "cell_type": "markdown",
      "metadata": {
        "id": "j3S6pmEO9y9w"
      },
      "source": [
        "## Create a callback for storing the checkpoints"
      ]
    },
    {
      "cell_type": "code",
      "execution_count": 9,
      "metadata": {},
      "outputs": [
        {
          "name": "stdout",
          "output_type": "stream",
          "text": [
            "Model: \"movinet_classifier\"\n",
            "_________________________________________________________________\n",
            " Layer (type)                Output Shape              Param #   \n",
            "=================================================================\n",
            " image (InputLayer)          [(None, None, None, Non   0         \n",
            "                             e, 3)]                              \n",
            "                                                                 \n",
            " movinet (Movinet)           ({'stem': (None, None,    1551495   \n",
            "                             None, None, 8),                     \n",
            "                              'block0_layer0': (None             \n",
            "                             , None, None, None, 8),             \n",
            "                              'block1_layer0': (None             \n",
            "                             , None, None, None, 32)             \n",
            "                             , 'block1_layer1': (Non             \n",
            "                             e, None, None, None, 32             \n",
            "                             ),                                  \n",
            "                              'block1_layer2': (None             \n",
            "                             , None, None, None, 32)             \n",
            "                             , 'block2_layer0': (Non             \n",
            "                             e, None, None, None, 56             \n",
            "                             ),                                  \n",
            "                              'block2_layer1': (None             \n",
            "                             , None, None, None, 56)             \n",
            "                             , 'block2_layer2': (Non             \n",
            "                             e, None, None, None, 56             \n",
            "                             ),                                  \n",
            "                              'block3_layer0': (None             \n",
            "                             , None, None, None, 56)             \n",
            "                             , 'block3_layer1': (Non             \n",
            "                             e, None, None, None, 56             \n",
            "                             ),                                  \n",
            "                              'block3_layer2': (None             \n",
            "                             , None, None, None, 56)             \n",
            "                             , 'block3_layer3': (Non             \n",
            "                             e, None, None, None, 56             \n",
            "                             ),                                  \n",
            "                              'block4_layer0': (None             \n",
            "                             , None, None, None, 104             \n",
            "                             ),                                  \n",
            "                              'block4_layer1': (None             \n",
            "                             , None, None, None, 104             \n",
            "                             ),                                  \n",
            "                              'block4_layer2': (None             \n",
            "                             , None, None, None, 104             \n",
            "                             ),                                  \n",
            "                              'block4_layer3': (None             \n",
            "                             , None, None, None, 104             \n",
            "                             ),                                  \n",
            "                              'head': (None, None, N             \n",
            "                             one, None, 480)},                   \n",
            "                              {'state_block0_layer0_             \n",
            "                             pool_buffer': (None, No             \n",
            "                             ne, 1, 1, 24),                      \n",
            "                              'state_block0_layer0_p             \n",
            "                             ool_frame_count': (1,),             \n",
            "                              'state_block1_layer0_s             \n",
            "                             tream_buffer': (None, N             \n",
            "                             one, None, None, 80),               \n",
            "                              'state_block1_layer0_p             \n",
            "                             ool_buffer': (None, Non             \n",
            "                             e, 1, 1, 80),                       \n",
            "                              'state_block1_layer0_p             \n",
            "                             ool_frame_count': (1,),             \n",
            "                              'state_block1_layer1_s             \n",
            "                             tream_buffer': (None, N             \n",
            "                             one, None, None, 80),               \n",
            "                              'state_block1_layer1_p             \n",
            "                             ool_buffer': (None, Non             \n",
            "                             e, 1, 1, 80),                       \n",
            "                              'state_block1_layer1_p             \n",
            "                             ool_frame_count': (1,),             \n",
            "                              'state_block1_layer2_s             \n",
            "                             tream_buffer': (None, N             \n",
            "                             one, None, None, 80),               \n",
            "                              'state_block1_layer2_p             \n",
            "                             ool_buffer': (None, Non             \n",
            "                             e, 1, 1, 80),                       \n",
            "                              'state_block1_layer2_p             \n",
            "                             ool_frame_count': (1,),             \n",
            "                              'state_block2_layer0_s             \n",
            "                             tream_buffer': (None, N             \n",
            "                             one, None, None, 184),              \n",
            "                              'state_block2_layer0_p             \n",
            "                             ool_buffer': (None, Non             \n",
            "                             e, 1, 1, 184),                      \n",
            "                              'state_block2_layer0_p             \n",
            "                             ool_frame_count': (1,),             \n",
            "                              'state_block2_layer1_s             \n",
            "                             tream_buffer': (None, N             \n",
            "                             one, None, None, 112),              \n",
            "                              'state_block2_layer1_p             \n",
            "                             ool_buffer': (None, Non             \n",
            "                             e, 1, 1, 112),                      \n",
            "                              'state_block2_layer1_p             \n",
            "                             ool_frame_count': (1,),             \n",
            "                              'state_block2_layer2_s             \n",
            "                             tream_buffer': (None, N             \n",
            "                             one, None, None, 184),              \n",
            "                              'state_block2_layer2_p             \n",
            "                             ool_buffer': (None, Non             \n",
            "                             e, 1, 1, 184),                      \n",
            "                              'state_block2_layer2_p             \n",
            "                             ool_frame_count': (1,),             \n",
            "                              'state_block3_layer0_s             \n",
            "                             tream_buffer': (None, N             \n",
            "                             one, None, None, 184),              \n",
            "                              'state_block3_layer0_p             \n",
            "                             ool_buffer': (None, Non             \n",
            "                             e, 1, 1, 184),                      \n",
            "                              'state_block3_layer0_p             \n",
            "                             ool_frame_count': (1,),             \n",
            "                              'state_block3_layer1_s             \n",
            "                             tream_buffer': (None, N             \n",
            "                             one, None, None, 184),              \n",
            "                              'state_block3_layer1_p             \n",
            "                             ool_buffer': (None, Non             \n",
            "                             e, 1, 1, 184),                      \n",
            "                              'state_block3_layer1_p             \n",
            "                             ool_frame_count': (1,),             \n",
            "                              'state_block3_layer2_s             \n",
            "                             tream_buffer': (None, N             \n",
            "                             one, None, None, 184),              \n",
            "                              'state_block3_layer2_p             \n",
            "                             ool_buffer': (None, Non             \n",
            "                             e, 1, 1, 184),                      \n",
            "                              'state_block3_layer2_p             \n",
            "                             ool_frame_count': (1,),             \n",
            "                              'state_block3_layer3_s             \n",
            "                             tream_buffer': (None, N             \n",
            "                             one, None, None, 184),              \n",
            "                              'state_block3_layer3_p             \n",
            "                             ool_buffer': (None, Non             \n",
            "                             e, 1, 1, 184),                      \n",
            "                              'state_block3_layer3_p             \n",
            "                             ool_frame_count': (1,),             \n",
            "                              'state_block4_layer0_s             \n",
            "                             tream_buffer': (None, N             \n",
            "                             one, None, None, 384),              \n",
            "                              'state_block4_layer0_p             \n",
            "                             ool_buffer': (None, Non             \n",
            "                             e, 1, 1, 384),                      \n",
            "                              'state_block4_layer0_p             \n",
            "                             ool_frame_count': (1,),             \n",
            "                              'state_block4_layer1_p             \n",
            "                             ool_buffer': (None, Non             \n",
            "                             e, 1, 1, 280),                      \n",
            "                              'state_block4_layer1_p             \n",
            "                             ool_frame_count': (1,),             \n",
            "                              'state_block4_layer2_p             \n",
            "                             ool_buffer': (None, Non             \n",
            "                             e, 1, 1, 280),                      \n",
            "                              'state_block4_layer2_p             \n",
            "                             ool_frame_count': (1,),             \n",
            "                              'state_block4_layer3_p             \n",
            "                             ool_buffer': (None, Non             \n",
            "                             e, 1, 1, 344),                      \n",
            "                              'state_block4_layer3_p             \n",
            "                             ool_frame_count': (1,),             \n",
            "                              'state_head_pool_buffe             \n",
            "                             r': (None, None, None,              \n",
            "                             None, 480),                         \n",
            "                              'state_head_pool_frame             \n",
            "                             _count': (1,)})                     \n",
            "                                                                 \n",
            " classifier_head (Classifie  (None, 101)               1192037   \n",
            " rHead)                                                          \n",
            "                                                                 \n",
            "=================================================================\n",
            "Total params: 2743532 (10.47 MB)\n",
            "Trainable params: 2725580 (10.40 MB)\n",
            "Non-trainable params: 17952 (70.12 KB)\n",
            "_________________________________________________________________\n"
          ]
        }
      ],
      "source": [
        "model.summary()"
      ]
    },
    {
      "cell_type": "code",
      "execution_count": 10,
      "metadata": {
        "id": "Jw-TR9LBPuP_"
      },
      "outputs": [],
      "source": [
        "checkpoint_path = \"trained_model1/cp.ckpt\"\n",
        "checkpoint_dir = os.path.dirname(checkpoint_path)\n",
        "\n",
        "# Create a callback that saves the model's weights\n",
        "cp_callback = tf.keras.callbacks.ModelCheckpoint(filepath=checkpoint_path,\n",
        "                                                 save_weights_only=True,\n",
        "                                                 save_best_only=True,\n",
        "                                                 \n",
        "                                                 verbose=1)\n",
        "\n",
        "tb_callback = tf.keras.callbacks.TensorBoard(log_dir='logs/fit/')"
      ]
    },
    {
      "cell_type": "markdown",
      "metadata": {
        "id": "E99ucruN9-cu"
      },
      "source": [
        "## Train the model"
      ]
    },
    {
      "cell_type": "code",
      "execution_count": null,
      "metadata": {},
      "outputs": [],
      "source": [
        "!export PATH=\"${PATH}:/usr/local/nvidia/bin:/usr/local/cuda/bin\""
      ]
    },
    {
      "cell_type": "code",
      "execution_count": 11,
      "metadata": {
        "id": "9c7aikXAvpwz"
      },
      "outputs": [
        {
          "name": "stdout",
          "output_type": "stream",
          "text": [
            "Epoch 1/10\n"
          ]
        },
        {
          "name": "stderr",
          "output_type": "stream",
          "text": [
            "2023-10-31 21:49:54.076717: I tensorflow/compiler/xla/stream_executor/cuda/cuda_dnn.cc:442] Loaded cuDNN version 8700\n",
            "2023-10-31 21:49:56.842464: I tensorflow/compiler/xla/service/service.cc:168] XLA service 0x7fca0d313720 initialized for platform CUDA (this does not guarantee that XLA will be used). Devices:\n",
            "2023-10-31 21:49:56.842514: I tensorflow/compiler/xla/service/service.cc:176]   StreamExecutor device (0): NVIDIA GeForce RTX 2080, Compute Capability 7.5\n",
            "2023-10-31 21:49:56.856303: I tensorflow/compiler/mlir/tensorflow/utils/dump_mlir_util.cc:269] disabling MLIR crash reproducer, set env var `MLIR_CRASH_REPRODUCER_DIRECTORY` to enable.\n",
            "2023-10-31 21:49:56.982308: I ./tensorflow/compiler/jit/device_compiler.h:186] Compiled cluster using XLA!  This line is logged at most once for the lifetime of the process.\n"
          ]
        },
        {
          "name": "stdout",
          "output_type": "stream",
          "text": [
            "    740/Unknown - 580s 708ms/step - loss: 1.9996 - accuracy: 0.4815\n",
            "Epoch 1: val_loss improved from inf to 15.39806, saving model to trained_model1/cp.ckpt\n",
            "740/740 [==============================] - 634s 781ms/step - loss: 1.9996 - accuracy: 0.4815 - val_loss: 15.3981 - val_accuracy: 0.0000e+00\n",
            "Epoch 2/10\n",
            "740/740 [==============================] - ETA: 0s - loss: 0.8119 - accuracy: 0.7604\n",
            "Epoch 2: val_loss did not improve from 15.39806\n",
            "740/740 [==============================] - 530s 715ms/step - loss: 0.8119 - accuracy: 0.7604 - val_loss: 19.5933 - val_accuracy: 0.0170\n",
            "Epoch 3/10\n",
            "740/740 [==============================] - ETA: 0s - loss: 0.5363 - accuracy: 0.8407\n",
            "Epoch 3: val_loss did not improve from 15.39806\n",
            "740/740 [==============================] - 525s 709ms/step - loss: 0.5363 - accuracy: 0.8407 - val_loss: 17.3439 - val_accuracy: 0.0189\n",
            "Epoch 4/10\n",
            "740/740 [==============================] - ETA: 0s - loss: 0.4080 - accuracy: 0.8765\n",
            "Epoch 4: val_loss did not improve from 15.39806\n",
            "740/740 [==============================] - 528s 714ms/step - loss: 0.4080 - accuracy: 0.8765 - val_loss: 19.7706 - val_accuracy: 0.0189\n",
            "Epoch 5/10\n",
            "740/740 [==============================] - ETA: 0s - loss: 0.3662 - accuracy: 0.8879\n",
            "Epoch 5: val_loss did not improve from 15.39806\n",
            "740/740 [==============================] - 537s 726ms/step - loss: 0.3662 - accuracy: 0.8879 - val_loss: 20.7683 - val_accuracy: 0.0133\n",
            "Epoch 6/10\n",
            "740/740 [==============================] - ETA: 0s - loss: 0.2904 - accuracy: 0.9070\n",
            "Epoch 6: val_loss did not improve from 15.39806\n",
            "740/740 [==============================] - 571s 772ms/step - loss: 0.2904 - accuracy: 0.9070 - val_loss: 22.0927 - val_accuracy: 0.0114\n",
            "Epoch 7/10\n",
            "740/740 [==============================] - ETA: 0s - loss: 0.2888 - accuracy: 0.9117\n",
            "Epoch 7: val_loss did not improve from 15.39806\n",
            "740/740 [==============================] - 530s 716ms/step - loss: 0.2888 - accuracy: 0.9117 - val_loss: 20.0487 - val_accuracy: 0.0208\n",
            "Epoch 8/10\n",
            "740/740 [==============================] - ETA: 0s - loss: 0.2513 - accuracy: 0.9244\n",
            "Epoch 8: val_loss did not improve from 15.39806\n",
            "740/740 [==============================] - 532s 714ms/step - loss: 0.2513 - accuracy: 0.9244 - val_loss: 21.4957 - val_accuracy: 0.0265\n",
            "Epoch 9/10\n",
            "233/740 [========>.....................] - ETA: 5:35 - loss: 0.2374 - accuracy: 0.9340"
          ]
        },
        {
          "ename": "KeyboardInterrupt",
          "evalue": "",
          "output_type": "error",
          "traceback": [
            "\u001b[0;31m---------------------------------------------------------------------------\u001b[0m",
            "\u001b[0;31mKeyboardInterrupt\u001b[0m                         Traceback (most recent call last)",
            "\u001b[1;32m/home/wldnjs/on-device-action-recognition/movinet_streaming_training.ipynb 셀 38\u001b[0m line \u001b[0;36m1\n\u001b[0;32m----> <a href='vscode-notebook-cell://wsl%2Bubuntu-20.04/home/wldnjs/on-device-action-recognition/movinet_streaming_training.ipynb#X52sdnNjb2RlLXJlbW90ZQ%3D%3D?line=0'>1</a>\u001b[0m results \u001b[39m=\u001b[39m model\u001b[39m.\u001b[39;49mfit(train1_ds,\n\u001b[1;32m      <a href='vscode-notebook-cell://wsl%2Bubuntu-20.04/home/wldnjs/on-device-action-recognition/movinet_streaming_training.ipynb#X52sdnNjb2RlLXJlbW90ZQ%3D%3D?line=1'>2</a>\u001b[0m                     validation_data\u001b[39m=\u001b[39;49mval_ds,\n\u001b[1;32m      <a href='vscode-notebook-cell://wsl%2Bubuntu-20.04/home/wldnjs/on-device-action-recognition/movinet_streaming_training.ipynb#X52sdnNjb2RlLXJlbW90ZQ%3D%3D?line=2'>3</a>\u001b[0m                     epochs\u001b[39m=\u001b[39;49m\u001b[39m10\u001b[39;49m,\n\u001b[1;32m      <a href='vscode-notebook-cell://wsl%2Bubuntu-20.04/home/wldnjs/on-device-action-recognition/movinet_streaming_training.ipynb#X52sdnNjb2RlLXJlbW90ZQ%3D%3D?line=3'>4</a>\u001b[0m                     validation_freq\u001b[39m=\u001b[39;49m\u001b[39m1\u001b[39;49m,\n\u001b[1;32m      <a href='vscode-notebook-cell://wsl%2Bubuntu-20.04/home/wldnjs/on-device-action-recognition/movinet_streaming_training.ipynb#X52sdnNjb2RlLXJlbW90ZQ%3D%3D?line=4'>5</a>\u001b[0m                     verbose\u001b[39m=\u001b[39;49m\u001b[39m1\u001b[39;49m,\n\u001b[1;32m      <a href='vscode-notebook-cell://wsl%2Bubuntu-20.04/home/wldnjs/on-device-action-recognition/movinet_streaming_training.ipynb#X52sdnNjb2RlLXJlbW90ZQ%3D%3D?line=5'>6</a>\u001b[0m                     \n\u001b[1;32m      <a href='vscode-notebook-cell://wsl%2Bubuntu-20.04/home/wldnjs/on-device-action-recognition/movinet_streaming_training.ipynb#X52sdnNjb2RlLXJlbW90ZQ%3D%3D?line=6'>7</a>\u001b[0m                     callbacks\u001b[39m=\u001b[39;49m[cp_callback, tb_callback])\n",
            "File \u001b[0;32m~/on-device-action-recognition/.venv/lib/python3.10/site-packages/keras/src/utils/traceback_utils.py:65\u001b[0m, in \u001b[0;36mfilter_traceback.<locals>.error_handler\u001b[0;34m(*args, **kwargs)\u001b[0m\n\u001b[1;32m     63\u001b[0m filtered_tb \u001b[39m=\u001b[39m \u001b[39mNone\u001b[39;00m\n\u001b[1;32m     64\u001b[0m \u001b[39mtry\u001b[39;00m:\n\u001b[0;32m---> 65\u001b[0m     \u001b[39mreturn\u001b[39;00m fn(\u001b[39m*\u001b[39;49margs, \u001b[39m*\u001b[39;49m\u001b[39m*\u001b[39;49mkwargs)\n\u001b[1;32m     66\u001b[0m \u001b[39mexcept\u001b[39;00m \u001b[39mException\u001b[39;00m \u001b[39mas\u001b[39;00m e:\n\u001b[1;32m     67\u001b[0m     filtered_tb \u001b[39m=\u001b[39m _process_traceback_frames(e\u001b[39m.\u001b[39m__traceback__)\n",
            "File \u001b[0;32m~/on-device-action-recognition/.venv/lib/python3.10/site-packages/keras/src/engine/training.py:1783\u001b[0m, in \u001b[0;36mModel.fit\u001b[0;34m(self, x, y, batch_size, epochs, verbose, callbacks, validation_split, validation_data, shuffle, class_weight, sample_weight, initial_epoch, steps_per_epoch, validation_steps, validation_batch_size, validation_freq, max_queue_size, workers, use_multiprocessing)\u001b[0m\n\u001b[1;32m   1775\u001b[0m \u001b[39mwith\u001b[39;00m tf\u001b[39m.\u001b[39mprofiler\u001b[39m.\u001b[39mexperimental\u001b[39m.\u001b[39mTrace(\n\u001b[1;32m   1776\u001b[0m     \u001b[39m\"\u001b[39m\u001b[39mtrain\u001b[39m\u001b[39m\"\u001b[39m,\n\u001b[1;32m   1777\u001b[0m     epoch_num\u001b[39m=\u001b[39mepoch,\n\u001b[0;32m   (...)\u001b[0m\n\u001b[1;32m   1780\u001b[0m     _r\u001b[39m=\u001b[39m\u001b[39m1\u001b[39m,\n\u001b[1;32m   1781\u001b[0m ):\n\u001b[1;32m   1782\u001b[0m     callbacks\u001b[39m.\u001b[39mon_train_batch_begin(step)\n\u001b[0;32m-> 1783\u001b[0m     tmp_logs \u001b[39m=\u001b[39m \u001b[39mself\u001b[39;49m\u001b[39m.\u001b[39;49mtrain_function(iterator)\n\u001b[1;32m   1784\u001b[0m     \u001b[39mif\u001b[39;00m data_handler\u001b[39m.\u001b[39mshould_sync:\n\u001b[1;32m   1785\u001b[0m         context\u001b[39m.\u001b[39masync_wait()\n",
            "File \u001b[0;32m~/on-device-action-recognition/.venv/lib/python3.10/site-packages/tensorflow/python/util/traceback_utils.py:150\u001b[0m, in \u001b[0;36mfilter_traceback.<locals>.error_handler\u001b[0;34m(*args, **kwargs)\u001b[0m\n\u001b[1;32m    148\u001b[0m filtered_tb \u001b[39m=\u001b[39m \u001b[39mNone\u001b[39;00m\n\u001b[1;32m    149\u001b[0m \u001b[39mtry\u001b[39;00m:\n\u001b[0;32m--> 150\u001b[0m   \u001b[39mreturn\u001b[39;00m fn(\u001b[39m*\u001b[39;49margs, \u001b[39m*\u001b[39;49m\u001b[39m*\u001b[39;49mkwargs)\n\u001b[1;32m    151\u001b[0m \u001b[39mexcept\u001b[39;00m \u001b[39mException\u001b[39;00m \u001b[39mas\u001b[39;00m e:\n\u001b[1;32m    152\u001b[0m   filtered_tb \u001b[39m=\u001b[39m _process_traceback_frames(e\u001b[39m.\u001b[39m__traceback__)\n",
            "File \u001b[0;32m~/on-device-action-recognition/.venv/lib/python3.10/site-packages/tensorflow/python/eager/polymorphic_function/polymorphic_function.py:831\u001b[0m, in \u001b[0;36mFunction.__call__\u001b[0;34m(self, *args, **kwds)\u001b[0m\n\u001b[1;32m    828\u001b[0m compiler \u001b[39m=\u001b[39m \u001b[39m\"\u001b[39m\u001b[39mxla\u001b[39m\u001b[39m\"\u001b[39m \u001b[39mif\u001b[39;00m \u001b[39mself\u001b[39m\u001b[39m.\u001b[39m_jit_compile \u001b[39melse\u001b[39;00m \u001b[39m\"\u001b[39m\u001b[39mnonXla\u001b[39m\u001b[39m\"\u001b[39m\n\u001b[1;32m    830\u001b[0m \u001b[39mwith\u001b[39;00m OptionalXlaContext(\u001b[39mself\u001b[39m\u001b[39m.\u001b[39m_jit_compile):\n\u001b[0;32m--> 831\u001b[0m   result \u001b[39m=\u001b[39m \u001b[39mself\u001b[39;49m\u001b[39m.\u001b[39;49m_call(\u001b[39m*\u001b[39;49margs, \u001b[39m*\u001b[39;49m\u001b[39m*\u001b[39;49mkwds)\n\u001b[1;32m    833\u001b[0m new_tracing_count \u001b[39m=\u001b[39m \u001b[39mself\u001b[39m\u001b[39m.\u001b[39mexperimental_get_tracing_count()\n\u001b[1;32m    834\u001b[0m without_tracing \u001b[39m=\u001b[39m (tracing_count \u001b[39m==\u001b[39m new_tracing_count)\n",
            "File \u001b[0;32m~/on-device-action-recognition/.venv/lib/python3.10/site-packages/tensorflow/python/eager/polymorphic_function/polymorphic_function.py:867\u001b[0m, in \u001b[0;36mFunction._call\u001b[0;34m(self, *args, **kwds)\u001b[0m\n\u001b[1;32m    864\u001b[0m   \u001b[39mself\u001b[39m\u001b[39m.\u001b[39m_lock\u001b[39m.\u001b[39mrelease()\n\u001b[1;32m    865\u001b[0m   \u001b[39m# In this case we have created variables on the first call, so we run the\u001b[39;00m\n\u001b[1;32m    866\u001b[0m   \u001b[39m# defunned version which is guaranteed to never create variables.\u001b[39;00m\n\u001b[0;32m--> 867\u001b[0m   \u001b[39mreturn\u001b[39;00m tracing_compilation\u001b[39m.\u001b[39;49mcall_function(\n\u001b[1;32m    868\u001b[0m       args, kwds, \u001b[39mself\u001b[39;49m\u001b[39m.\u001b[39;49m_no_variable_creation_config\n\u001b[1;32m    869\u001b[0m   )\n\u001b[1;32m    870\u001b[0m \u001b[39melif\u001b[39;00m \u001b[39mself\u001b[39m\u001b[39m.\u001b[39m_variable_creation_config \u001b[39mis\u001b[39;00m \u001b[39mnot\u001b[39;00m \u001b[39mNone\u001b[39;00m:\n\u001b[1;32m    871\u001b[0m   \u001b[39m# Release the lock early so that multiple threads can perform the call\u001b[39;00m\n\u001b[1;32m    872\u001b[0m   \u001b[39m# in parallel.\u001b[39;00m\n\u001b[1;32m    873\u001b[0m   \u001b[39mself\u001b[39m\u001b[39m.\u001b[39m_lock\u001b[39m.\u001b[39mrelease()\n",
            "File \u001b[0;32m~/on-device-action-recognition/.venv/lib/python3.10/site-packages/tensorflow/python/eager/polymorphic_function/tracing_compilation.py:139\u001b[0m, in \u001b[0;36mcall_function\u001b[0;34m(args, kwargs, tracing_options)\u001b[0m\n\u001b[1;32m    137\u001b[0m bound_args \u001b[39m=\u001b[39m function\u001b[39m.\u001b[39mfunction_type\u001b[39m.\u001b[39mbind(\u001b[39m*\u001b[39margs, \u001b[39m*\u001b[39m\u001b[39m*\u001b[39mkwargs)\n\u001b[1;32m    138\u001b[0m flat_inputs \u001b[39m=\u001b[39m function\u001b[39m.\u001b[39mfunction_type\u001b[39m.\u001b[39munpack_inputs(bound_args)\n\u001b[0;32m--> 139\u001b[0m \u001b[39mreturn\u001b[39;00m function\u001b[39m.\u001b[39;49m_call_flat(  \u001b[39m# pylint: disable=protected-access\u001b[39;49;00m\n\u001b[1;32m    140\u001b[0m     flat_inputs, captured_inputs\u001b[39m=\u001b[39;49mfunction\u001b[39m.\u001b[39;49mcaptured_inputs\n\u001b[1;32m    141\u001b[0m )\n",
            "File \u001b[0;32m~/on-device-action-recognition/.venv/lib/python3.10/site-packages/tensorflow/python/eager/polymorphic_function/concrete_function.py:1264\u001b[0m, in \u001b[0;36mConcreteFunction._call_flat\u001b[0;34m(self, tensor_inputs, captured_inputs)\u001b[0m\n\u001b[1;32m   1260\u001b[0m possible_gradient_type \u001b[39m=\u001b[39m gradients_util\u001b[39m.\u001b[39mPossibleTapeGradientTypes(args)\n\u001b[1;32m   1261\u001b[0m \u001b[39mif\u001b[39;00m (possible_gradient_type \u001b[39m==\u001b[39m gradients_util\u001b[39m.\u001b[39mPOSSIBLE_GRADIENT_TYPES_NONE\n\u001b[1;32m   1262\u001b[0m     \u001b[39mand\u001b[39;00m executing_eagerly):\n\u001b[1;32m   1263\u001b[0m   \u001b[39m# No tape is watching; skip to running the function.\u001b[39;00m\n\u001b[0;32m-> 1264\u001b[0m   \u001b[39mreturn\u001b[39;00m \u001b[39mself\u001b[39;49m\u001b[39m.\u001b[39;49m_inference_function\u001b[39m.\u001b[39;49mflat_call(args)\n\u001b[1;32m   1265\u001b[0m forward_backward \u001b[39m=\u001b[39m \u001b[39mself\u001b[39m\u001b[39m.\u001b[39m_select_forward_and_backward_functions(\n\u001b[1;32m   1266\u001b[0m     args,\n\u001b[1;32m   1267\u001b[0m     possible_gradient_type,\n\u001b[1;32m   1268\u001b[0m     executing_eagerly)\n\u001b[1;32m   1269\u001b[0m forward_function, args_with_tangents \u001b[39m=\u001b[39m forward_backward\u001b[39m.\u001b[39mforward()\n",
            "File \u001b[0;32m~/on-device-action-recognition/.venv/lib/python3.10/site-packages/tensorflow/python/eager/polymorphic_function/atomic_function.py:217\u001b[0m, in \u001b[0;36mAtomicFunction.flat_call\u001b[0;34m(self, args)\u001b[0m\n\u001b[1;32m    215\u001b[0m \u001b[39mdef\u001b[39;00m \u001b[39mflat_call\u001b[39m(\u001b[39mself\u001b[39m, args: Sequence[core\u001b[39m.\u001b[39mTensor]) \u001b[39m-\u001b[39m\u001b[39m>\u001b[39m Any:\n\u001b[1;32m    216\u001b[0m \u001b[39m  \u001b[39m\u001b[39m\"\"\"Calls with tensor inputs and returns the structured output.\"\"\"\u001b[39;00m\n\u001b[0;32m--> 217\u001b[0m   flat_outputs \u001b[39m=\u001b[39m \u001b[39mself\u001b[39;49m(\u001b[39m*\u001b[39;49margs)\n\u001b[1;32m    218\u001b[0m   \u001b[39mreturn\u001b[39;00m \u001b[39mself\u001b[39m\u001b[39m.\u001b[39mfunction_type\u001b[39m.\u001b[39mpack_output(flat_outputs)\n",
            "File \u001b[0;32m~/on-device-action-recognition/.venv/lib/python3.10/site-packages/tensorflow/python/eager/polymorphic_function/atomic_function.py:252\u001b[0m, in \u001b[0;36mAtomicFunction.__call__\u001b[0;34m(self, *args)\u001b[0m\n\u001b[1;32m    250\u001b[0m \u001b[39mwith\u001b[39;00m record\u001b[39m.\u001b[39mstop_recording():\n\u001b[1;32m    251\u001b[0m   \u001b[39mif\u001b[39;00m \u001b[39mself\u001b[39m\u001b[39m.\u001b[39m_bound_context\u001b[39m.\u001b[39mexecuting_eagerly():\n\u001b[0;32m--> 252\u001b[0m     outputs \u001b[39m=\u001b[39m \u001b[39mself\u001b[39;49m\u001b[39m.\u001b[39;49m_bound_context\u001b[39m.\u001b[39;49mcall_function(\n\u001b[1;32m    253\u001b[0m         \u001b[39mself\u001b[39;49m\u001b[39m.\u001b[39;49mname,\n\u001b[1;32m    254\u001b[0m         \u001b[39mlist\u001b[39;49m(args),\n\u001b[1;32m    255\u001b[0m         \u001b[39mlen\u001b[39;49m(\u001b[39mself\u001b[39;49m\u001b[39m.\u001b[39;49mfunction_type\u001b[39m.\u001b[39;49mflat_outputs),\n\u001b[1;32m    256\u001b[0m     )\n\u001b[1;32m    257\u001b[0m   \u001b[39melse\u001b[39;00m:\n\u001b[1;32m    258\u001b[0m     outputs \u001b[39m=\u001b[39m make_call_op_in_graph(\n\u001b[1;32m    259\u001b[0m         \u001b[39mself\u001b[39m,\n\u001b[1;32m    260\u001b[0m         \u001b[39mlist\u001b[39m(args),\n\u001b[1;32m    261\u001b[0m         \u001b[39mself\u001b[39m\u001b[39m.\u001b[39m_bound_context\u001b[39m.\u001b[39mfunction_call_options\u001b[39m.\u001b[39mas_attrs(),\n\u001b[1;32m    262\u001b[0m     )\n",
            "File \u001b[0;32m~/on-device-action-recognition/.venv/lib/python3.10/site-packages/tensorflow/python/eager/context.py:1479\u001b[0m, in \u001b[0;36mContext.call_function\u001b[0;34m(self, name, tensor_inputs, num_outputs)\u001b[0m\n\u001b[1;32m   1477\u001b[0m cancellation_context \u001b[39m=\u001b[39m cancellation\u001b[39m.\u001b[39mcontext()\n\u001b[1;32m   1478\u001b[0m \u001b[39mif\u001b[39;00m cancellation_context \u001b[39mis\u001b[39;00m \u001b[39mNone\u001b[39;00m:\n\u001b[0;32m-> 1479\u001b[0m   outputs \u001b[39m=\u001b[39m execute\u001b[39m.\u001b[39;49mexecute(\n\u001b[1;32m   1480\u001b[0m       name\u001b[39m.\u001b[39;49mdecode(\u001b[39m\"\u001b[39;49m\u001b[39mutf-8\u001b[39;49m\u001b[39m\"\u001b[39;49m),\n\u001b[1;32m   1481\u001b[0m       num_outputs\u001b[39m=\u001b[39;49mnum_outputs,\n\u001b[1;32m   1482\u001b[0m       inputs\u001b[39m=\u001b[39;49mtensor_inputs,\n\u001b[1;32m   1483\u001b[0m       attrs\u001b[39m=\u001b[39;49mattrs,\n\u001b[1;32m   1484\u001b[0m       ctx\u001b[39m=\u001b[39;49m\u001b[39mself\u001b[39;49m,\n\u001b[1;32m   1485\u001b[0m   )\n\u001b[1;32m   1486\u001b[0m \u001b[39melse\u001b[39;00m:\n\u001b[1;32m   1487\u001b[0m   outputs \u001b[39m=\u001b[39m execute\u001b[39m.\u001b[39mexecute_with_cancellation(\n\u001b[1;32m   1488\u001b[0m       name\u001b[39m.\u001b[39mdecode(\u001b[39m\"\u001b[39m\u001b[39mutf-8\u001b[39m\u001b[39m\"\u001b[39m),\n\u001b[1;32m   1489\u001b[0m       num_outputs\u001b[39m=\u001b[39mnum_outputs,\n\u001b[0;32m   (...)\u001b[0m\n\u001b[1;32m   1493\u001b[0m       cancellation_manager\u001b[39m=\u001b[39mcancellation_context,\n\u001b[1;32m   1494\u001b[0m   )\n",
            "File \u001b[0;32m~/on-device-action-recognition/.venv/lib/python3.10/site-packages/tensorflow/python/eager/execute.py:60\u001b[0m, in \u001b[0;36mquick_execute\u001b[0;34m(op_name, num_outputs, inputs, attrs, ctx, name)\u001b[0m\n\u001b[1;32m     53\u001b[0m   \u001b[39m# Convert any objects of type core_types.Tensor to Tensor.\u001b[39;00m\n\u001b[1;32m     54\u001b[0m   inputs \u001b[39m=\u001b[39m [\n\u001b[1;32m     55\u001b[0m       tensor_conversion_registry\u001b[39m.\u001b[39mconvert(t)\n\u001b[1;32m     56\u001b[0m       \u001b[39mif\u001b[39;00m \u001b[39misinstance\u001b[39m(t, core_types\u001b[39m.\u001b[39mTensor)\n\u001b[1;32m     57\u001b[0m       \u001b[39melse\u001b[39;00m t\n\u001b[1;32m     58\u001b[0m       \u001b[39mfor\u001b[39;00m t \u001b[39min\u001b[39;00m inputs\n\u001b[1;32m     59\u001b[0m   ]\n\u001b[0;32m---> 60\u001b[0m   tensors \u001b[39m=\u001b[39m pywrap_tfe\u001b[39m.\u001b[39;49mTFE_Py_Execute(ctx\u001b[39m.\u001b[39;49m_handle, device_name, op_name,\n\u001b[1;32m     61\u001b[0m                                       inputs, attrs, num_outputs)\n\u001b[1;32m     62\u001b[0m \u001b[39mexcept\u001b[39;00m core\u001b[39m.\u001b[39m_NotOkStatusException \u001b[39mas\u001b[39;00m e:\n\u001b[1;32m     63\u001b[0m   \u001b[39mif\u001b[39;00m name \u001b[39mis\u001b[39;00m \u001b[39mnot\u001b[39;00m \u001b[39mNone\u001b[39;00m:\n",
            "\u001b[0;31mKeyboardInterrupt\u001b[0m: "
          ]
        }
      ],
      "source": [
        "results = model.fit(train1_ds,\n",
        "                    validation_data=val_ds,\n",
        "                    epochs=10,\n",
        "                    validation_freq=1,\n",
        "                    verbose=1,\n",
        "                    \n",
        "                    callbacks=[cp_callback, tb_callback])"
      ]
    },
    {
      "cell_type": "markdown",
      "metadata": {
        "id": "CSgJ8pq2-CTG"
      },
      "source": [
        "## Evaluate the model"
      ]
    },
    {
      "cell_type": "code",
      "execution_count": 13,
      "metadata": {},
      "outputs": [
        {
          "name": "stdout",
          "output_type": "stream",
          "text": [
            "860/860 [==============================] - 497s 577ms/step - loss: 0.6308 - accuracy: 0.8651\n"
          ]
        },
        {
          "data": {
            "text/plain": [
              "[0.6308467984199524, 0.8650966882705688]"
            ]
          },
          "execution_count": 13,
          "metadata": {},
          "output_type": "execute_result"
        }
      ],
      "source": [
        "model.evaluate(test_ds)"
      ]
    },
    {
      "cell_type": "code",
      "execution_count": 19,
      "metadata": {
        "id": "xtPKfnsNl8SX"
      },
      "outputs": [
        {
          "name": "stdout",
          "output_type": "stream",
          "text": [
            "6879/6879 [==============================] - 561s 81ms/step - loss: 0.6454 - accuracy: 0.8647\n"
          ]
        },
        {
          "data": {
            "text/plain": [
              "[0.6454432010650635, 0.8646605610847473]"
            ]
          },
          "execution_count": 19,
          "metadata": {},
          "output_type": "execute_result"
        }
      ],
      "source": [
        "model.evaluate(test_ds.unbatch().batch(1))"
      ]
    },
    {
      "cell_type": "markdown",
      "metadata": {
        "id": "fGckPjcx-GY7"
      },
      "source": [
        "## Plot the test data confusion matrix"
      ]
    },
    {
      "cell_type": "code",
      "execution_count": 3,
      "metadata": {
        "id": "n4aQvflFmBho"
      },
      "outputs": [],
      "source": [
        "def get_actual_predicted_labels(dataset):\n",
        "  \"\"\"\n",
        "    Create a list of actual ground truth values and the predictions from the model.\n",
        "\n",
        "    Args:\n",
        "      dataset: An iterable data structure, such as a TensorFlow Dataset, with features and labels.\n",
        "\n",
        "    Return:\n",
        "      Ground truth and predicted values for a particular dataset.\n",
        "  \"\"\"\n",
        "  actual = [labels for _, labels in dataset.unbatch()]\n",
        "  predicted = model.predict(dataset)\n",
        "\n",
        "  actual = tf.stack(actual, axis=0)\n",
        "  predicted = tf.concat(predicted, axis=0)\n",
        "  predicted = tf.argmax(predicted, axis=1)\n",
        "\n",
        "  return actual, predicted"
      ]
    },
    {
      "cell_type": "code",
      "execution_count": 15,
      "metadata": {
        "id": "aXYqu7QOmEBZ"
      },
      "outputs": [],
      "source": [
        "def plot_confusion_matrix(actual, predicted, labels, ds_type):\n",
        "  cm = tf.math.confusion_matrix(actual, predicted)\n",
        "  ax = sns.heatmap(cm, annot=True, fmt='g')\n",
        "  sns.set(rc={'figure.figsize':(len(labels), len(labels))})\n",
        "  sns.set(font_scale=1.0)\n",
        "  ax.set_title('Confusion matrix of action recognition for ' + ds_type)\n",
        "  ax.set_xlabel('Predicted Action')\n",
        "  ax.set_ylabel('Actual Action')\n",
        "  plt.xticks(rotation=90)\n",
        "  plt.yticks(rotation=0)\n",
        "  ax.xaxis.set_ticklabels(labels)\n",
        "  ax.yaxis.set_ticklabels(labels)\n",
        "  plt.show()"
      ]
    },
    {
      "cell_type": "code",
      "execution_count": 51,
      "metadata": {},
      "outputs": [],
      "source": [
        "test2_path = pathlib.PosixPath('UCF101_subset/test2/')\n",
        "test2_ds = tf.data.Dataset.from_generator(FrameGenerator(test2_path, num_frames),\n",
        "                                         output_signature = output_signature)\n",
        "test2_ds = test2_ds.batch(batch_size)\n",
        "\n",
        "fg3 = FrameGenerator(test2_path, num_frames)\n",
        "label_names_test = list(fg3.class_ids_for_name.keys())"
      ]
    },
    {
      "cell_type": "code",
      "execution_count": 11,
      "metadata": {
        "id": "QyxeRFB2mKIz"
      },
      "outputs": [
        {
          "ename": "NameError",
          "evalue": "name 'model' is not defined",
          "output_type": "error",
          "traceback": [
            "\u001b[0;31m---------------------------------------------------------------------------\u001b[0m",
            "\u001b[0;31mNameError\u001b[0m                                 Traceback (most recent call last)",
            "\u001b[1;32m/home/wldnjs/on-device-action-recognition/movinet_streaming_training.ipynb 셀 46\u001b[0m line \u001b[0;36m2\n\u001b[1;32m      <a href='vscode-notebook-cell://wsl%2Bubuntu-20.04/home/wldnjs/on-device-action-recognition/movinet_streaming_training.ipynb#X63sdnNjb2RlLXJlbW90ZQ%3D%3D?line=0'>1</a>\u001b[0m get_ipython()\u001b[39m.\u001b[39mrun_line_magic(\u001b[39m'\u001b[39m\u001b[39mmatplotlib\u001b[39m\u001b[39m'\u001b[39m, \u001b[39m'\u001b[39m\u001b[39minline\u001b[39m\u001b[39m'\u001b[39m)\n\u001b[0;32m----> <a href='vscode-notebook-cell://wsl%2Bubuntu-20.04/home/wldnjs/on-device-action-recognition/movinet_streaming_training.ipynb#X63sdnNjb2RlLXJlbW90ZQ%3D%3D?line=1'>2</a>\u001b[0m actual, predicted \u001b[39m=\u001b[39m get_actual_predicted_labels(test_ds)\n",
            "\u001b[1;32m/home/wldnjs/on-device-action-recognition/movinet_streaming_training.ipynb 셀 46\u001b[0m line \u001b[0;36m1\n\u001b[1;32m      <a href='vscode-notebook-cell://wsl%2Bubuntu-20.04/home/wldnjs/on-device-action-recognition/movinet_streaming_training.ipynb#X63sdnNjb2RlLXJlbW90ZQ%3D%3D?line=1'>2</a>\u001b[0m \u001b[39m\u001b[39m\u001b[39m\"\"\"\u001b[39;00m\n\u001b[1;32m      <a href='vscode-notebook-cell://wsl%2Bubuntu-20.04/home/wldnjs/on-device-action-recognition/movinet_streaming_training.ipynb#X63sdnNjb2RlLXJlbW90ZQ%3D%3D?line=2'>3</a>\u001b[0m \u001b[39m  Create a list of actual ground truth values and the predictions from the model.\u001b[39;00m\n\u001b[1;32m      <a href='vscode-notebook-cell://wsl%2Bubuntu-20.04/home/wldnjs/on-device-action-recognition/movinet_streaming_training.ipynb#X63sdnNjb2RlLXJlbW90ZQ%3D%3D?line=3'>4</a>\u001b[0m \n\u001b[0;32m   (...)\u001b[0m\n\u001b[1;32m      <a href='vscode-notebook-cell://wsl%2Bubuntu-20.04/home/wldnjs/on-device-action-recognition/movinet_streaming_training.ipynb#X63sdnNjb2RlLXJlbW90ZQ%3D%3D?line=8'>9</a>\u001b[0m \u001b[39m    Ground truth and predicted values for a particular dataset.\u001b[39;00m\n\u001b[1;32m     <a href='vscode-notebook-cell://wsl%2Bubuntu-20.04/home/wldnjs/on-device-action-recognition/movinet_streaming_training.ipynb#X63sdnNjb2RlLXJlbW90ZQ%3D%3D?line=9'>10</a>\u001b[0m \u001b[39m\"\"\"\u001b[39;00m\n\u001b[1;32m     <a href='vscode-notebook-cell://wsl%2Bubuntu-20.04/home/wldnjs/on-device-action-recognition/movinet_streaming_training.ipynb#X63sdnNjb2RlLXJlbW90ZQ%3D%3D?line=10'>11</a>\u001b[0m actual \u001b[39m=\u001b[39m [labels \u001b[39mfor\u001b[39;00m _, labels \u001b[39min\u001b[39;00m dataset\u001b[39m.\u001b[39munbatch()]\n\u001b[0;32m---> <a href='vscode-notebook-cell://wsl%2Bubuntu-20.04/home/wldnjs/on-device-action-recognition/movinet_streaming_training.ipynb#X63sdnNjb2RlLXJlbW90ZQ%3D%3D?line=11'>12</a>\u001b[0m predicted \u001b[39m=\u001b[39m model\u001b[39m.\u001b[39mpredict(dataset)\n\u001b[1;32m     <a href='vscode-notebook-cell://wsl%2Bubuntu-20.04/home/wldnjs/on-device-action-recognition/movinet_streaming_training.ipynb#X63sdnNjb2RlLXJlbW90ZQ%3D%3D?line=13'>14</a>\u001b[0m actual \u001b[39m=\u001b[39m tf\u001b[39m.\u001b[39mstack(actual, axis\u001b[39m=\u001b[39m\u001b[39m0\u001b[39m)\n\u001b[1;32m     <a href='vscode-notebook-cell://wsl%2Bubuntu-20.04/home/wldnjs/on-device-action-recognition/movinet_streaming_training.ipynb#X63sdnNjb2RlLXJlbW90ZQ%3D%3D?line=14'>15</a>\u001b[0m predicted \u001b[39m=\u001b[39m tf\u001b[39m.\u001b[39mconcat(predicted, axis\u001b[39m=\u001b[39m\u001b[39m0\u001b[39m)\n",
            "\u001b[0;31mNameError\u001b[0m: name 'model' is not defined"
          ]
        }
      ],
      "source": [
        "%matplotlib inline\n",
        "actual, predicted = get_actual_predicted_labels(test_ds)\n"
      ]
    },
    {
      "cell_type": "code",
      "execution_count": null,
      "metadata": {},
      "outputs": [
        {
          "ename": "NameError",
          "evalue": "name 'actual' is not defined",
          "output_type": "error",
          "traceback": [
            "\u001b[0;31m---------------------------------------------------------------------------\u001b[0m",
            "\u001b[0;31mNameError\u001b[0m                                 Traceback (most recent call last)",
            "\u001b[1;32m/home/wldnjs/on-device-action-recognition/movinet_streaming_training.ipynb 셀 62\u001b[0m line \u001b[0;36m2\n\u001b[1;32m      <a href='vscode-notebook-cell://wsl%2Bubuntu-20.04/home/wldnjs/on-device-action-recognition/movinet_streaming_training.ipynb#Y115sdnNjb2RlLXJlbW90ZQ%3D%3D?line=0'>1</a>\u001b[0m \u001b[39mfrom\u001b[39;00m \u001b[39msklearn\u001b[39;00m\u001b[39m.\u001b[39;00m\u001b[39mmetrics\u001b[39;00m \u001b[39mimport\u001b[39;00m precision_score, recall_score, f1_score, accuracy_score, confusion_matrix, classification_report\n\u001b[0;32m----> <a href='vscode-notebook-cell://wsl%2Bubuntu-20.04/home/wldnjs/on-device-action-recognition/movinet_streaming_training.ipynb#Y115sdnNjb2RlLXJlbW90ZQ%3D%3D?line=1'>2</a>\u001b[0m actual_list \u001b[39m=\u001b[39m actual\u001b[39m.\u001b[39mnumpy()\u001b[39m.\u001b[39mtolist()\n\u001b[1;32m      <a href='vscode-notebook-cell://wsl%2Bubuntu-20.04/home/wldnjs/on-device-action-recognition/movinet_streaming_training.ipynb#Y115sdnNjb2RlLXJlbW90ZQ%3D%3D?line=2'>3</a>\u001b[0m predicted_list \u001b[39m=\u001b[39m predicted\u001b[39m.\u001b[39mnumpy()\u001b[39m.\u001b[39mtolist()\n\u001b[1;32m      <a href='vscode-notebook-cell://wsl%2Bubuntu-20.04/home/wldnjs/on-device-action-recognition/movinet_streaming_training.ipynb#Y115sdnNjb2RlLXJlbW90ZQ%3D%3D?line=3'>4</a>\u001b[0m precision \u001b[39m=\u001b[39m precision_score(actual_list, predicted_list, average\u001b[39m=\u001b[39m\u001b[39m'\u001b[39m\u001b[39mmicro\u001b[39m\u001b[39m'\u001b[39m)\n",
            "\u001b[0;31mNameError\u001b[0m: name 'actual' is not defined"
          ]
        }
      ],
      "source": [
        "from sklearn.metrics import precision_score, recall_score, f1_score, accuracy_score, confusion_matrix, classification_report\n",
        "actual_list = actual.numpy().tolist()\n",
        "predicted_list = predicted.numpy().tolist()\n",
        "precision = precision_score(actual_list, predicted_list, average='micro')\n",
        "recall = recall_score(actual_list, predicted_list, average='micro')\n",
        "f1 = f1_score(actual_list, predicted_list, average='micro')\n",
        "acc = accuracy_score(actual_list, predicted_list)\n",
        "print('Accuracy: ', acc)\n",
        "print('Precision: ', precision)\n",
        "print('Recall: ', recall)\n",
        "print('F1 score: ', f1)\n",
        "print(confusion_matrix(actual_list, predicted_list))\n",
        "print(classification_report(actual_list, predicted_list, digits=3))"
      ]
    },
    {
      "cell_type": "code",
      "execution_count": 17,
      "metadata": {},
      "outputs": [
        {
          "ename": "NameError",
          "evalue": "name 'label_names_test' is not defined",
          "output_type": "error",
          "traceback": [
            "\u001b[0;31m---------------------------------------------------------------------------\u001b[0m",
            "\u001b[0;31mNameError\u001b[0m                                 Traceback (most recent call last)",
            "\u001b[1;32m/home/wldnjs/on-device-action-recognition/movinet_streaming_training.ipynb 셀 47\u001b[0m line \u001b[0;36m6\n\u001b[1;32m      <a href='vscode-notebook-cell://wsl%2Bubuntu-20.04/home/wldnjs/on-device-action-recognition/movinet_streaming_training.ipynb#Y100sdnNjb2RlLXJlbW90ZQ%3D%3D?line=3'>4</a>\u001b[0m pred[pred \u001b[39m<\u001b[39m \u001b[39m0\u001b[39m] \u001b[39m=\u001b[39m \u001b[39m0\u001b[39m\n\u001b[1;32m      <a href='vscode-notebook-cell://wsl%2Bubuntu-20.04/home/wldnjs/on-device-action-recognition/movinet_streaming_training.ipynb#Y100sdnNjb2RlLXJlbW90ZQ%3D%3D?line=4'>5</a>\u001b[0m pred[pred \u001b[39m>\u001b[39m \u001b[39m20\u001b[39m] \u001b[39m=\u001b[39m \u001b[39m19\u001b[39m\n\u001b[0;32m----> <a href='vscode-notebook-cell://wsl%2Bubuntu-20.04/home/wldnjs/on-device-action-recognition/movinet_streaming_training.ipynb#Y100sdnNjb2RlLXJlbW90ZQ%3D%3D?line=5'>6</a>\u001b[0m plot_confusion_matrix(act, pred, label_names_test, \u001b[39m'\u001b[39m\u001b[39mtest\u001b[39m\u001b[39m'\u001b[39m)\n",
            "\u001b[0;31mNameError\u001b[0m: name 'label_names_test' is not defined"
          ]
        }
      ],
      "source": [
        "act = actual.numpy()\n",
        "pred = predicted.numpy()\n",
        "pred = np.subtract(pred, 49)\n",
        "pred[pred < 0] = 0\n",
        "pred[pred > 20] = 19\n",
        "plot_confusion_matrix(act, pred, label_names_test, 'test')"
      ]
    },
    {
      "cell_type": "markdown",
      "metadata": {
        "id": "0WLYpxFz-P-m"
      },
      "source": [
        "## Reconstruct the whole model with `use_external_states=True` to make the inference using states."
      ]
    },
    {
      "cell_type": "code",
      "execution_count": 5,
      "metadata": {
        "id": "S29Cemf_Py1h"
      },
      "outputs": [
        {
          "data": {
            "text/plain": [
              "<tensorflow.python.checkpoint.checkpoint.CheckpointLoadStatus at 0x7f956c5265c0>"
            ]
          },
          "execution_count": 5,
          "metadata": {},
          "output_type": "execute_result"
        }
      ],
      "source": [
        "model_id = 'a0'\n",
        "use_positional_encoding = model_id in {'a3', 'a4', 'a5'}\n",
        "resolution = 172\n",
        "\n",
        "# Create backbone and model.\n",
        "backbone = movinet.Movinet(\n",
        "    model_id=model_id,\n",
        "    causal=True,\n",
        "    conv_type='2plus1d',\n",
        "    se_type='2plus3d',\n",
        "    activation='swish',\n",
        "    gating_activation='hard_sigmoid',\n",
        "    use_positional_encoding=use_positional_encoding,\n",
        "    use_external_states=True,\n",
        ")\n",
        "\n",
        "model = movinet_model.MovinetClassifier(\n",
        "    backbone,\n",
        "    num_classes=101,\n",
        "    output_states=True)\n",
        "\n",
        "# Create your example input here.\n",
        "# Refer to the paper for recommended input shapes.\n",
        "inputs = tf.ones([1, 8, 172, 172, 3])\n",
        "\n",
        "# [Optional] Build the model and load a pretrained checkpoint.\n",
        "model.build(inputs.shape)\n",
        "\n",
        "# Load weights from the checkpoint to the rebuilt model\n",
        "checkpoint_dir = 'trained_model'\n",
        "model.load_weights(tf.train.latest_checkpoint(checkpoint_dir))"
      ]
    },
    {
      "cell_type": "markdown",
      "metadata": {
        "id": "KQDBRqnSIZ23"
      },
      "source": [
        "## Inference using external states"
      ]
    },
    {
      "cell_type": "code",
      "execution_count": 9,
      "metadata": {
        "id": "aN7ExIA9JjK_"
      },
      "outputs": [],
      "source": [
        "def get_top_k(probs, k=5, label_map=CLASSES):\n",
        "  \"\"\"Outputs the top k model labels and probabilities on the given video.\"\"\"\n",
        "  top_predictions = tf.argsort(probs, axis=-1, direction='DESCENDING')[:k]\n",
        "  top_labels = tf.gather(label_map, top_predictions, axis=-1)\n",
        "  top_labels = [label.decode('utf8') for label in top_labels.numpy()]\n",
        "  top_probs = tf.gather(probs, top_predictions, axis=-1).numpy()\n",
        "  return tuple(zip(top_labels, top_probs))"
      ]
    },
    {
      "cell_type": "code",
      "execution_count": 17,
      "metadata": {
        "id": "gquiUVQGIZJ2"
      },
      "outputs": [
        {
          "name": "stdout",
          "output_type": "stream",
          "text": [
            "tf.Tensor(28, shape=(), dtype=int64)\n",
            "FieldHockeyPenalty\n",
            "FieldHockeyPenalty 0.99999297\n",
            "CricketBowling 6.7487704e-06\n",
            "ParallelBars 1.7257798e-07\n",
            "SumoWrestling 8.809533e-09\n",
            "Diving 7.817478e-09\n"
          ]
        },
        {
          "data": {
            "text/html": [
              "<img src=\"data:image/gif;base64,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\"/>"
            ],
            "text/plain": [
              "<IPython.core.display.HTML object>"
            ]
          },
          "execution_count": 17,
          "metadata": {},
          "output_type": "execute_result"
        }
      ],
      "source": [
        "# Create initial states for the stream model\n",
        "init_states_fn = model.init_states\n",
        "init_states = init_states_fn(tf.shape(tf.ones(shape=[1, 1, 172, 172, 3])))\n",
        "\n",
        "all_logits = []\n",
        "\n",
        "# To run on a video, pass in one frame at a time\n",
        "states = init_states\n",
        "for frames, label in test_ds.take(1):\n",
        "  for clip in frames[0]:\n",
        "    # Input shape: [1, 1, 172, 172, 3]\n",
        "    clip = tf.expand_dims(tf.expand_dims(clip, axis=0), axis=0)\n",
        "    logits, states = model.predict({**states, 'image': clip}, verbose=0)\n",
        "    all_logits.append(logits)\n",
        "\n",
        "\n",
        "logits = tf.concat(all_logits, 0)\n",
        "probs = tf.nn.softmax(logits)\n",
        "# print(all_logits, \"logits\",logits)\n",
        "final_probs = probs[-1]\n",
        "top_k = get_top_k(final_probs)\n",
        "# print(all_logits)\n",
        "a = tf.argmax(all_logits[-1][0])\n",
        "print(a)\n",
        "print(CLASSES[a])\n",
        "for label, prob in top_k:\n",
        "  print(label, prob)\n",
        "\n",
        "frames, label = list(test_ds.take(1))[0]\n",
        "to_gif(frames[0].numpy())"
      ]
    },
    {
      "cell_type": "markdown",
      "metadata": {
        "id": "TYxRHeuUINi8"
      },
      "source": [
        "## Export to saved model"
      ]
    },
    {
      "cell_type": "code",
      "execution_count": 18,
      "metadata": {
        "id": "aHaiqMXbVxC6"
      },
      "outputs": [
        {
          "name": "stdout",
          "output_type": "stream",
          "text": [
            "WARNING:tensorflow:Skipping full serialization of Keras layer <keras.src.layers.regularization.dropout.Dropout object at 0x7f163c313160>, because it is not built.\n"
          ]
        },
        {
          "name": "stderr",
          "output_type": "stream",
          "text": [
            "WARNING:tensorflow:Skipping full serialization of Keras layer <keras.src.layers.regularization.dropout.Dropout object at 0x7f163c313160>, because it is not built.\n"
          ]
        },
        {
          "name": "stdout",
          "output_type": "stream",
          "text": [
            "WARNING:tensorflow:Skipping full serialization of Keras layer <official.vision.modeling.layers.nn_layers.TemporalSoftmaxPool object at 0x7f163c340970>, because it is not built.\n"
          ]
        },
        {
          "name": "stderr",
          "output_type": "stream",
          "text": [
            "WARNING:tensorflow:Skipping full serialization of Keras layer <official.vision.modeling.layers.nn_layers.TemporalSoftmaxPool object at 0x7f163c340970>, because it is not built.\n"
          ]
        },
        {
          "name": "stdout",
          "output_type": "stream",
          "text": [
            "INFO:tensorflow:Assets written to: model/assets\n"
          ]
        },
        {
          "name": "stderr",
          "output_type": "stream",
          "text": [
            "INFO:tensorflow:Assets written to: model/assets\n"
          ]
        }
      ],
      "source": [
        "saved_model_dir = 'model'\n",
        "tflite_filename = 'tflite_models/model.int8.fallback.tflite'\n",
        "input_shape = [1, 1, 172, 172, 3]\n",
        "\n",
        "# Convert to saved model\n",
        "export_saved_model.export_saved_model(\n",
        "    model=model,\n",
        "    input_shape=input_shape,\n",
        "    export_path=saved_model_dir,\n",
        "    causal=True,\n",
        "    bundle_input_init_states_fn=False)\n"
      ]
    },
    {
      "cell_type": "code",
      "execution_count": 6,
      "metadata": {},
      "outputs": [
        {
          "name": "stderr",
          "output_type": "stream",
          "text": [
            "WARNING:absl:Importing a function (__inference_internal_grad_fn_9281314) with ops with unsaved custom gradients. Will likely fail if a gradient is requested.\n",
            "WARNING:absl:Importing a function (__inference_internal_grad_fn_9284329) with ops with unsaved custom gradients. Will likely fail if a gradient is requested.\n",
            "WARNING:absl:Importing a function (__inference_internal_grad_fn_9282664) with ops with unsaved custom gradients. Will likely fail if a gradient is requested.\n",
            "WARNING:absl:Importing a function (__inference_internal_grad_fn_9273808) with ops with unsaved custom gradients. Will likely fail if a gradient is requested.\n",
            "WARNING:absl:Importing a function (__inference_internal_grad_fn_9275293) with ops with unsaved custom gradients. Will likely fail if a gradient is requested.\n",
            "WARNING:absl:Importing a function (__inference_internal_grad_fn_9287074) with ops with unsaved custom gradients. Will likely fail if a gradient is requested.\n",
            "WARNING:absl:Importing a function (__inference_internal_grad_fn_9274303) with ops with unsaved custom gradients. Will likely fail if a gradient is requested.\n",
            "WARNING:absl:Importing a function (__inference_internal_grad_fn_9281917) with ops with unsaved custom gradients. Will likely fail if a gradient is requested.\n",
            "WARNING:absl:Importing a function (__inference_internal_grad_fn_9274456) with ops with unsaved custom gradients. Will likely fail if a gradient is requested.\n",
            "WARNING:absl:Importing a function (__inference_internal_grad_fn_9271765) with ops with unsaved custom gradients. Will likely fail if a gradient is requested.\n",
            "WARNING:absl:Importing a function (__inference_internal_grad_fn_9273691) with ops with unsaved custom gradients. Will likely fail if a gradient is requested.\n",
            "WARNING:absl:Importing a function (__inference_internal_grad_fn_9272125) with ops with unsaved custom gradients. Will likely fail if a gradient is requested.\n",
            "WARNING:absl:Importing a function (__inference_internal_grad_fn_9272620) with ops with unsaved custom gradients. Will likely fail if a gradient is requested.\n",
            "WARNING:absl:Importing a function (__inference_internal_grad_fn_9273493) with ops with unsaved custom gradients. Will likely fail if a gradient is requested.\n",
            "WARNING:absl:Importing a function (__inference_internal_grad_fn_9280018) with ops with unsaved custom gradients. Will likely fail if a gradient is requested.\n",
            "WARNING:absl:Importing a function (__inference_internal_grad_fn_9285049) with ops with unsaved custom gradients. Will likely fail if a gradient is requested.\n",
            "WARNING:absl:Importing a function (__inference_internal_grad_fn_9271918) with ops with unsaved custom gradients. Will likely fail if a gradient is requested.\n",
            "WARNING:absl:Importing a function (__inference_internal_grad_fn_9286129) with ops with unsaved custom gradients. Will likely fail if a gradient is requested.\n",
            "WARNING:absl:Importing a function (__inference_internal_grad_fn_9272935) with ops with unsaved custom gradients. Will likely fail if a gradient is requested.\n",
            "WARNING:absl:Importing a function (__inference_internal_grad_fn_9273862) with ops with unsaved custom gradients. Will likely fail if a gradient is requested.\n",
            "WARNING:absl:Importing a function (__inference_internal_grad_fn_9285364) with ops with unsaved custom gradients. Will likely fail if a gradient is requested.\n",
            "WARNING:absl:Importing a function (__inference_internal_grad_fn_9273529) with ops with unsaved custom gradients. Will likely fail if a gradient is requested.\n",
            "WARNING:absl:Importing a function (__inference_internal_grad_fn_9273943) with ops with unsaved custom gradients. Will likely fail if a gradient is requested.\n",
            "WARNING:absl:Importing a function (__inference_internal_grad_fn_9284275) with ops with unsaved custom gradients. Will likely fail if a gradient is requested.\n",
            "WARNING:absl:Importing a function (__inference_internal_grad_fn_9284770) with ops with unsaved custom gradients. Will likely fail if a gradient is requested.\n",
            "WARNING:absl:Importing a function (__inference_internal_grad_fn_9275599) with ops with unsaved custom gradients. Will likely fail if a gradient is requested.\n",
            "WARNING:absl:Importing a function (__inference_internal_grad_fn_9276832) with ops with unsaved custom gradients. Will likely fail if a gradient is requested.\n",
            "WARNING:absl:Importing a function (__inference_internal_grad_fn_9285526) with ops with unsaved custom gradients. Will likely fail if a gradient is requested.\n",
            "WARNING:absl:Importing a function (__inference_internal_grad_fn_9280846) with ops with unsaved custom gradients. Will likely fail if a gradient is requested.\n",
            "WARNING:absl:Importing a function (__inference_internal_grad_fn_9273574) with ops with unsaved custom gradients. Will likely fail if a gradient is requested.\n",
            "WARNING:absl:Importing a function (__inference_internal_grad_fn_9281926) with ops with unsaved custom gradients. Will likely fail if a gradient is requested.\n",
            "WARNING:absl:Importing a function (__inference_internal_grad_fn_9283456) with ops with unsaved custom gradients. Will likely fail if a gradient is requested.\n",
            "WARNING:absl:Importing a function (__inference_internal_grad_fn_9276823) with ops with unsaved custom gradients. Will likely fail if a gradient is requested.\n",
            "WARNING:absl:Importing a function (__inference_internal_grad_fn_9277597) with ops with unsaved custom gradients. Will likely fail if a gradient is requested.\n",
            "WARNING:absl:Importing a function (__inference_internal_grad_fn_9277840) with ops with unsaved custom gradients. Will likely fail if a gradient is requested.\n",
            "WARNING:absl:Importing a function (__inference_internal_grad_fn_9272584) with ops with unsaved custom gradients. Will likely fail if a gradient is requested.\n",
            "WARNING:absl:Importing a function (__inference_internal_grad_fn_9272539) with ops with unsaved custom gradients. Will likely fail if a gradient is requested.\n",
            "WARNING:absl:Importing a function (__inference_internal_grad_fn_9272134) with ops with unsaved custom gradients. Will likely fail if a gradient is requested.\n",
            "WARNING:absl:Importing a function (__inference_internal_grad_fn_9285193) with ops with unsaved custom gradients. Will likely fail if a gradient is requested.\n",
            "WARNING:absl:Importing a function (__inference_internal_grad_fn_9275482) with ops with unsaved custom gradients. Will likely fail if a gradient is requested.\n",
            "WARNING:absl:Importing a function (__inference_internal_grad_fn_9286759) with ops with unsaved custom gradients. Will likely fail if a gradient is requested.\n",
            "WARNING:absl:Importing a function (__inference_internal_grad_fn_9276310) with ops with unsaved custom gradients. Will likely fail if a gradient is requested.\n",
            "WARNING:absl:Importing a function (__inference_internal_grad_fn_9285310) with ops with unsaved custom gradients. Will likely fail if a gradient is requested.\n",
            "WARNING:absl:Importing a function (__inference_internal_grad_fn_9278596) with ops with unsaved custom gradients. Will likely fail if a gradient is requested.\n",
            "WARNING:absl:Importing a function (__inference_internal_grad_fn_9273610) with ops with unsaved custom gradients. Will likely fail if a gradient is requested.\n",
            "WARNING:absl:Importing a function (__inference_internal_grad_fn_9279991) with ops with unsaved custom gradients. Will likely fail if a gradient is requested.\n",
            "WARNING:absl:Importing a function (__inference_internal_grad_fn_9275518) with ops with unsaved custom gradients. Will likely fail if a gradient is requested.\n",
            "WARNING:absl:Importing a function (__inference_internal_grad_fn_9273205) with ops with unsaved custom gradients. Will likely fail if a gradient is requested.\n",
            "WARNING:absl:Importing a function (__inference_internal_grad_fn_9276085) with ops with unsaved custom gradients. Will likely fail if a gradient is requested.\n",
            "WARNING:absl:Importing a function (__inference_internal_grad_fn_9272557) with ops with unsaved custom gradients. Will likely fail if a gradient is requested.\n",
            "WARNING:absl:Importing a function (__inference_internal_grad_fn_9283582) with ops with unsaved custom gradients. Will likely fail if a gradient is requested.\n",
            "WARNING:absl:Importing a function (__inference_internal_grad_fn_9285796) with ops with unsaved custom gradients. Will likely fail if a gradient is requested.\n",
            "WARNING:absl:Importing a function (__inference_internal_grad_fn_9273970) with ops with unsaved custom gradients. Will likely fail if a gradient is requested.\n",
            "WARNING:absl:Importing a function (__inference_internal_grad_fn_9273124) with ops with unsaved custom gradients. Will likely fail if a gradient is requested.\n",
            "WARNING:absl:Importing a function (__inference_internal_grad_fn_9273781) with ops with unsaved custom gradients. Will likely fail if a gradient is requested.\n",
            "WARNING:absl:Importing a function (__inference_internal_grad_fn_9284536) with ops with unsaved custom gradients. Will likely fail if a gradient is requested.\n",
            "WARNING:absl:Importing a function (__inference_internal_grad_fn_9279352) with ops with unsaved custom gradients. Will likely fail if a gradient is requested.\n",
            "WARNING:absl:Importing a function (__inference_internal_grad_fn_9277318) with ops with unsaved custom gradients. Will likely fail if a gradient is requested.\n",
            "WARNING:absl:Importing a function (__inference_internal_grad_fn_9279892) with ops with unsaved custom gradients. Will likely fail if a gradient is requested.\n",
            "WARNING:absl:Importing a function (__inference_internal_grad_fn_9272413) with ops with unsaved custom gradients. Will likely fail if a gradient is requested.\n",
            "WARNING:absl:Importing a function (__inference_internal_grad_fn_9274348) with ops with unsaved custom gradients. Will likely fail if a gradient is requested.\n",
            "WARNING:absl:Importing a function (__inference_internal_grad_fn_9284653) with ops with unsaved custom gradients. Will likely fail if a gradient is requested.\n",
            "WARNING:absl:Importing a function (__inference_internal_grad_fn_9277516) with ops with unsaved custom gradients. Will likely fail if a gradient is requested.\n",
            "WARNING:absl:Importing a function (__inference_internal_grad_fn_9274915) with ops with unsaved custom gradients. Will likely fail if a gradient is requested.\n",
            "WARNING:absl:Importing a function (__inference_internal_grad_fn_9281737) with ops with unsaved custom gradients. Will likely fail if a gradient is requested.\n",
            "WARNING:absl:Importing a function (__inference_internal_grad_fn_9283852) with ops with unsaved custom gradients. Will likely fail if a gradient is requested.\n",
            "WARNING:absl:Importing a function (__inference_internal_grad_fn_9272728) with ops with unsaved custom gradients. Will likely fail if a gradient is requested.\n",
            "WARNING:absl:Importing a function (__inference_internal_grad_fn_9271414) with ops with unsaved custom gradients. Will likely fail if a gradient is requested.\n",
            "WARNING:absl:Importing a function (__inference_internal_grad_fn_9276130) with ops with unsaved custom gradients. Will likely fail if a gradient is requested.\n",
            "WARNING:absl:Importing a function (__inference_internal_grad_fn_9278605) with ops with unsaved custom gradients. Will likely fail if a gradient is requested.\n",
            "WARNING:absl:Importing a function (__inference_internal_grad_fn_9277606) with ops with unsaved custom gradients. Will likely fail if a gradient is requested.\n",
            "WARNING:absl:Importing a function (__inference_internal_grad_fn_9271963) with ops with unsaved custom gradients. Will likely fail if a gradient is requested.\n",
            "WARNING:absl:Importing a function (__inference_internal_grad_fn_9285202) with ops with unsaved custom gradients. Will likely fail if a gradient is requested.\n",
            "WARNING:absl:Importing a function (__inference_internal_grad_fn_9274384) with ops with unsaved custom gradients. Will likely fail if a gradient is requested.\n",
            "WARNING:absl:Importing a function (__inference_internal_grad_fn_9272665) with ops with unsaved custom gradients. Will likely fail if a gradient is requested.\n",
            "WARNING:absl:Importing a function (__inference_internal_grad_fn_9279406) with ops with unsaved custom gradients. Will likely fail if a gradient is requested.\n",
            "WARNING:absl:Importing a function (__inference_internal_grad_fn_9272404) with ops with unsaved custom gradients. Will likely fail if a gradient is requested.\n",
            "WARNING:absl:Importing a function (__inference_internal_grad_fn_9284869) with ops with unsaved custom gradients. Will likely fail if a gradient is requested.\n",
            "WARNING:absl:Importing a function (__inference_internal_grad_fn_9279838) with ops with unsaved custom gradients. Will likely fail if a gradient is requested.\n",
            "WARNING:absl:Importing a function (__inference_internal_grad_fn_9271576) with ops with unsaved custom gradients. Will likely fail if a gradient is requested.\n",
            "WARNING:absl:Importing a function (__inference_internal_grad_fn_9281269) with ops with unsaved custom gradients. Will likely fail if a gradient is requested.\n",
            "WARNING:absl:Importing a function (__inference_internal_grad_fn_9271954) with ops with unsaved custom gradients. Will likely fail if a gradient is requested.\n",
            "WARNING:absl:Importing a function (__inference_internal_grad_fn_9273466) with ops with unsaved custom gradients. Will likely fail if a gradient is requested.\n",
            "WARNING:absl:Importing a function (__inference_internal_grad_fn_9278686) with ops with unsaved custom gradients. Will likely fail if a gradient is requested.\n",
            "WARNING:absl:Importing a function (__inference_internal_grad_fn_9272350) with ops with unsaved custom gradients. Will likely fail if a gradient is requested.\n",
            "WARNING:absl:Importing a function (__inference_internal_grad_fn_9277480) with ops with unsaved custom gradients. Will likely fail if a gradient is requested.\n",
            "WARNING:absl:Importing a function (__inference_internal_grad_fn_9282385) with ops with unsaved custom gradients. Will likely fail if a gradient is requested.\n",
            "WARNING:absl:Importing a function (__inference_internal_grad_fn_9284500) with ops with unsaved custom gradients. Will likely fail if a gradient is requested.\n",
            "WARNING:absl:Importing a function (__inference_internal_grad_fn_9278776) with ops with unsaved custom gradients. Will likely fail if a gradient is requested.\n",
            "WARNING:absl:Importing a function (__inference_internal_grad_fn_9286426) with ops with unsaved custom gradients. Will likely fail if a gradient is requested.\n",
            "WARNING:absl:Importing a function (__inference_internal_grad_fn_9274186) with ops with unsaved custom gradients. Will likely fail if a gradient is requested.\n",
            "WARNING:absl:Importing a function (__inference_internal_grad_fn_9275527) with ops with unsaved custom gradients. Will likely fail if a gradient is requested.\n",
            "WARNING:absl:Importing a function (__inference_internal_grad_fn_9277858) with ops with unsaved custom gradients. Will likely fail if a gradient is requested.\n",
            "WARNING:absl:Importing a function (__inference_internal_grad_fn_9276013) with ops with unsaved custom gradients. Will likely fail if a gradient is requested.\n",
            "WARNING:absl:Importing a function (__inference_internal_grad_fn_9273934) with ops with unsaved custom gradients. Will likely fail if a gradient is requested.\n",
            "WARNING:absl:Importing a function (__inference_internal_grad_fn_9274870) with ops with unsaved custom gradients. Will likely fail if a gradient is requested.\n",
            "WARNING:absl:Importing a function (__inference_internal_grad_fn_9271864) with ops with unsaved custom gradients. Will likely fail if a gradient is requested.\n",
            "WARNING:absl:Importing a function (__inference_internal_grad_fn_9271792) with ops with unsaved custom gradients. Will likely fail if a gradient is requested.\n",
            "WARNING:absl:Importing a function (__inference_internal_grad_fn_9271441) with ops with unsaved custom gradients. Will likely fail if a gradient is requested.\n",
            "WARNING:absl:Importing a function (__inference_internal_grad_fn_9273979) with ops with unsaved custom gradients. Will likely fail if a gradient is requested.\n",
            "WARNING:absl:Importing a function (__inference_internal_grad_fn_9273160) with ops with unsaved custom gradients. Will likely fail if a gradient is requested.\n",
            "WARNING:absl:Importing a function (__inference_internal_grad_fn_9271747) with ops with unsaved custom gradients. Will likely fail if a gradient is requested.\n",
            "WARNING:absl:Importing a function (__inference_internal_grad_fn_9275761) with ops with unsaved custom gradients. Will likely fail if a gradient is requested.\n",
            "WARNING:absl:Importing a function (__inference_internal_grad_fn_9280549) with ops with unsaved custom gradients. Will likely fail if a gradient is requested.\n",
            "WARNING:absl:Importing a function (__inference_internal_grad_fn_9279199) with ops with unsaved custom gradients. Will likely fail if a gradient is requested.\n",
            "WARNING:absl:Importing a function (__inference_internal_grad_fn_9274060) with ops with unsaved custom gradients. Will likely fail if a gradient is requested.\n",
            "WARNING:absl:Importing a function (__inference_internal_grad_fn_9285058) with ops with unsaved custom gradients. Will likely fail if a gradient is requested.\n",
            "WARNING:absl:Importing a function (__inference_internal_grad_fn_9272224) with ops with unsaved custom gradients. Will likely fail if a gradient is requested.\n",
            "WARNING:absl:Importing a function (__inference_internal_grad_fn_9286768) with ops with unsaved custom gradients. Will likely fail if a gradient is requested.\n",
            "WARNING:absl:Importing a function (__inference_internal_grad_fn_9278065) with ops with unsaved custom gradients. Will likely fail if a gradient is requested.\n",
            "WARNING:absl:Importing a function (__inference_internal_grad_fn_9275644) with ops with unsaved custom gradients. Will likely fail if a gradient is requested.\n",
            "WARNING:absl:Importing a function (__inference_internal_grad_fn_9273169) with ops with unsaved custom gradients. Will likely fail if a gradient is requested.\n",
            "WARNING:absl:Importing a function (__inference_internal_grad_fn_9284635) with ops with unsaved custom gradients. Will likely fail if a gradient is requested.\n",
            "WARNING:absl:Importing a function (__inference_internal_grad_fn_9279154) with ops with unsaved custom gradients. Will likely fail if a gradient is requested.\n",
            "WARNING:absl:Importing a function (__inference_internal_grad_fn_9272566) with ops with unsaved custom gradients. Will likely fail if a gradient is requested.\n",
            "WARNING:absl:Importing a function (__inference_internal_grad_fn_9272656) with ops with unsaved custom gradients. Will likely fail if a gradient is requested.\n",
            "WARNING:absl:Importing a function (__inference_internal_grad_fn_9273340) with ops with unsaved custom gradients. Will likely fail if a gradient is requested.\n",
            "WARNING:absl:Importing a function (__inference_internal_grad_fn_9282592) with ops with unsaved custom gradients. Will likely fail if a gradient is requested.\n",
            "WARNING:absl:Importing a function (__inference_internal_grad_fn_9274618) with ops with unsaved custom gradients. Will likely fail if a gradient is requested.\n",
            "WARNING:absl:Importing a function (__inference_internal_grad_fn_9274888) with ops with unsaved custom gradients. Will likely fail if a gradient is requested.\n",
            "WARNING:absl:Importing a function (__inference_internal_grad_fn_9286579) with ops with unsaved custom gradients. Will likely fail if a gradient is requested.\n",
            "WARNING:absl:Importing a function (__inference_internal_grad_fn_9276760) with ops with unsaved custom gradients. Will likely fail if a gradient is requested.\n",
            "WARNING:absl:Importing a function (__inference_internal_grad_fn_9271387) with ops with unsaved custom gradients. Will likely fail if a gradient is requested.\n",
            "WARNING:absl:Importing a function (__inference_internal_grad_fn_9285616) with ops with unsaved custom gradients. Will likely fail if a gradient is requested.\n",
            "WARNING:absl:Importing a function (__inference_internal_grad_fn_9286912) with ops with unsaved custom gradients. Will likely fail if a gradient is requested.\n",
            "WARNING:absl:Importing a function (__inference_internal_grad_fn_9276670) with ops with unsaved custom gradients. Will likely fail if a gradient is requested.\n",
            "WARNING:absl:Importing a function (__inference_internal_grad_fn_9280720) with ops with unsaved custom gradients. Will likely fail if a gradient is requested.\n",
            "WARNING:absl:Importing a function (__inference_internal_grad_fn_9285841) with ops with unsaved custom gradients. Will likely fail if a gradient is requested.\n",
            "WARNING:absl:Importing a function (__inference_internal_grad_fn_9273358) with ops with unsaved custom gradients. Will likely fail if a gradient is requested.\n",
            "WARNING:absl:Importing a function (__inference_internal_grad_fn_9283564) with ops with unsaved custom gradients. Will likely fail if a gradient is requested.\n",
            "WARNING:absl:Importing a function (__inference_internal_grad_fn_9287092) with ops with unsaved custom gradients. Will likely fail if a gradient is requested.\n",
            "WARNING:absl:Importing a function (__inference_internal_grad_fn_9273142) with ops with unsaved custom gradients. Will likely fail if a gradient is requested.\n",
            "WARNING:absl:Importing a function (__inference_internal_grad_fn_9276544) with ops with unsaved custom gradients. Will likely fail if a gradient is requested.\n",
            "WARNING:absl:Importing a function (__inference_internal_grad_fn_9281080) with ops with unsaved custom gradients. Will likely fail if a gradient is requested.\n",
            "WARNING:absl:Importing a function (__inference_internal_grad_fn_9281188) with ops with unsaved custom gradients. Will likely fail if a gradient is requested.\n",
            "WARNING:absl:Importing a function (__inference_internal_grad_fn_9281152) with ops with unsaved custom gradients. Will likely fail if a gradient is requested.\n",
            "WARNING:absl:Importing a function (__inference_internal_grad_fn_9273367) with ops with unsaved custom gradients. Will likely fail if a gradient is requested.\n",
            "WARNING:absl:Importing a function (__inference_internal_grad_fn_9277525) with ops with unsaved custom gradients. Will likely fail if a gradient is requested.\n",
            "WARNING:absl:Importing a function (__inference_internal_grad_fn_9286750) with ops with unsaved custom gradients. Will likely fail if a gradient is requested.\n",
            "WARNING:absl:Importing a function (__inference_internal_grad_fn_9273178) with ops with unsaved custom gradients. Will likely fail if a gradient is requested.\n",
            "WARNING:absl:Importing a function (__inference_internal_grad_fn_9284833) with ops with unsaved custom gradients. Will likely fail if a gradient is requested.\n",
            "WARNING:absl:Importing a function (__inference_internal_grad_fn_9272458) with ops with unsaved custom gradients. Will likely fail if a gradient is requested.\n",
            "WARNING:absl:Importing a function (__inference_internal_grad_fn_9280504) with ops with unsaved custom gradients. Will likely fail if a gradient is requested.\n",
            "WARNING:absl:Importing a function (__inference_internal_grad_fn_9283375) with ops with unsaved custom gradients. Will likely fail if a gradient is requested.\n",
            "WARNING:absl:Importing a function (__inference_internal_grad_fn_9283330) with ops with unsaved custom gradients. Will likely fail if a gradient is requested.\n",
            "WARNING:absl:Importing a function (__inference_internal_grad_fn_9280432) with ops with unsaved custom gradients. Will likely fail if a gradient is requested.\n",
            "WARNING:absl:Importing a function (__inference_internal_grad_fn_9272593) with ops with unsaved custom gradients. Will likely fail if a gradient is requested.\n",
            "WARNING:absl:Importing a function (__inference_internal_grad_fn_9287047) with ops with unsaved custom gradients. Will likely fail if a gradient is requested.\n",
            "WARNING:absl:Importing a function (__inference_internal_grad_fn_9286444) with ops with unsaved custom gradients. Will likely fail if a gradient is requested.\n",
            "WARNING:absl:Importing a function (__inference_internal_grad_fn_9280000) with ops with unsaved custom gradients. Will likely fail if a gradient is requested.\n",
            "WARNING:absl:Importing a function (__inference_internal_grad_fn_9276814) with ops with unsaved custom gradients. Will likely fail if a gradient is requested.\n",
            "WARNING:absl:Importing a function (__inference_internal_grad_fn_9272827) with ops with unsaved custom gradients. Will likely fail if a gradient is requested.\n",
            "WARNING:absl:Importing a function (__inference_internal_grad_fn_9273268) with ops with unsaved custom gradients. Will likely fail if a gradient is requested.\n",
            "WARNING:absl:Importing a function (__inference_internal_grad_fn_9272782) with ops with unsaved custom gradients. Will likely fail if a gradient is requested.\n",
            "WARNING:absl:Importing a function (__inference_internal_grad_fn_9286066) with ops with unsaved custom gradients. Will likely fail if a gradient is requested.\n",
            "WARNING:absl:Importing a function (__inference_internal_grad_fn_9275050) with ops with unsaved custom gradients. Will likely fail if a gradient is requested.\n",
            "WARNING:absl:Importing a function (__inference_internal_grad_fn_9281197) with ops with unsaved custom gradients. Will likely fail if a gradient is requested.\n",
            "WARNING:absl:Importing a function (__inference_internal_grad_fn_9273718) with ops with unsaved custom gradients. Will likely fail if a gradient is requested.\n",
            "WARNING:absl:Importing a function (__inference_internal_grad_fn_9273556) with ops with unsaved custom gradients. Will likely fail if a gradient is requested.\n",
            "WARNING:absl:Importing a function (__inference_internal_grad_fn_9282430) with ops with unsaved custom gradients. Will likely fail if a gradient is requested.\n",
            "WARNING:absl:Importing a function (__inference_internal_grad_fn_9274789) with ops with unsaved custom gradients. Will likely fail if a gradient is requested.\n",
            "WARNING:absl:Importing a function (__inference_internal_grad_fn_9284059) with ops with unsaved custom gradients. Will likely fail if a gradient is requested.\n",
            "WARNING:absl:Importing a function (__inference_internal_grad_fn_9280198) with ops with unsaved custom gradients. Will likely fail if a gradient is requested.\n",
            "WARNING:absl:Importing a function (__inference_internal_grad_fn_9276238) with ops with unsaved custom gradients. Will likely fail if a gradient is requested.\n",
            "WARNING:absl:Importing a function (__inference_internal_grad_fn_9271756) with ops with unsaved custom gradients. Will likely fail if a gradient is requested.\n",
            "WARNING:absl:Importing a function (__inference_internal_grad_fn_9278173) with ops with unsaved custom gradients. Will likely fail if a gradient is requested.\n",
            "WARNING:absl:Importing a function (__inference_internal_grad_fn_9283231) with ops with unsaved custom gradients. Will likely fail if a gradient is requested.\n",
            "WARNING:absl:Importing a function (__inference_internal_grad_fn_9286984) with ops with unsaved custom gradients. Will likely fail if a gradient is requested.\n",
            "WARNING:absl:Importing a function (__inference_internal_grad_fn_9271702) with ops with unsaved custom gradients. Will likely fail if a gradient is requested.\n",
            "WARNING:absl:Importing a function (__inference_internal_grad_fn_9286597) with ops with unsaved custom gradients. Will likely fail if a gradient is requested.\n",
            "WARNING:absl:Importing a function (__inference_internal_grad_fn_9273565) with ops with unsaved custom gradients. Will likely fail if a gradient is requested.\n",
            "WARNING:absl:Importing a function (__inference_internal_grad_fn_9283636) with ops with unsaved custom gradients. Will likely fail if a gradient is requested.\n",
            "WARNING:absl:Importing a function (__inference_internal_grad_fn_9282016) with ops with unsaved custom gradients. Will likely fail if a gradient is requested.\n",
            "WARNING:absl:Importing a function (__inference_internal_grad_fn_9274420) with ops with unsaved custom gradients. Will likely fail if a gradient is requested.\n",
            "WARNING:absl:Importing a function (__inference_internal_grad_fn_9273790) with ops with unsaved custom gradients. Will likely fail if a gradient is requested.\n",
            "WARNING:absl:Importing a function (__inference_internal_grad_fn_9279343) with ops with unsaved custom gradients. Will likely fail if a gradient is requested.\n",
            "WARNING:absl:Importing a function (__inference_internal_grad_fn_9274078) with ops with unsaved custom gradients. Will likely fail if a gradient is requested.\n",
            "WARNING:absl:Importing a function (__inference_internal_grad_fn_9272548) with ops with unsaved custom gradients. Will likely fail if a gradient is requested.\n",
            "WARNING:absl:Importing a function (__inference_internal_grad_fn_9273304) with ops with unsaved custom gradients. Will likely fail if a gradient is requested.\n",
            "WARNING:absl:Importing a function (__inference_internal_grad_fn_9285346) with ops with unsaved custom gradients. Will likely fail if a gradient is requested.\n",
            "WARNING:absl:Importing a function (__inference_internal_grad_fn_9273520) with ops with unsaved custom gradients. Will likely fail if a gradient is requested.\n",
            "WARNING:absl:Importing a function (__inference_internal_grad_fn_9275221) with ops with unsaved custom gradients. Will likely fail if a gradient is requested.\n",
            "WARNING:absl:Importing a function (__inference_internal_grad_fn_9279802) with ops with unsaved custom gradients. Will likely fail if a gradient is requested.\n",
            "WARNING:absl:Importing a function (__inference_internal_grad_fn_9272296) with ops with unsaved custom gradients. Will likely fail if a gradient is requested.\n",
            "WARNING:absl:Importing a function (__inference_internal_grad_fn_9273835) with ops with unsaved custom gradients. Will likely fail if a gradient is requested.\n",
            "WARNING:absl:Importing a function (__inference_internal_grad_fn_9272152) with ops with unsaved custom gradients. Will likely fail if a gradient is requested.\n",
            "WARNING:absl:Importing a function (__inference_internal_grad_fn_9272251) with ops with unsaved custom gradients. Will likely fail if a gradient is requested.\n",
            "WARNING:absl:Importing a function (__inference_internal_grad_fn_9278812) with ops with unsaved custom gradients. Will likely fail if a gradient is requested.\n",
            "WARNING:absl:Importing a function (__inference_internal_grad_fn_9272800) with ops with unsaved custom gradients. Will likely fail if a gradient is requested.\n",
            "WARNING:absl:Importing a function (__inference_internal_grad_fn_9281782) with ops with unsaved custom gradients. Will likely fail if a gradient is requested.\n",
            "WARNING:absl:Importing a function (__inference_internal_grad_fn_9271558) with ops with unsaved custom gradients. Will likely fail if a gradient is requested.\n",
            "WARNING:absl:Importing a function (__inference_internal_grad_fn_9276562) with ops with unsaved custom gradients. Will likely fail if a gradient is requested.\n",
            "WARNING:absl:Importing a function (__inference_internal_grad_fn_9278821) with ops with unsaved custom gradients. Will likely fail if a gradient is requested.\n",
            "WARNING:absl:Importing a function (__inference_internal_grad_fn_9281350) with ops with unsaved custom gradients. Will likely fail if a gradient is requested.\n",
            "WARNING:absl:Importing a function (__inference_internal_grad_fn_9274753) with ops with unsaved custom gradients. Will likely fail if a gradient is requested.\n",
            "WARNING:absl:Importing a function (__inference_internal_grad_fn_9282052) with ops with unsaved custom gradients. Will likely fail if a gradient is requested.\n",
            "WARNING:absl:Importing a function (__inference_internal_grad_fn_9285400) with ops with unsaved custom gradients. Will likely fail if a gradient is requested.\n",
            "WARNING:absl:Importing a function (__inference_internal_grad_fn_9271909) with ops with unsaved custom gradients. Will likely fail if a gradient is requested.\n",
            "WARNING:absl:Importing a function (__inference_internal_grad_fn_9284212) with ops with unsaved custom gradients. Will likely fail if a gradient is requested.\n",
            "WARNING:absl:Importing a function (__inference_internal_grad_fn_9286174) with ops with unsaved custom gradients. Will likely fail if a gradient is requested.\n",
            "WARNING:absl:Importing a function (__inference_internal_grad_fn_9274069) with ops with unsaved custom gradients. Will likely fail if a gradient is requested.\n",
            "WARNING:absl:Importing a function (__inference_internal_grad_fn_9271783) with ops with unsaved custom gradients. Will likely fail if a gradient is requested.\n",
            "WARNING:absl:Importing a function (__inference_internal_grad_fn_9278704) with ops with unsaved custom gradients. Will likely fail if a gradient is requested.\n",
            "WARNING:absl:Importing a function (__inference_internal_grad_fn_9271675) with ops with unsaved custom gradients. Will likely fail if a gradient is requested.\n",
            "WARNING:absl:Importing a function (__inference_internal_grad_fn_9282790) with ops with unsaved custom gradients. Will likely fail if a gradient is requested.\n",
            "WARNING:absl:Importing a function (__inference_internal_grad_fn_9283843) with ops with unsaved custom gradients. Will likely fail if a gradient is requested.\n",
            "WARNING:absl:Importing a function (__inference_internal_grad_fn_9274159) with ops with unsaved custom gradients. Will likely fail if a gradient is requested.\n",
            "WARNING:absl:Importing a function (__inference_internal_grad_fn_9285139) with ops with unsaved custom gradients. Will likely fail if a gradient is requested.\n",
            "WARNING:absl:Importing a function (__inference_internal_grad_fn_9274483) with ops with unsaved custom gradients. Will likely fail if a gradient is requested.\n",
            "WARNING:absl:Importing a function (__inference_internal_grad_fn_9278542) with ops with unsaved custom gradients. Will likely fail if a gradient is requested.\n",
            "WARNING:absl:Importing a function (__inference_internal_grad_fn_9277210) with ops with unsaved custom gradients. Will likely fail if a gradient is requested.\n",
            "WARNING:absl:Importing a function (__inference_internal_grad_fn_9272323) with ops with unsaved custom gradients. Will likely fail if a gradient is requested.\n",
            "WARNING:absl:Importing a function (__inference_internal_grad_fn_9275680) with ops with unsaved custom gradients. Will likely fail if a gradient is requested.\n",
            "WARNING:absl:Importing a function (__inference_internal_grad_fn_9275608) with ops with unsaved custom gradients. Will likely fail if a gradient is requested.\n",
            "WARNING:absl:Importing a function (__inference_internal_grad_fn_9282394) with ops with unsaved custom gradients. Will likely fail if a gradient is requested.\n",
            "WARNING:absl:Importing a function (__inference_internal_grad_fn_9272269) with ops with unsaved custom gradients. Will likely fail if a gradient is requested.\n",
            "WARNING:absl:Importing a function (__inference_internal_grad_fn_9272143) with ops with unsaved custom gradients. Will likely fail if a gradient is requested.\n",
            "WARNING:absl:Importing a function (__inference_internal_grad_fn_9274168) with ops with unsaved custom gradients. Will likely fail if a gradient is requested.\n",
            "WARNING:absl:Importing a function (__inference_internal_grad_fn_9285922) with ops with unsaved custom gradients. Will likely fail if a gradient is requested.\n",
            "WARNING:absl:Importing a function (__inference_internal_grad_fn_9282718) with ops with unsaved custom gradients. Will likely fail if a gradient is requested.\n",
            "WARNING:absl:Importing a function (__inference_internal_grad_fn_9278911) with ops with unsaved custom gradients. Will likely fail if a gradient is requested.\n",
            "WARNING:absl:Importing a function (__inference_internal_grad_fn_9282448) with ops with unsaved custom gradients. Will likely fail if a gradient is requested.\n",
            "WARNING:absl:Importing a function (__inference_internal_grad_fn_9283141) with ops with unsaved custom gradients. Will likely fail if a gradient is requested.\n",
            "WARNING:absl:Importing a function (__inference_internal_grad_fn_9272944) with ops with unsaved custom gradients. Will likely fail if a gradient is requested.\n",
            "WARNING:absl:Importing a function (__inference_internal_grad_fn_9271999) with ops with unsaved custom gradients. Will likely fail if a gradient is requested.\n",
            "WARNING:absl:Importing a function (__inference_internal_grad_fn_9278560) with ops with unsaved custom gradients. Will likely fail if a gradient is requested.\n",
            "WARNING:absl:Importing a function (__inference_internal_grad_fn_9281089) with ops with unsaved custom gradients. Will likely fail if a gradient is requested.\n",
            "WARNING:absl:Importing a function (__inference_internal_grad_fn_9272701) with ops with unsaved custom gradients. Will likely fail if a gradient is requested.\n",
            "WARNING:absl:Importing a function (__inference_internal_grad_fn_9271936) with ops with unsaved custom gradients. Will likely fail if a gradient is requested.\n",
            "WARNING:absl:Importing a function (__inference_internal_grad_fn_9281854) with ops with unsaved custom gradients. Will likely fail if a gradient is requested.\n",
            "WARNING:absl:Importing a function (__inference_internal_grad_fn_9285832) with ops with unsaved custom gradients. Will likely fail if a gradient is requested.\n",
            "WARNING:absl:Importing a function (__inference_internal_grad_fn_9272926) with ops with unsaved custom gradients. Will likely fail if a gradient is requested.\n",
            "WARNING:absl:Importing a function (__inference_internal_grad_fn_9286390) with ops with unsaved custom gradients. Will likely fail if a gradient is requested.\n",
            "WARNING:absl:Importing a function (__inference_internal_grad_fn_9283024) with ops with unsaved custom gradients. Will likely fail if a gradient is requested.\n",
            "WARNING:absl:Importing a function (__inference_internal_grad_fn_9286273) with ops with unsaved custom gradients. Will likely fail if a gradient is requested.\n",
            "WARNING:absl:Importing a function (__inference_internal_grad_fn_9274951) with ops with unsaved custom gradients. Will likely fail if a gradient is requested.\n",
            "WARNING:absl:Importing a function (__inference_internal_grad_fn_9272242) with ops with unsaved custom gradients. Will likely fail if a gradient is requested.\n",
            "WARNING:absl:Importing a function (__inference_internal_grad_fn_9271900) with ops with unsaved custom gradients. Will likely fail if a gradient is requested.\n",
            "WARNING:absl:Importing a function (__inference_internal_grad_fn_9284230) with ops with unsaved custom gradients. Will likely fail if a gradient is requested.\n",
            "WARNING:absl:Importing a function (__inference_internal_grad_fn_9285076) with ops with unsaved custom gradients. Will likely fail if a gradient is requested.\n",
            "WARNING:absl:Importing a function (__inference_internal_grad_fn_9272791) with ops with unsaved custom gradients. Will likely fail if a gradient is requested.\n",
            "WARNING:absl:Importing a function (__inference_internal_grad_fn_9272314) with ops with unsaved custom gradients. Will likely fail if a gradient is requested.\n",
            "WARNING:absl:Importing a function (__inference_internal_grad_fn_9271990) with ops with unsaved custom gradients. Will likely fail if a gradient is requested.\n",
            "WARNING:absl:Importing a function (__inference_internal_grad_fn_9273754) with ops with unsaved custom gradients. Will likely fail if a gradient is requested.\n",
            "WARNING:absl:Importing a function (__inference_internal_grad_fn_9278614) with ops with unsaved custom gradients. Will likely fail if a gradient is requested.\n",
            "WARNING:absl:Importing a function (__inference_internal_grad_fn_9272116) with ops with unsaved custom gradients. Will likely fail if a gradient is requested.\n",
            "WARNING:absl:Importing a function (__inference_internal_grad_fn_9273052) with ops with unsaved custom gradients. Will likely fail if a gradient is requested.\n",
            "WARNING:absl:Importing a function (__inference_internal_grad_fn_9281206) with ops with unsaved custom gradients. Will likely fail if a gradient is requested.\n",
            "WARNING:absl:Importing a function (__inference_internal_grad_fn_9280837) with ops with unsaved custom gradients. Will likely fail if a gradient is requested.\n",
            "WARNING:absl:Importing a function (__inference_internal_grad_fn_9275536) with ops with unsaved custom gradients. Will likely fail if a gradient is requested.\n",
            "WARNING:absl:Importing a function (__inference_internal_grad_fn_9271594) with ops with unsaved custom gradients. Will likely fail if a gradient is requested.\n",
            "WARNING:absl:Importing a function (__inference_internal_grad_fn_9282700) with ops with unsaved custom gradients. Will likely fail if a gradient is requested.\n",
            "WARNING:absl:Importing a function (__inference_internal_grad_fn_9276094) with ops with unsaved custom gradients. Will likely fail if a gradient is requested.\n",
            "WARNING:absl:Importing a function (__inference_internal_grad_fn_9284761) with ops with unsaved custom gradients. Will likely fail if a gradient is requested.\n",
            "WARNING:absl:Importing a function (__inference_internal_grad_fn_9284860) with ops with unsaved custom gradients. Will likely fail if a gradient is requested.\n",
            "WARNING:absl:Importing a function (__inference_internal_grad_fn_9271459) with ops with unsaved custom gradients. Will likely fail if a gradient is requested.\n",
            "WARNING:absl:Importing a function (__inference_internal_grad_fn_9274429) with ops with unsaved custom gradients. Will likely fail if a gradient is requested.\n",
            "WARNING:absl:Importing a function (__inference_internal_grad_fn_9274798) with ops with unsaved custom gradients. Will likely fail if a gradient is requested.\n",
            "WARNING:absl:Importing a function (__inference_internal_grad_fn_9272485) with ops with unsaved custom gradients. Will likely fail if a gradient is requested.\n",
            "WARNING:absl:Importing a function (__inference_internal_grad_fn_9275464) with ops with unsaved custom gradients. Will likely fail if a gradient is requested.\n",
            "WARNING:absl:Importing a function (__inference_internal_grad_fn_9276616) with ops with unsaved custom gradients. Will likely fail if a gradient is requested.\n",
            "WARNING:absl:Importing a function (__inference_internal_grad_fn_9281278) with ops with unsaved custom gradients. Will likely fail if a gradient is requested.\n",
            "WARNING:absl:Importing a function (__inference_internal_grad_fn_9276112) with ops with unsaved custom gradients. Will likely fail if a gradient is requested.\n",
            "WARNING:absl:Importing a function (__inference_internal_grad_fn_9286588) with ops with unsaved custom gradients. Will likely fail if a gradient is requested.\n",
            "WARNING:absl:Importing a function (__inference_internal_grad_fn_9279424) with ops with unsaved custom gradients. Will likely fail if a gradient is requested.\n",
            "WARNING:absl:Importing a function (__inference_internal_grad_fn_9273673) with ops with unsaved custom gradients. Will likely fail if a gradient is requested.\n",
            "WARNING:absl:Importing a function (__inference_internal_grad_fn_9274906) with ops with unsaved custom gradients. Will likely fail if a gradient is requested.\n",
            "WARNING:absl:Importing a function (__inference_internal_grad_fn_9274438) with ops with unsaved custom gradients. Will likely fail if a gradient is requested.\n",
            "WARNING:absl:Importing a function (__inference_internal_grad_fn_9282574) with ops with unsaved custom gradients. Will likely fail if a gradient is requested.\n",
            "WARNING:absl:Importing a function (__inference_internal_grad_fn_9273412) with ops with unsaved custom gradients. Will likely fail if a gradient is requested.\n",
            "WARNING:absl:Importing a function (__inference_internal_grad_fn_9272017) with ops with unsaved custom gradients. Will likely fail if a gradient is requested.\n",
            "WARNING:absl:Importing a function (__inference_internal_grad_fn_9285085) with ops with unsaved custom gradients. Will likely fail if a gradient is requested.\n",
            "WARNING:absl:Importing a function (__inference_internal_grad_fn_9286147) with ops with unsaved custom gradients. Will likely fail if a gradient is requested.\n",
            "WARNING:absl:Importing a function (__inference_internal_grad_fn_9279478) with ops with unsaved custom gradients. Will likely fail if a gradient is requested.\n",
            "WARNING:absl:Importing a function (__inference_internal_grad_fn_9276229) with ops with unsaved custom gradients. Will likely fail if a gradient is requested.\n",
            "WARNING:absl:Importing a function (__inference_internal_grad_fn_9285580) with ops with unsaved custom gradients. Will likely fail if a gradient is requested.\n",
            "WARNING:absl:Importing a function (__inference_internal_grad_fn_9272890) with ops with unsaved custom gradients. Will likely fail if a gradient is requested.\n",
            "WARNING:absl:Importing a function (__inference_internal_grad_fn_9276769) with ops with unsaved custom gradients. Will likely fail if a gradient is requested.\n",
            "WARNING:absl:Importing a function (__inference_internal_grad_fn_9286975) with ops with unsaved custom gradients. Will likely fail if a gradient is requested.\n",
            "WARNING:absl:Importing a function (__inference_internal_grad_fn_9272755) with ops with unsaved custom gradients. Will likely fail if a gradient is requested.\n",
            "WARNING:absl:Importing a function (__inference_internal_grad_fn_9282484) with ops with unsaved custom gradients. Will likely fail if a gradient is requested.\n",
            "WARNING:absl:Importing a function (__inference_internal_grad_fn_9282655) with ops with unsaved custom gradients. Will likely fail if a gradient is requested.\n",
            "WARNING:absl:Importing a function (__inference_internal_grad_fn_9273682) with ops with unsaved custom gradients. Will likely fail if a gradient is requested.\n",
            "WARNING:absl:Importing a function (__inference_internal_grad_fn_9276661) with ops with unsaved custom gradients. Will likely fail if a gradient is requested.\n",
            "WARNING:absl:Importing a function (__inference_internal_grad_fn_9277903) with ops with unsaved custom gradients. Will likely fail if a gradient is requested.\n",
            "WARNING:absl:Importing a function (__inference_internal_grad_fn_9274519) with ops with unsaved custom gradients. Will likely fail if a gradient is requested.\n",
            "WARNING:absl:Importing a function (__inference_internal_grad_fn_9273151) with ops with unsaved custom gradients. Will likely fail if a gradient is requested.\n",
            "WARNING:absl:Importing a function (__inference_internal_grad_fn_9280540) with ops with unsaved custom gradients. Will likely fail if a gradient is requested.\n",
            "WARNING:absl:Importing a function (__inference_internal_grad_fn_9281998) with ops with unsaved custom gradients. Will likely fail if a gradient is requested.\n",
            "WARNING:absl:Importing a function (__inference_internal_grad_fn_9274474) with ops with unsaved custom gradients. Will likely fail if a gradient is requested.\n",
            "WARNING:absl:Importing a function (__inference_internal_grad_fn_9272818) with ops with unsaved custom gradients. Will likely fail if a gradient is requested.\n",
            "WARNING:absl:Importing a function (__inference_internal_grad_fn_9284185) with ops with unsaved custom gradients. Will likely fail if a gradient is requested.\n",
            "WARNING:absl:Importing a function (__inference_internal_grad_fn_9276121) with ops with unsaved custom gradients. Will likely fail if a gradient is requested.\n",
            "WARNING:absl:Importing a function (__inference_internal_grad_fn_9273007) with ops with unsaved custom gradients. Will likely fail if a gradient is requested.\n",
            "WARNING:absl:Importing a function (__inference_internal_grad_fn_9274231) with ops with unsaved custom gradients. Will likely fail if a gradient is requested.\n",
            "WARNING:absl:Importing a function (__inference_internal_grad_fn_9285913) with ops with unsaved custom gradients. Will likely fail if a gradient is requested.\n",
            "WARNING:absl:Importing a function (__inference_internal_grad_fn_9272737) with ops with unsaved custom gradients. Will likely fail if a gradient is requested.\n",
            "WARNING:absl:Importing a function (__inference_internal_grad_fn_9273637) with ops with unsaved custom gradients. Will likely fail if a gradient is requested.\n",
            "WARNING:absl:Importing a function (__inference_internal_grad_fn_9280207) with ops with unsaved custom gradients. Will likely fail if a gradient is requested.\n",
            "WARNING:absl:Importing a function (__inference_internal_grad_fn_9278551) with ops with unsaved custom gradients. Will likely fail if a gradient is requested.\n",
            "WARNING:absl:Importing a function (__inference_internal_grad_fn_9274258) with ops with unsaved custom gradients. Will likely fail if a gradient is requested.\n",
            "WARNING:absl:Importing a function (__inference_internal_grad_fn_9272197) with ops with unsaved custom gradients. Will likely fail if a gradient is requested.\n",
            "WARNING:absl:Importing a function (__inference_internal_grad_fn_9273457) with ops with unsaved custom gradients. Will likely fail if a gradient is requested.\n",
            "WARNING:absl:Importing a function (__inference_internal_grad_fn_9284914) with ops with unsaved custom gradients. Will likely fail if a gradient is requested.\n",
            "WARNING:absl:Importing a function (__inference_internal_grad_fn_9285634) with ops with unsaved custom gradients. Will likely fail if a gradient is requested.\n",
            "WARNING:absl:Importing a function (__inference_internal_grad_fn_9278767) with ops with unsaved custom gradients. Will likely fail if a gradient is requested.\n",
            "WARNING:absl:Importing a function (__inference_internal_grad_fn_9272530) with ops with unsaved custom gradients. Will likely fail if a gradient is requested.\n",
            "WARNING:absl:Importing a function (__inference_internal_grad_fn_9272107) with ops with unsaved custom gradients. Will likely fail if a gradient is requested.\n",
            "WARNING:absl:Importing a function (__inference_internal_grad_fn_9284617) with ops with unsaved custom gradients. Will likely fail if a gradient is requested.\n",
            "WARNING:absl:Importing a function (__inference_internal_grad_fn_9283042) with ops with unsaved custom gradients. Will likely fail if a gradient is requested.\n",
            "WARNING:absl:Importing a function (__inference_internal_grad_fn_9272287) with ops with unsaved custom gradients. Will likely fail if a gradient is requested.\n",
            "WARNING:absl:Importing a function (__inference_internal_grad_fn_9283573) with ops with unsaved custom gradients. Will likely fail if a gradient is requested.\n",
            "WARNING:absl:Importing a function (__inference_internal_grad_fn_9274249) with ops with unsaved custom gradients. Will likely fail if a gradient is requested.\n",
            "WARNING:absl:Importing a function (__inference_internal_grad_fn_9272368) with ops with unsaved custom gradients. Will likely fail if a gradient is requested.\n",
            "WARNING:absl:Importing a function (__inference_internal_grad_fn_9273988) with ops with unsaved custom gradients. Will likely fail if a gradient is requested.\n",
            "WARNING:absl:Importing a function (__inference_internal_grad_fn_9284068) with ops with unsaved custom gradients. Will likely fail if a gradient is requested.\n",
            "WARNING:absl:Importing a function (__inference_internal_grad_fn_9274897) with ops with unsaved custom gradients. Will likely fail if a gradient is requested.\n",
            "WARNING:absl:Importing a function (__inference_internal_grad_fn_9281791) with ops with unsaved custom gradients. Will likely fail if a gradient is requested.\n",
            "WARNING:absl:Importing a function (__inference_internal_grad_fn_9274087) with ops with unsaved custom gradients. Will likely fail if a gradient is requested.\n",
            "WARNING:absl:Importing a function (__inference_internal_grad_fn_9279910) with ops with unsaved custom gradients. Will likely fail if a gradient is requested.\n",
            "WARNING:absl:Importing a function (__inference_internal_grad_fn_9282565) with ops with unsaved custom gradients. Will likely fail if a gradient is requested.\n",
            "WARNING:absl:Importing a function (__inference_internal_grad_fn_9274222) with ops with unsaved custom gradients. Will likely fail if a gradient is requested.\n",
            "WARNING:absl:Importing a function (__inference_internal_grad_fn_9272044) with ops with unsaved custom gradients. Will likely fail if a gradient is requested.\n",
            "WARNING:absl:Importing a function (__inference_internal_grad_fn_9272278) with ops with unsaved custom gradients. Will likely fail if a gradient is requested.\n",
            "WARNING:absl:Importing a function (__inference_internal_grad_fn_9284194) with ops with unsaved custom gradients. Will likely fail if a gradient is requested.\n",
            "WARNING:absl:Importing a function (__inference_internal_grad_fn_9271621) with ops with unsaved custom gradients. Will likely fail if a gradient is requested.\n",
            "WARNING:absl:Importing a function (__inference_internal_grad_fn_9272503) with ops with unsaved custom gradients. Will likely fail if a gradient is requested.\n",
            "WARNING:absl:Importing a function (__inference_internal_grad_fn_9272215) with ops with unsaved custom gradients. Will likely fail if a gradient is requested.\n",
            "WARNING:absl:Importing a function (__inference_internal_grad_fn_9286048) with ops with unsaved custom gradients. Will likely fail if a gradient is requested.\n",
            "WARNING:absl:Importing a function (__inference_internal_grad_fn_9286885) with ops with unsaved custom gradients. Will likely fail if a gradient is requested.\n",
            "WARNING:absl:Importing a function (__inference_internal_grad_fn_9284446) with ops with unsaved custom gradients. Will likely fail if a gradient is requested.\n",
            "WARNING:absl:Importing a function (__inference_internal_grad_fn_9271540) with ops with unsaved custom gradients. Will likely fail if a gradient is requested.\n",
            "WARNING:absl:Importing a function (__inference_internal_grad_fn_9283096) with ops with unsaved custom gradients. Will likely fail if a gradient is requested.\n",
            "WARNING:absl:Importing a function (__inference_internal_grad_fn_9277894) with ops with unsaved custom gradients. Will likely fail if a gradient is requested.\n",
            "WARNING:absl:Importing a function (__inference_internal_grad_fn_9274366) with ops with unsaved custom gradients. Will likely fail if a gradient is requested.\n",
            "WARNING:absl:Importing a function (__inference_internal_grad_fn_9279847) with ops with unsaved custom gradients. Will likely fail if a gradient is requested.\n",
            "WARNING:absl:Importing a function (__inference_internal_grad_fn_9277966) with ops with unsaved custom gradients. Will likely fail if a gradient is requested.\n",
            "WARNING:absl:Importing a function (__inference_internal_grad_fn_9286003) with ops with unsaved custom gradients. Will likely fail if a gradient is requested.\n",
            "WARNING:absl:Importing a function (__inference_internal_grad_fn_9286165) with ops with unsaved custom gradients. Will likely fail if a gradient is requested.\n",
            "WARNING:absl:Importing a function (__inference_internal_grad_fn_9275284) with ops with unsaved custom gradients. Will likely fail if a gradient is requested.\n",
            "WARNING:absl:Importing a function (__inference_internal_grad_fn_9280702) with ops with unsaved custom gradients. Will likely fail if a gradient is requested.\n",
            "WARNING:absl:Importing a function (__inference_internal_grad_fn_9285715) with ops with unsaved custom gradients. Will likely fail if a gradient is requested.\n",
            "WARNING:absl:Importing a function (__inference_internal_grad_fn_9279901) with ops with unsaved custom gradients. Will likely fail if a gradient is requested.\n",
            "WARNING:absl:Importing a function (__inference_internal_grad_fn_9285094) with ops with unsaved custom gradients. Will likely fail if a gradient is requested.\n",
            "WARNING:absl:Importing a function (__inference_internal_grad_fn_9273214) with ops with unsaved custom gradients. Will likely fail if a gradient is requested.\n",
            "WARNING:absl:Importing a function (__inference_internal_grad_fn_9272845) with ops with unsaved custom gradients. Will likely fail if a gradient is requested.\n",
            "WARNING:absl:Importing a function (__inference_internal_grad_fn_9284401) with ops with unsaved custom gradients. Will likely fail if a gradient is requested.\n",
            "WARNING:absl:Importing a function (__inference_internal_grad_fn_9277300) with ops with unsaved custom gradients. Will likely fail if a gradient is requested.\n",
            "WARNING:absl:Importing a function (__inference_internal_grad_fn_9271423) with ops with unsaved custom gradients. Will likely fail if a gradient is requested.\n",
            "WARNING:absl:Importing a function (__inference_internal_grad_fn_9284284) with ops with unsaved custom gradients. Will likely fail if a gradient is requested.\n",
            "WARNING:absl:Importing a function (__inference_internal_grad_fn_9280126) with ops with unsaved custom gradients. Will likely fail if a gradient is requested.\n",
            "WARNING:absl:Importing a function (__inference_internal_grad_fn_9273664) with ops with unsaved custom gradients. Will likely fail if a gradient is requested.\n",
            "WARNING:absl:Importing a function (__inference_internal_grad_fn_9276598) with ops with unsaved custom gradients. Will likely fail if a gradient is requested.\n",
            "WARNING:absl:Importing a function (__inference_internal_grad_fn_9272098) with ops with unsaved custom gradients. Will likely fail if a gradient is requested.\n",
            "WARNING:absl:Importing a function (__inference_internal_grad_fn_9277264) with ops with unsaved custom gradients. Will likely fail if a gradient is requested.\n",
            "WARNING:absl:Importing a function (__inference_internal_grad_fn_9272863) with ops with unsaved custom gradients. Will likely fail if a gradient is requested.\n",
            "WARNING:absl:Importing a function (__inference_internal_grad_fn_9271378) with ops with unsaved custom gradients. Will likely fail if a gradient is requested.\n",
            "WARNING:absl:Importing a function (__inference_internal_grad_fn_9276166) with ops with unsaved custom gradients. Will likely fail if a gradient is requested.\n",
            "WARNING:absl:Importing a function (__inference_internal_grad_fn_9284428) with ops with unsaved custom gradients. Will likely fail if a gradient is requested.\n",
            "WARNING:absl:Importing a function (__inference_internal_grad_fn_9273601) with ops with unsaved custom gradients. Will likely fail if a gradient is requested.\n",
            "WARNING:absl:Importing a function (__inference_internal_grad_fn_9285184) with ops with unsaved custom gradients. Will likely fail if a gradient is requested.\n",
            "WARNING:absl:Importing a function (__inference_internal_grad_fn_9273034) with ops with unsaved custom gradients. Will likely fail if a gradient is requested.\n",
            "WARNING:absl:Importing a function (__inference_internal_grad_fn_9272521) with ops with unsaved custom gradients. Will likely fail if a gradient is requested.\n",
            "WARNING:absl:Importing a function (__inference_internal_grad_fn_9272629) with ops with unsaved custom gradients. Will likely fail if a gradient is requested.\n",
            "WARNING:absl:Importing a function (__inference_internal_grad_fn_9272719) with ops with unsaved custom gradients. Will likely fail if a gradient is requested.\n",
            "WARNING:absl:Importing a function (__inference_internal_grad_fn_9283618) with ops with unsaved custom gradients. Will likely fail if a gradient is requested.\n",
            "WARNING:absl:Importing a function (__inference_internal_grad_fn_9273430) with ops with unsaved custom gradients. Will likely fail if a gradient is requested.\n",
            "WARNING:absl:Importing a function (__inference_internal_grad_fn_9271630) with ops with unsaved custom gradients. Will likely fail if a gradient is requested.\n",
            "WARNING:absl:Importing a function (__inference_internal_grad_fn_9272377) with ops with unsaved custom gradients. Will likely fail if a gradient is requested.\n",
            "WARNING:absl:Importing a function (__inference_internal_grad_fn_9275032) with ops with unsaved custom gradients. Will likely fail if a gradient is requested.\n",
            "WARNING:absl:Importing a function (__inference_internal_grad_fn_9281134) with ops with unsaved custom gradients. Will likely fail if a gradient is requested.\n",
            "WARNING:absl:Importing a function (__inference_internal_grad_fn_9285940) with ops with unsaved custom gradients. Will likely fail if a gradient is requested.\n",
            "WARNING:absl:Importing a function (__inference_internal_grad_fn_9284113) with ops with unsaved custom gradients. Will likely fail if a gradient is requested.\n",
            "WARNING:absl:Importing a function (__inference_internal_grad_fn_9277849) with ops with unsaved custom gradients. Will likely fail if a gradient is requested.\n",
            "WARNING:absl:Importing a function (__inference_internal_grad_fn_9284878) with ops with unsaved custom gradients. Will likely fail if a gradient is requested.\n",
            "WARNING:absl:Importing a function (__inference_internal_grad_fn_9283762) with ops with unsaved custom gradients. Will likely fail if a gradient is requested.\n",
            "WARNING:absl:Importing a function (__inference_internal_grad_fn_9274015) with ops with unsaved custom gradients. Will likely fail if a gradient is requested.\n",
            "WARNING:absl:Importing a function (__inference_internal_grad_fn_9281962) with ops with unsaved custom gradients. Will likely fail if a gradient is requested.\n",
            "WARNING:absl:Importing a function (__inference_internal_grad_fn_9273907) with ops with unsaved custom gradients. Will likely fail if a gradient is requested.\n",
            "WARNING:absl:Importing a function (__inference_internal_grad_fn_9281728) with ops with unsaved custom gradients. Will likely fail if a gradient is requested.\n",
            "WARNING:absl:Importing a function (__inference_internal_grad_fn_9273223) with ops with unsaved custom gradients. Will likely fail if a gradient is requested.\n",
            "WARNING:absl:Importing a function (__inference_internal_grad_fn_9284203) with ops with unsaved custom gradients. Will likely fail if a gradient is requested.\n",
            "WARNING:absl:Importing a function (__inference_internal_grad_fn_9282583) with ops with unsaved custom gradients. Will likely fail if a gradient is requested.\n",
            "WARNING:absl:Importing a function (__inference_internal_grad_fn_9286741) with ops with unsaved custom gradients. Will likely fail if a gradient is requested.\n",
            "WARNING:absl:Importing a function (__inference_internal_grad_fn_9280648) with ops with unsaved custom gradients. Will likely fail if a gradient is requested.\n",
            "WARNING:absl:Importing a function (__inference_internal_grad_fn_9273727) with ops with unsaved custom gradients. Will likely fail if a gradient is requested.\n",
            "WARNING:absl:Importing a function (__inference_internal_grad_fn_9277399) with ops with unsaved custom gradients. Will likely fail if a gradient is requested.\n",
            "WARNING:absl:Importing a function (__inference_internal_grad_fn_9277948) with ops with unsaved custom gradients. Will likely fail if a gradient is requested.\n",
            "WARNING:absl:Importing a function (__inference_internal_grad_fn_9273916) with ops with unsaved custom gradients. Will likely fail if a gradient is requested.\n",
            "WARNING:absl:Importing a function (__inference_internal_grad_fn_9286480) with ops with unsaved custom gradients. Will likely fail if a gradient is requested.\n",
            "WARNING:absl:Importing a function (__inference_internal_grad_fn_9274177) with ops with unsaved custom gradients. Will likely fail if a gradient is requested.\n",
            "WARNING:absl:Importing a function (__inference_internal_grad_fn_9280756) with ops with unsaved custom gradients. Will likely fail if a gradient is requested.\n",
            "WARNING:absl:Importing a function (__inference_internal_grad_fn_9287056) with ops with unsaved custom gradients. Will likely fail if a gradient is requested.\n",
            "WARNING:absl:Importing a function (__inference_internal_grad_fn_9271495) with ops with unsaved custom gradients. Will likely fail if a gradient is requested.\n",
            "WARNING:absl:Importing a function (__inference_internal_grad_fn_9281836) with ops with unsaved custom gradients. Will likely fail if a gradient is requested.\n",
            "WARNING:absl:Importing a function (__inference_internal_grad_fn_9282007) with ops with unsaved custom gradients. Will likely fail if a gradient is requested.\n",
            "WARNING:absl:Importing a function (__inference_internal_grad_fn_9281143) with ops with unsaved custom gradients. Will likely fail if a gradient is requested.\n",
            "WARNING:absl:Importing a function (__inference_internal_grad_fn_9271468) with ops with unsaved custom gradients. Will likely fail if a gradient is requested.\n",
            "WARNING:absl:Importing a function (__inference_internal_grad_fn_9274465) with ops with unsaved custom gradients. Will likely fail if a gradient is requested.\n",
            "WARNING:absl:Importing a function (__inference_internal_grad_fn_9273061) with ops with unsaved custom gradients. Will likely fail if a gradient is requested.\n",
            "WARNING:absl:Importing a function (__inference_internal_grad_fn_9276175) with ops with unsaved custom gradients. Will likely fail if a gradient is requested.\n",
            "WARNING:absl:Importing a function (__inference_internal_grad_fn_9284410) with ops with unsaved custom gradients. Will likely fail if a gradient is requested.\n",
            "WARNING:absl:Importing a function (__inference_internal_grad_fn_9284005) with ops with unsaved custom gradients. Will likely fail if a gradient is requested.\n",
            "WARNING:absl:Importing a function (__inference_internal_grad_fn_9283771) with ops with unsaved custom gradients. Will likely fail if a gradient is requested.\n",
            "WARNING:absl:Importing a function (__inference_internal_grad_fn_9285733) with ops with unsaved custom gradients. Will likely fail if a gradient is requested.\n",
            "WARNING:absl:Importing a function (__inference_internal_grad_fn_9271513) with ops with unsaved custom gradients. Will likely fail if a gradient is requested.\n",
            "WARNING:absl:Importing a function (__inference_internal_grad_fn_9272611) with ops with unsaved custom gradients. Will likely fail if a gradient is requested.\n",
            "WARNING:absl:Importing a function (__inference_internal_grad_fn_9271504) with ops with unsaved custom gradients. Will likely fail if a gradient is requested.\n",
            "WARNING:absl:Importing a function (__inference_internal_grad_fn_9277246) with ops with unsaved custom gradients. Will likely fail if a gradient is requested.\n",
            "WARNING:absl:Importing a function (__inference_internal_grad_fn_9277390) with ops with unsaved custom gradients. Will likely fail if a gradient is requested.\n",
            "WARNING:absl:Importing a function (__inference_internal_grad_fn_9274600) with ops with unsaved custom gradients. Will likely fail if a gradient is requested.\n",
            "WARNING:absl:Importing a function (__inference_internal_grad_fn_9280063) with ops with unsaved custom gradients. Will likely fail if a gradient is requested.\n",
            "WARNING:absl:Importing a function (__inference_internal_grad_fn_9273187) with ops with unsaved custom gradients. Will likely fail if a gradient is requested.\n",
            "WARNING:absl:Importing a function (__inference_internal_grad_fn_9276742) with ops with unsaved custom gradients. Will likely fail if a gradient is requested.\n",
            "WARNING:absl:Importing a function (__inference_internal_grad_fn_9275968) with ops with unsaved custom gradients. Will likely fail if a gradient is requested.\n",
            "WARNING:absl:Importing a function (__inference_internal_grad_fn_9273700) with ops with unsaved custom gradients. Will likely fail if a gradient is requested.\n",
            "WARNING:absl:Importing a function (__inference_internal_grad_fn_9275230) with ops with unsaved custom gradients. Will likely fail if a gradient is requested.\n",
            "WARNING:absl:Importing a function (__inference_internal_grad_fn_9278722) with ops with unsaved custom gradients. Will likely fail if a gradient is requested.\n",
            "WARNING:absl:Importing a function (__inference_internal_grad_fn_9273448) with ops with unsaved custom gradients. Will likely fail if a gradient is requested.\n",
            "WARNING:absl:Importing a function (__inference_internal_grad_fn_9272467) with ops with unsaved custom gradients. Will likely fail if a gradient is requested.\n",
            "WARNING:absl:Importing a function (__inference_internal_grad_fn_9274744) with ops with unsaved custom gradients. Will likely fail if a gradient is requested.\n",
            "WARNING:absl:Importing a function (__inference_internal_grad_fn_9273331) with ops with unsaved custom gradients. Will likely fail if a gradient is requested.\n",
            "WARNING:absl:Importing a function (__inference_internal_grad_fn_9271837) with ops with unsaved custom gradients. Will likely fail if a gradient is requested.\n",
            "WARNING:absl:Importing a function (__inference_internal_grad_fn_9285742) with ops with unsaved custom gradients. Will likely fail if a gradient is requested.\n",
            "WARNING:absl:Importing a function (__inference_internal_grad_fn_9279460) with ops with unsaved custom gradients. Will likely fail if a gradient is requested.\n",
            "WARNING:absl:Importing a function (__inference_internal_grad_fn_9284338) with ops with unsaved custom gradients. Will likely fail if a gradient is requested.\n",
            "WARNING:absl:Importing a function (__inference_internal_grad_fn_9274735) with ops with unsaved custom gradients. Will likely fail if a gradient is requested.\n",
            "WARNING:absl:Importing a function (__inference_internal_grad_fn_9285283) with ops with unsaved custom gradients. Will likely fail if a gradient is requested.\n",
            "WARNING:absl:Importing a function (__inference_internal_grad_fn_9284707) with ops with unsaved custom gradients. Will likely fail if a gradient is requested.\n",
            "WARNING:absl:Importing a function (__inference_internal_grad_fn_9278047) with ops with unsaved custom gradients. Will likely fail if a gradient is requested.\n",
            "WARNING:absl:Importing a function (__inference_internal_grad_fn_9272062) with ops with unsaved custom gradients. Will likely fail if a gradient is requested.\n",
            "WARNING:absl:Importing a function (__inference_internal_grad_fn_9278893) with ops with unsaved custom gradients. Will likely fail if a gradient is requested.\n",
            "WARNING:absl:Importing a function (__inference_internal_grad_fn_9271882) with ops with unsaved custom gradients. Will likely fail if a gradient is requested.\n",
            "WARNING:absl:Importing a function (__inference_internal_grad_fn_9278830) with ops with unsaved custom gradients. Will likely fail if a gradient is requested.\n",
            "WARNING:absl:Importing a function (__inference_internal_grad_fn_9276868) with ops with unsaved custom gradients. Will likely fail if a gradient is requested.\n",
            "WARNING:absl:Importing a function (__inference_internal_grad_fn_9278245) with ops with unsaved custom gradients. Will likely fail if a gradient is requested.\n",
            "WARNING:absl:Importing a function (__inference_internal_grad_fn_9272206) with ops with unsaved custom gradients. Will likely fail if a gradient is requested.\n",
            "WARNING:absl:Importing a function (__inference_internal_grad_fn_9279559) with ops with unsaved custom gradients. Will likely fail if a gradient is requested.\n",
            "WARNING:absl:Importing a function (__inference_internal_grad_fn_9279415) with ops with unsaved custom gradients. Will likely fail if a gradient is requested.\n",
            "WARNING:absl:Importing a function (__inference_internal_grad_fn_9271891) with ops with unsaved custom gradients. Will likely fail if a gradient is requested.\n",
            "WARNING:absl:Importing a function (__inference_internal_grad_fn_9278182) with ops with unsaved custom gradients. Will likely fail if a gradient is requested.\n",
            "WARNING:absl:Importing a function (__inference_internal_grad_fn_9286804) with ops with unsaved custom gradients. Will likely fail if a gradient is requested.\n",
            "WARNING:absl:Importing a function (__inference_internal_grad_fn_9286156) with ops with unsaved custom gradients. Will likely fail if a gradient is requested.\n",
            "WARNING:absl:Importing a function (__inference_internal_grad_fn_9273079) with ops with unsaved custom gradients. Will likely fail if a gradient is requested.\n",
            "WARNING:absl:Importing a function (__inference_internal_grad_fn_9282781) with ops with unsaved custom gradients. Will likely fail if a gradient is requested.\n",
            "WARNING:absl:Importing a function (__inference_internal_grad_fn_9282151) with ops with unsaved custom gradients. Will likely fail if a gradient is requested.\n",
            "WARNING:absl:Importing a function (__inference_internal_grad_fn_9286381) with ops with unsaved custom gradients. Will likely fail if a gradient is requested.\n",
            "WARNING:absl:Importing a function (__inference_internal_grad_fn_9281296) with ops with unsaved custom gradients. Will likely fail if a gradient is requested.\n",
            "WARNING:absl:Importing a function (__inference_internal_grad_fn_9271729) with ops with unsaved custom gradients. Will likely fail if a gradient is requested.\n",
            "WARNING:absl:Importing a function (__inference_internal_grad_fn_9272683) with ops with unsaved custom gradients. Will likely fail if a gradient is requested.\n",
            "WARNING:absl:Importing a function (__inference_internal_grad_fn_9271531) with ops with unsaved custom gradients. Will likely fail if a gradient is requested.\n",
            "WARNING:absl:Importing a function (__inference_internal_grad_fn_9274141) with ops with unsaved custom gradients. Will likely fail if a gradient is requested.\n",
            "WARNING:absl:Importing a function (__inference_internal_grad_fn_9284482) with ops with unsaved custom gradients. Will likely fail if a gradient is requested.\n",
            "WARNING:absl:Importing a function (__inference_internal_grad_fn_9273619) with ops with unsaved custom gradients. Will likely fail if a gradient is requested.\n",
            "WARNING:absl:Importing a function (__inference_internal_grad_fn_9274609) with ops with unsaved custom gradients. Will likely fail if a gradient is requested.\n",
            "WARNING:absl:Importing a function (__inference_internal_grad_fn_9273322) with ops with unsaved custom gradients. Will likely fail if a gradient is requested.\n",
            "WARNING:absl:Importing a function (__inference_internal_grad_fn_9280486) with ops with unsaved custom gradients. Will likely fail if a gradient is requested.\n",
            "WARNING:absl:Importing a function (__inference_internal_grad_fn_9271828) with ops with unsaved custom gradients. Will likely fail if a gradient is requested.\n",
            "WARNING:absl:Importing a function (__inference_internal_grad_fn_9287065) with ops with unsaved custom gradients. Will likely fail if a gradient is requested.\n",
            "WARNING:absl:Importing a function (__inference_internal_grad_fn_9282799) with ops with unsaved custom gradients. Will likely fail if a gradient is requested.\n",
            "WARNING:absl:Importing a function (__inference_internal_grad_fn_9273826) with ops with unsaved custom gradients. Will likely fail if a gradient is requested.\n",
            "WARNING:absl:Importing a function (__inference_internal_grad_fn_9285850) with ops with unsaved custom gradients. Will likely fail if a gradient is requested.\n",
            "WARNING:absl:Importing a function (__inference_internal_grad_fn_9280495) with ops with unsaved custom gradients. Will likely fail if a gradient is requested.\n",
            "WARNING:absl:Importing a function (__inference_internal_grad_fn_9279973) with ops with unsaved custom gradients. Will likely fail if a gradient is requested.\n",
            "WARNING:absl:Importing a function (__inference_internal_grad_fn_9278695) with ops with unsaved custom gradients. Will likely fail if a gradient is requested.\n",
            "WARNING:absl:Importing a function (__inference_internal_grad_fn_9281800) with ops with unsaved custom gradients. Will likely fail if a gradient is requested.\n",
            "WARNING:absl:Importing a function (__inference_internal_grad_fn_9280450) with ops with unsaved custom gradients. Will likely fail if a gradient is requested.\n",
            "WARNING:absl:Importing a function (__inference_internal_grad_fn_9273421) with ops with unsaved custom gradients. Will likely fail if a gradient is requested.\n",
            "WARNING:absl:Importing a function (__inference_internal_grad_fn_9274096) with ops with unsaved custom gradients. Will likely fail if a gradient is requested.\n",
            "WARNING:absl:Importing a function (__inference_internal_grad_fn_9275239) with ops with unsaved custom gradients. Will likely fail if a gradient is requested.\n",
            "WARNING:absl:Importing a function (__inference_internal_grad_fn_9272773) with ops with unsaved custom gradients. Will likely fail if a gradient is requested.\n",
            "WARNING:absl:Importing a function (__inference_internal_grad_fn_9274276) with ops with unsaved custom gradients. Will likely fail if a gradient is requested.\n",
            "WARNING:absl:Importing a function (__inference_internal_grad_fn_9273547) with ops with unsaved custom gradients. Will likely fail if a gradient is requested.\n",
            "WARNING:absl:Importing a function (__inference_internal_grad_fn_9271522) with ops with unsaved custom gradients. Will likely fail if a gradient is requested.\n",
            "WARNING:absl:Importing a function (__inference_internal_grad_fn_9283699) with ops with unsaved custom gradients. Will likely fail if a gradient is requested.\n",
            "WARNING:absl:Importing a function (__inference_internal_grad_fn_9273241) with ops with unsaved custom gradients. Will likely fail if a gradient is requested.\n",
            "WARNING:absl:Importing a function (__inference_internal_grad_fn_9273106) with ops with unsaved custom gradients. Will likely fail if a gradient is requested.\n",
            "WARNING:absl:Importing a function (__inference_internal_grad_fn_9276958) with ops with unsaved custom gradients. Will likely fail if a gradient is requested.\n",
            "WARNING:absl:Importing a function (__inference_internal_grad_fn_9271450) with ops with unsaved custom gradients. Will likely fail if a gradient is requested.\n",
            "WARNING:absl:Importing a function (__inference_internal_grad_fn_9271666) with ops with unsaved custom gradients. Will likely fail if a gradient is requested.\n",
            "WARNING:absl:Importing a function (__inference_internal_grad_fn_9276553) with ops with unsaved custom gradients. Will likely fail if a gradient is requested.\n",
            "WARNING:absl:Importing a function (__inference_internal_grad_fn_9272962) with ops with unsaved custom gradients. Will likely fail if a gradient is requested.\n",
            "WARNING:absl:Importing a function (__inference_internal_grad_fn_9284122) with ops with unsaved custom gradients. Will likely fail if a gradient is requested.\n",
            "WARNING:absl:Importing a function (__inference_internal_grad_fn_9278713) with ops with unsaved custom gradients. Will likely fail if a gradient is requested.\n",
            "WARNING:absl:Importing a function (__inference_internal_grad_fn_9280558) with ops with unsaved custom gradients. Will likely fail if a gradient is requested.\n",
            "WARNING:absl:Importing a function (__inference_internal_grad_fn_9280117) with ops with unsaved custom gradients. Will likely fail if a gradient is requested.\n",
            "WARNING:absl:Importing a function (__inference_internal_grad_fn_9274879) with ops with unsaved custom gradients. Will likely fail if a gradient is requested.\n",
            "WARNING:absl:Importing a function (__inference_internal_grad_fn_9286210) with ops with unsaved custom gradients. Will likely fail if a gradient is requested.\n",
            "WARNING:absl:Importing a function (__inference_internal_grad_fn_9280855) with ops with unsaved custom gradients. Will likely fail if a gradient is requested.\n",
            "WARNING:absl:Importing a function (__inference_internal_grad_fn_9273646) with ops with unsaved custom gradients. Will likely fail if a gradient is requested.\n",
            "WARNING:absl:Importing a function (__inference_internal_grad_fn_9272179) with ops with unsaved custom gradients. Will likely fail if a gradient is requested.\n",
            "WARNING:absl:Importing a function (__inference_internal_grad_fn_9272710) with ops with unsaved custom gradients. Will likely fail if a gradient is requested.\n",
            "WARNING:absl:Importing a function (__inference_internal_grad_fn_9283717) with ops with unsaved custom gradients. Will likely fail if a gradient is requested.\n",
            "WARNING:absl:Importing a function (__inference_internal_grad_fn_9285697) with ops with unsaved custom gradients. Will likely fail if a gradient is requested.\n",
            "WARNING:absl:Importing a function (__inference_internal_grad_fn_9271873) with ops with unsaved custom gradients. Will likely fail if a gradient is requested.\n",
            "WARNING:absl:Importing a function (__inference_internal_grad_fn_9273655) with ops with unsaved custom gradients. Will likely fail if a gradient is requested.\n",
            "WARNING:absl:Importing a function (__inference_internal_grad_fn_9284419) with ops with unsaved custom gradients. Will likely fail if a gradient is requested.\n",
            "WARNING:absl:Importing a function (__inference_internal_grad_fn_9286498) with ops with unsaved custom gradients. Will likely fail if a gradient is requested.\n",
            "WARNING:absl:Importing a function (__inference_internal_grad_fn_9273259) with ops with unsaved custom gradients. Will likely fail if a gradient is requested.\n",
            "WARNING:absl:Importing a function (__inference_internal_grad_fn_9280774) with ops with unsaved custom gradients. Will likely fail if a gradient is requested.\n",
            "WARNING:absl:Importing a function (__inference_internal_grad_fn_9273817) with ops with unsaved custom gradients. Will likely fail if a gradient is requested.\n",
            "WARNING:absl:Importing a function (__inference_internal_grad_fn_9285292) with ops with unsaved custom gradients. Will likely fail if a gradient is requested.\n",
            "WARNING:absl:Importing a function (__inference_internal_grad_fn_9281098) with ops with unsaved custom gradients. Will likely fail if a gradient is requested.\n",
            "WARNING:absl:Importing a function (__inference_internal_grad_fn_9286921) with ops with unsaved custom gradients. Will likely fail if a gradient is requested.\n",
            "WARNING:absl:Importing a function (__inference_internal_grad_fn_9272260) with ops with unsaved custom gradients. Will likely fail if a gradient is requested.\n",
            "WARNING:absl:Importing a function (__inference_internal_grad_fn_9278038) with ops with unsaved custom gradients. Will likely fail if a gradient is requested.\n",
            "WARNING:absl:Importing a function (__inference_internal_grad_fn_9285508) with ops with unsaved custom gradients. Will likely fail if a gradient is requested.\n",
            "WARNING:absl:Importing a function (__inference_internal_grad_fn_9271477) with ops with unsaved custom gradients. Will likely fail if a gradient is requested.\n",
            "WARNING:absl:Importing a function (__inference_internal_grad_fn_9272998) with ops with unsaved custom gradients. Will likely fail if a gradient is requested.\n",
            "WARNING:absl:Importing a function (__inference_internal_grad_fn_9272899) with ops with unsaved custom gradients. Will likely fail if a gradient is requested.\n",
            "WARNING:absl:Importing a function (__inference_internal_grad_fn_9279325) with ops with unsaved custom gradients. Will likely fail if a gradient is requested.\n",
            "WARNING:absl:Importing a function (__inference_internal_grad_fn_9273133) with ops with unsaved custom gradients. Will likely fail if a gradient is requested.\n",
            "WARNING:absl:Importing a function (__inference_internal_grad_fn_9284104) with ops with unsaved custom gradients. Will likely fail if a gradient is requested.\n",
            "WARNING:absl:Importing a function (__inference_internal_grad_fn_9274213) with ops with unsaved custom gradients. Will likely fail if a gradient is requested.\n",
            "WARNING:absl:Importing a function (__inference_internal_grad_fn_9274006) with ops with unsaved custom gradients. Will likely fail if a gradient is requested.\n",
            "WARNING:absl:Importing a function (__inference_internal_grad_fn_9272809) with ops with unsaved custom gradients. Will likely fail if a gradient is requested.\n",
            "WARNING:absl:Importing a function (__inference_internal_grad_fn_9285265) with ops with unsaved custom gradients. Will likely fail if a gradient is requested.\n",
            "WARNING:absl:Importing a function (__inference_internal_grad_fn_9274132) with ops with unsaved custom gradients. Will likely fail if a gradient is requested.\n",
            "WARNING:absl:Importing a function (__inference_internal_grad_fn_9285499) with ops with unsaved custom gradients. Will likely fail if a gradient is requested.\n",
            "WARNING:absl:Importing a function (__inference_internal_grad_fn_9274330) with ops with unsaved custom gradients. Will likely fail if a gradient is requested.\n",
            "WARNING:absl:Importing a function (__inference_internal_grad_fn_9279550) with ops with unsaved custom gradients. Will likely fail if a gradient is requested.\n",
            "WARNING:absl:Importing a function (__inference_internal_grad_fn_9283078) with ops with unsaved custom gradients. Will likely fail if a gradient is requested.\n",
            "WARNING:absl:Importing a function (__inference_internal_grad_fn_9272602) with ops with unsaved custom gradients. Will likely fail if a gradient is requested.\n",
            "WARNING:absl:Importing a function (__inference_internal_grad_fn_9272647) with ops with unsaved custom gradients. Will likely fail if a gradient is requested.\n",
            "WARNING:absl:Importing a function (__inference_internal_grad_fn_9272980) with ops with unsaved custom gradients. Will likely fail if a gradient is requested.\n",
            "WARNING:absl:Importing a function (__inference_internal_grad_fn_9273799) with ops with unsaved custom gradients. Will likely fail if a gradient is requested.\n",
            "WARNING:absl:Importing a function (__inference_internal_grad_fn_9284221) with ops with unsaved custom gradients. Will likely fail if a gradient is requested.\n",
            "WARNING:absl:Importing a function (__inference_internal_grad_fn_9283384) with ops with unsaved custom gradients. Will likely fail if a gradient is requested.\n",
            "WARNING:absl:Importing a function (__inference_internal_grad_fn_9283087) with ops with unsaved custom gradients. Will likely fail if a gradient is requested.\n",
            "WARNING:absl:Importing a function (__inference_internal_grad_fn_9273592) with ops with unsaved custom gradients. Will likely fail if a gradient is requested.\n",
            "WARNING:absl:Importing a function (__inference_internal_grad_fn_9272431) with ops with unsaved custom gradients. Will likely fail if a gradient is requested.\n",
            "WARNING:absl:Importing a function (__inference_internal_grad_fn_9271846) with ops with unsaved custom gradients. Will likely fail if a gradient is requested.\n",
            "WARNING:absl:Importing a function (__inference_internal_grad_fn_9283321) with ops with unsaved custom gradients. Will likely fail if a gradient is requested.\n",
            "WARNING:absl:Importing a function (__inference_internal_grad_fn_9281413) with ops with unsaved custom gradients. Will likely fail if a gradient is requested.\n",
            "WARNING:absl:Importing a function (__inference_internal_grad_fn_9275041) with ops with unsaved custom gradients. Will likely fail if a gradient is requested.\n",
            "WARNING:absl:Importing a function (__inference_internal_grad_fn_9272332) with ops with unsaved custom gradients. Will likely fail if a gradient is requested.\n",
            "WARNING:absl:Importing a function (__inference_internal_grad_fn_9277534) with ops with unsaved custom gradients. Will likely fail if a gradient is requested.\n",
            "WARNING:absl:Importing a function (__inference_internal_grad_fn_9276751) with ops with unsaved custom gradients. Will likely fail if a gradient is requested.\n",
            "WARNING:absl:Importing a function (__inference_internal_grad_fn_9273394) with ops with unsaved custom gradients. Will likely fail if a gradient is requested.\n",
            "WARNING:absl:Importing a function (__inference_internal_grad_fn_9272035) with ops with unsaved custom gradients. Will likely fail if a gradient is requested.\n",
            "WARNING:absl:Importing a function (__inference_internal_grad_fn_9285130) with ops with unsaved custom gradients. Will likely fail if a gradient is requested.\n",
            "WARNING:absl:Importing a function (__inference_internal_grad_fn_9282601) with ops with unsaved custom gradients. Will likely fail if a gradient is requested.\n",
            "WARNING:absl:Importing a function (__inference_internal_grad_fn_9282376) with ops with unsaved custom gradients. Will likely fail if a gradient is requested.\n",
            "WARNING:absl:Importing a function (__inference_internal_grad_fn_9285148) with ops with unsaved custom gradients. Will likely fail if a gradient is requested.\n",
            "WARNING:absl:Importing a function (__inference_internal_grad_fn_9271549) with ops with unsaved custom gradients. Will likely fail if a gradient is requested.\n",
            "WARNING:absl:Importing a function (__inference_internal_grad_fn_9276319) with ops with unsaved custom gradients. Will likely fail if a gradient is requested.\n",
            "WARNING:absl:Importing a function (__inference_internal_grad_fn_9285625) with ops with unsaved custom gradients. Will likely fail if a gradient is requested.\n",
            "WARNING:absl:Importing a function (__inference_internal_grad_fn_9276184) with ops with unsaved custom gradients. Will likely fail if a gradient is requested.\n",
            "WARNING:absl:Importing a function (__inference_internal_grad_fn_9273313) with ops with unsaved custom gradients. Will likely fail if a gradient is requested.\n",
            "WARNING:absl:Importing a function (__inference_internal_grad_fn_9284662) with ops with unsaved custom gradients. Will likely fail if a gradient is requested.\n",
            "WARNING:absl:Importing a function (__inference_internal_grad_fn_9276103) with ops with unsaved custom gradients. Will likely fail if a gradient is requested.\n",
            "WARNING:absl:Importing a function (__inference_internal_grad_fn_9273709) with ops with unsaved custom gradients. Will likely fail if a gradient is requested.\n",
            "WARNING:absl:Importing a function (__inference_internal_grad_fn_9281944) with ops with unsaved custom gradients. Will likely fail if a gradient is requested.\n",
            "WARNING:absl:Importing a function (__inference_internal_grad_fn_9272764) with ops with unsaved custom gradients. Will likely fail if a gradient is requested.\n",
            "WARNING:absl:Importing a function (__inference_internal_grad_fn_9274357) with ops with unsaved custom gradients. Will likely fail if a gradient is requested.\n",
            "WARNING:absl:Importing a function (__inference_internal_grad_fn_9276220) with ops with unsaved custom gradients. Will likely fail if a gradient is requested.\n",
            "WARNING:absl:Importing a function (__inference_internal_grad_fn_9284842) with ops with unsaved custom gradients. Will likely fail if a gradient is requested.\n",
            "WARNING:absl:Importing a function (__inference_internal_grad_fn_9280054) with ops with unsaved custom gradients. Will likely fail if a gradient is requested.\n",
            "WARNING:absl:Importing a function (__inference_internal_grad_fn_9283033) with ops with unsaved custom gradients. Will likely fail if a gradient is requested.\n",
            "WARNING:absl:Importing a function (__inference_internal_grad_fn_9284554) with ops with unsaved custom gradients. Will likely fail if a gradient is requested.\n",
            "WARNING:absl:Importing a function (__inference_internal_grad_fn_9281953) with ops with unsaved custom gradients. Will likely fail if a gradient is requested.\n",
            "WARNING:absl:Importing a function (__inference_internal_grad_fn_9272881) with ops with unsaved custom gradients. Will likely fail if a gradient is requested.\n",
            "WARNING:absl:Importing a function (__inference_internal_grad_fn_9271855) with ops with unsaved custom gradients. Will likely fail if a gradient is requested.\n",
            "WARNING:absl:Importing a function (__inference_internal_grad_fn_9284050) with ops with unsaved custom gradients. Will likely fail if a gradient is requested.\n",
            "WARNING:absl:Importing a function (__inference_internal_grad_fn_9273277) with ops with unsaved custom gradients. Will likely fail if a gradient is requested.\n",
            "WARNING:absl:Importing a function (__inference_internal_grad_fn_9279262) with ops with unsaved custom gradients. Will likely fail if a gradient is requested.\n",
            "WARNING:absl:Importing a function (__inference_internal_grad_fn_9272440) with ops with unsaved custom gradients. Will likely fail if a gradient is requested.\n",
            "WARNING:absl:Importing a function (__inference_internal_grad_fn_9274033) with ops with unsaved custom gradients. Will likely fail if a gradient is requested.\n",
            "WARNING:absl:Importing a function (__inference_internal_grad_fn_9275959) with ops with unsaved custom gradients. Will likely fail if a gradient is requested.\n",
            "WARNING:absl:Importing a function (__inference_internal_grad_fn_9284977) with ops with unsaved custom gradients. Will likely fail if a gradient is requested.\n",
            "WARNING:absl:Importing a function (__inference_internal_grad_fn_9275473) with ops with unsaved custom gradients. Will likely fail if a gradient is requested.\n",
            "WARNING:absl:Importing a function (__inference_internal_grad_fn_9274447) with ops with unsaved custom gradients. Will likely fail if a gradient is requested.\n",
            "WARNING:absl:Importing a function (__inference_internal_grad_fn_9271945) with ops with unsaved custom gradients. Will likely fail if a gradient is requested.\n",
            "WARNING:absl:Importing a function (__inference_internal_grad_fn_9277615) with ops with unsaved custom gradients. Will likely fail if a gradient is requested.\n",
            "WARNING:absl:Importing a function (__inference_internal_grad_fn_9274960) with ops with unsaved custom gradients. Will likely fail if a gradient is requested.\n",
            "WARNING:absl:Importing a function (__inference_internal_grad_fn_9274294) with ops with unsaved custom gradients. Will likely fail if a gradient is requested.\n",
            "WARNING:absl:Importing a function (__inference_internal_grad_fn_9272170) with ops with unsaved custom gradients. Will likely fail if a gradient is requested.\n",
            "WARNING:absl:Importing a function (__inference_internal_grad_fn_9274195) with ops with unsaved custom gradients. Will likely fail if a gradient is requested.\n",
            "WARNING:absl:Importing a function (__inference_internal_grad_fn_9278263) with ops with unsaved custom gradients. Will likely fail if a gradient is requested.\n",
            "WARNING:absl:Importing a function (__inference_internal_grad_fn_9282133) with ops with unsaved custom gradients. Will likely fail if a gradient is requested.\n",
            "WARNING:absl:Importing a function (__inference_internal_grad_fn_9280072) with ops with unsaved custom gradients. Will likely fail if a gradient is requested.\n",
            "WARNING:absl:Importing a function (__inference_internal_grad_fn_9275770) with ops with unsaved custom gradients. Will likely fail if a gradient is requested.\n",
            "WARNING:absl:Importing a function (__inference_internal_grad_fn_9286822) with ops with unsaved custom gradients. Will likely fail if a gradient is requested.\n",
            "WARNING:absl:Importing a function (__inference_internal_grad_fn_9285517) with ops with unsaved custom gradients. Will likely fail if a gradient is requested.\n",
            "WARNING:absl:Importing a function (__inference_internal_grad_fn_9285787) with ops with unsaved custom gradients. Will likely fail if a gradient is requested.\n",
            "WARNING:absl:Importing a function (__inference_internal_grad_fn_9280639) with ops with unsaved custom gradients. Will likely fail if a gradient is requested.\n",
            "WARNING:absl:Importing a function (__inference_internal_grad_fn_9286561) with ops with unsaved custom gradients. Will likely fail if a gradient is requested.\n",
            "WARNING:absl:Importing a function (__inference_internal_grad_fn_9285778) with ops with unsaved custom gradients. Will likely fail if a gradient is requested.\n",
            "WARNING:absl:Importing a function (__inference_internal_grad_fn_9273070) with ops with unsaved custom gradients. Will likely fail if a gradient is requested.\n",
            "WARNING:absl:Importing a function (__inference_internal_grad_fn_9277408) with ops with unsaved custom gradients. Will likely fail if a gradient is requested.\n",
            "WARNING:absl:Importing a function (__inference_internal_grad_fn_9272638) with ops with unsaved custom gradients. Will likely fail if a gradient is requested.\n",
            "WARNING:absl:Importing a function (__inference_internal_grad_fn_9271369) with ops with unsaved custom gradients. Will likely fail if a gradient is requested.\n",
            "WARNING:absl:Importing a function (__inference_internal_grad_fn_9286345) with ops with unsaved custom gradients. Will likely fail if a gradient is requested.\n",
            "WARNING:absl:Importing a function (__inference_internal_grad_fn_9279208) with ops with unsaved custom gradients. Will likely fail if a gradient is requested.\n",
            "WARNING:absl:Importing a function (__inference_internal_grad_fn_9273088) with ops with unsaved custom gradients. Will likely fail if a gradient is requested.\n",
            "WARNING:absl:Importing a function (__inference_internal_grad_fn_9285481) with ops with unsaved custom gradients. Will likely fail if a gradient is requested.\n",
            "WARNING:absl:Importing a function (__inference_internal_grad_fn_9286813) with ops with unsaved custom gradients. Will likely fail if a gradient is requested.\n",
            "WARNING:absl:Importing a function (__inference_internal_grad_fn_9286012) with ops with unsaved custom gradients. Will likely fail if a gradient is requested.\n",
            "WARNING:absl:Importing a function (__inference_internal_grad_fn_9272386) with ops with unsaved custom gradients. Will likely fail if a gradient is requested.\n",
            "WARNING:absl:Importing a function (__inference_internal_grad_fn_9278029) with ops with unsaved custom gradients. Will likely fail if a gradient is requested.\n",
            "WARNING:absl:Importing a function (__inference_internal_grad_fn_9280108) with ops with unsaved custom gradients. Will likely fail if a gradient is requested.\n",
            "WARNING:absl:Importing a function (__inference_internal_grad_fn_9286903) with ops with unsaved custom gradients. Will likely fail if a gradient is requested.\n",
            "WARNING:absl:Importing a function (__inference_internal_grad_fn_9274393) with ops with unsaved custom gradients. Will likely fail if a gradient is requested.\n",
            "WARNING:absl:Importing a function (__inference_internal_grad_fn_9273286) with ops with unsaved custom gradients. Will likely fail if a gradient is requested.\n",
            "WARNING:absl:Importing a function (__inference_internal_grad_fn_9271738) with ops with unsaved custom gradients. Will likely fail if a gradient is requested.\n",
            "WARNING:absl:Importing a function (__inference_internal_grad_fn_9285994) with ops with unsaved custom gradients. Will likely fail if a gradient is requested.\n",
            "WARNING:absl:Importing a function (__inference_internal_grad_fn_9282493) with ops with unsaved custom gradients. Will likely fail if a gradient is requested.\n",
            "WARNING:absl:Importing a function (__inference_internal_grad_fn_9276967) with ops with unsaved custom gradients. Will likely fail if a gradient is requested.\n",
            "WARNING:absl:Importing a function (__inference_internal_grad_fn_9286489) with ops with unsaved custom gradients. Will likely fail if a gradient is requested.\n",
            "WARNING:absl:Importing a function (__inference_internal_grad_fn_9281485) with ops with unsaved custom gradients. Will likely fail if a gradient is requested.\n",
            "WARNING:absl:Importing a function (__inference_internal_grad_fn_9273016) with ops with unsaved custom gradients. Will likely fail if a gradient is requested.\n",
            "WARNING:absl:Importing a function (__inference_internal_grad_fn_9276886) with ops with unsaved custom gradients. Will likely fail if a gradient is requested.\n",
            "WARNING:absl:Importing a function (__inference_internal_grad_fn_9284266) with ops with unsaved custom gradients. Will likely fail if a gradient is requested.\n",
            "WARNING:absl:Importing a function (__inference_internal_grad_fn_9277471) with ops with unsaved custom gradients. Will likely fail if a gradient is requested.\n",
            "WARNING:absl:Importing a function (__inference_internal_grad_fn_9273097) with ops with unsaved custom gradients. Will likely fail if a gradient is requested.\n",
            "WARNING:absl:Importing a function (__inference_internal_grad_fn_9284986) with ops with unsaved custom gradients. Will likely fail if a gradient is requested.\n",
            "WARNING:absl:Importing a function (__inference_internal_grad_fn_9272026) with ops with unsaved custom gradients. Will likely fail if a gradient is requested.\n",
            "WARNING:absl:Importing a function (__inference_internal_grad_fn_9274024) with ops with unsaved custom gradients. Will likely fail if a gradient is requested.\n",
            "WARNING:absl:Importing a function (__inference_internal_grad_fn_9273250) with ops with unsaved custom gradients. Will likely fail if a gradient is requested.\n",
            "WARNING:absl:Importing a function (__inference_internal_grad_fn_9274123) with ops with unsaved custom gradients. Will likely fail if a gradient is requested.\n",
            "WARNING:absl:Importing a function (__inference_internal_grad_fn_9272476) with ops with unsaved custom gradients. Will likely fail if a gradient is requested.\n",
            "WARNING:absl:Importing a function (__inference_internal_grad_fn_9279145) with ops with unsaved custom gradients. Will likely fail if a gradient is requested.\n",
            "WARNING:absl:Importing a function (__inference_internal_grad_fn_9285067) with ops with unsaved custom gradients. Will likely fail if a gradient is requested.\n",
            "WARNING:absl:Importing a function (__inference_internal_grad_fn_9273763) with ops with unsaved custom gradients. Will likely fail if a gradient is requested.\n",
            "WARNING:absl:Importing a function (__inference_internal_grad_fn_9278164) with ops with unsaved custom gradients. Will likely fail if a gradient is requested.\n",
            "WARNING:absl:Importing a function (__inference_internal_grad_fn_9273385) with ops with unsaved custom gradients. Will likely fail if a gradient is requested.\n",
            "WARNING:absl:Importing a function (__inference_internal_grad_fn_9271819) with ops with unsaved custom gradients. Will likely fail if a gradient is requested.\n",
            "WARNING:absl:Importing a function (__inference_internal_grad_fn_9283753) with ops with unsaved custom gradients. Will likely fail if a gradient is requested.\n",
            "WARNING:absl:Importing a function (__inference_internal_grad_fn_9283150) with ops with unsaved custom gradients. Will likely fail if a gradient is requested.\n",
            "WARNING:absl:Importing a function (__inference_internal_grad_fn_9282709) with ops with unsaved custom gradients. Will likely fail if a gradient is requested.\n",
            "WARNING:absl:Importing a function (__inference_internal_grad_fn_9272233) with ops with unsaved custom gradients. Will likely fail if a gradient is requested.\n",
            "WARNING:absl:Importing a function (__inference_internal_grad_fn_9285724) with ops with unsaved custom gradients. Will likely fail if a gradient is requested.\n",
            "WARNING:absl:Importing a function (__inference_internal_grad_fn_9278056) with ops with unsaved custom gradients. Will likely fail if a gradient is requested.\n",
            "WARNING:absl:Importing a function (__inference_internal_grad_fn_9271360) with ops with unsaved custom gradients. Will likely fail if a gradient is requested.\n",
            "WARNING:absl:Importing a function (__inference_internal_grad_fn_9273502) with ops with unsaved custom gradients. Will likely fail if a gradient is requested.\n",
            "WARNING:absl:Importing a function (__inference_internal_grad_fn_9284932) with ops with unsaved custom gradients. Will likely fail if a gradient is requested.\n",
            "WARNING:absl:Importing a function (__inference_internal_grad_fn_9271432) with ops with unsaved custom gradients. Will likely fail if a gradient is requested.\n",
            "WARNING:absl:Importing a function (__inference_internal_grad_fn_9275689) with ops with unsaved custom gradients. Will likely fail if a gradient is requested.\n",
            "WARNING:absl:Importing a function (__inference_internal_grad_fn_9286651) with ops with unsaved custom gradients. Will likely fail if a gradient is requested.\n",
            "WARNING:absl:Importing a function (__inference_internal_grad_fn_9273475) with ops with unsaved custom gradients. Will likely fail if a gradient is requested.\n",
            "WARNING:absl:Importing a function (__inference_internal_grad_fn_9282646) with ops with unsaved custom gradients. Will likely fail if a gradient is requested.\n",
            "WARNING:absl:Importing a function (__inference_internal_grad_fn_9283213) with ops with unsaved custom gradients. Will likely fail if a gradient is requested.\n",
            "WARNING:absl:Importing a function (__inference_internal_grad_fn_9281494) with ops with unsaved custom gradients. Will likely fail if a gradient is requested.\n",
            "WARNING:absl:Importing a function (__inference_internal_grad_fn_9281503) with ops with unsaved custom gradients. Will likely fail if a gradient is requested.\n",
            "WARNING:absl:Importing a function (__inference_internal_grad_fn_9279361) with ops with unsaved custom gradients. Will likely fail if a gradient is requested.\n",
            "WARNING:absl:Importing a function (__inference_internal_grad_fn_9273628) with ops with unsaved custom gradients. Will likely fail if a gradient is requested.\n",
            "WARNING:absl:Importing a function (__inference_internal_grad_fn_9276301) with ops with unsaved custom gradients. Will likely fail if a gradient is requested.\n",
            "WARNING:absl:Importing a function (__inference_internal_grad_fn_9286354) with ops with unsaved custom gradients. Will likely fail if a gradient is requested.\n",
            "WARNING:absl:Importing a function (__inference_internal_grad_fn_9273025) with ops with unsaved custom gradients. Will likely fail if a gradient is requested.\n",
            "WARNING:absl:Importing a function (__inference_internal_grad_fn_9277201) with ops with unsaved custom gradients. Will likely fail if a gradient is requested.\n",
            "WARNING:absl:Importing a function (__inference_internal_grad_fn_9284716) with ops with unsaved custom gradients. Will likely fail if a gradient is requested.\n",
            "WARNING:absl:Importing a function (__inference_internal_grad_fn_9276949) with ops with unsaved custom gradients. Will likely fail if a gradient is requested.\n",
            "WARNING:absl:Importing a function (__inference_internal_grad_fn_9273295) with ops with unsaved custom gradients. Will likely fail if a gradient is requested.\n",
            "WARNING:absl:Importing a function (__inference_internal_grad_fn_9274240) with ops with unsaved custom gradients. Will likely fail if a gradient is requested.\n",
            "WARNING:absl:Importing a function (__inference_internal_grad_fn_9272836) with ops with unsaved custom gradients. Will likely fail if a gradient is requested.\n",
            "WARNING:absl:Importing a function (__inference_internal_grad_fn_9280657) with ops with unsaved custom gradients. Will likely fail if a gradient is requested.\n",
            "WARNING:absl:Importing a function (__inference_internal_grad_fn_9271981) with ops with unsaved custom gradients. Will likely fail if a gradient is requested.\n",
            "WARNING:absl:Importing a function (__inference_internal_grad_fn_9272422) with ops with unsaved custom gradients. Will likely fail if a gradient is requested.\n",
            "WARNING:absl:Importing a function (__inference_internal_grad_fn_9285958) with ops with unsaved custom gradients. Will likely fail if a gradient is requested.\n",
            "WARNING:absl:Importing a function (__inference_internal_grad_fn_9282439) with ops with unsaved custom gradients. Will likely fail if a gradient is requested.\n",
            "WARNING:absl:Importing a function (__inference_internal_grad_fn_9274969) with ops with unsaved custom gradients. Will likely fail if a gradient is requested.\n",
            "WARNING:absl:Importing a function (__inference_internal_grad_fn_9272953) with ops with unsaved custom gradients. Will likely fail if a gradient is requested.\n",
            "WARNING:absl:Importing a function (__inference_internal_grad_fn_9285571) with ops with unsaved custom gradients. Will likely fail if a gradient is requested.\n",
            "WARNING:absl:Importing a function (__inference_internal_grad_fn_9280441) with ops with unsaved custom gradients. Will likely fail if a gradient is requested.\n",
            "WARNING:absl:Importing a function (__inference_internal_grad_fn_9286372) with ops with unsaved custom gradients. Will likely fail if a gradient is requested.\n",
            "WARNING:absl:Importing a function (__inference_internal_grad_fn_9272341) with ops with unsaved custom gradients. Will likely fail if a gradient is requested.\n",
            "WARNING:absl:Importing a function (__inference_internal_grad_fn_9273997) with ops with unsaved custom gradients. Will likely fail if a gradient is requested.\n",
            "WARNING:absl:Importing a function (__inference_internal_grad_fn_9284320) with ops with unsaved custom gradients. Will likely fail if a gradient is requested.\n",
            "WARNING:absl:Importing a function (__inference_internal_grad_fn_9279244) with ops with unsaved custom gradients. Will likely fail if a gradient is requested.\n",
            "WARNING:absl:Importing a function (__inference_internal_grad_fn_9283222) with ops with unsaved custom gradients. Will likely fail if a gradient is requested.\n",
            "WARNING:absl:Importing a function (__inference_internal_grad_fn_9277309) with ops with unsaved custom gradients. Will likely fail if a gradient is requested.\n",
            "WARNING:absl:Importing a function (__inference_internal_grad_fn_9286264) with ops with unsaved custom gradients. Will likely fail if a gradient is requested.\n",
            "WARNING:absl:Importing a function (__inference_internal_grad_fn_9274339) with ops with unsaved custom gradients. Will likely fail if a gradient is requested.\n",
            "WARNING:absl:Importing a function (__inference_internal_grad_fn_9274321) with ops with unsaved custom gradients. Will likely fail if a gradient is requested.\n",
            "WARNING:absl:Importing a function (__inference_internal_grad_fn_9273772) with ops with unsaved custom gradients. Will likely fail if a gradient is requested.\n",
            "WARNING:absl:Importing a function (__inference_internal_grad_fn_9271405) with ops with unsaved custom gradients. Will likely fail if a gradient is requested.\n",
            "WARNING:absl:Importing a function (__inference_internal_grad_fn_9283708) with ops with unsaved custom gradients. Will likely fail if a gradient is requested.\n",
            "WARNING:absl:Importing a function (__inference_internal_grad_fn_9284968) with ops with unsaved custom gradients. Will likely fail if a gradient is requested.\n",
            "WARNING:absl:Importing a function (__inference_internal_grad_fn_9285418) with ops with unsaved custom gradients. Will likely fail if a gradient is requested.\n",
            "WARNING:absl:Importing a function (__inference_internal_grad_fn_9272971) with ops with unsaved custom gradients. Will likely fail if a gradient is requested.\n",
            "WARNING:absl:Importing a function (__inference_internal_grad_fn_9283339) with ops with unsaved custom gradients. Will likely fail if a gradient is requested.\n",
            "WARNING:absl:Importing a function (__inference_internal_grad_fn_9278677) with ops with unsaved custom gradients. Will likely fail if a gradient is requested.\n",
            "WARNING:absl:Importing a function (__inference_internal_grad_fn_9283627) with ops with unsaved custom gradients. Will likely fail if a gradient is requested.\n",
            "WARNING:absl:Importing a function (__inference_internal_grad_fn_9286660) with ops with unsaved custom gradients. Will likely fail if a gradient is requested.\n",
            "WARNING:absl:Importing a function (__inference_internal_grad_fn_9273349) with ops with unsaved custom gradients. Will likely fail if a gradient is requested.\n",
            "WARNING:absl:Importing a function (__inference_internal_grad_fn_9277381) with ops with unsaved custom gradients. Will likely fail if a gradient is requested.\n",
            "WARNING:absl:Importing a function (__inference_internal_grad_fn_9272188) with ops with unsaved custom gradients. Will likely fail if a gradient is requested.\n",
            "WARNING:absl:Importing a function (__inference_internal_grad_fn_9271639) with ops with unsaved custom gradients. Will likely fail if a gradient is requested.\n",
            "WARNING:absl:Importing a function (__inference_internal_grad_fn_9274150) with ops with unsaved custom gradients. Will likely fail if a gradient is requested.\n",
            "WARNING:absl:Importing a function (__inference_internal_grad_fn_9273844) with ops with unsaved custom gradients. Will likely fail if a gradient is requested.\n",
            "WARNING:absl:Importing a function (__inference_internal_grad_fn_9279334) with ops with unsaved custom gradients. Will likely fail if a gradient is requested.\n",
            "WARNING:absl:Importing a function (__inference_internal_grad_fn_9274528) with ops with unsaved custom gradients. Will likely fail if a gradient is requested.\n",
            "WARNING:absl:Importing a function (__inference_internal_grad_fn_9278497) with ops with unsaved custom gradients. Will likely fail if a gradient is requested.\n",
            "WARNING:absl:Importing a function (__inference_internal_grad_fn_9274411) with ops with unsaved custom gradients. Will likely fail if a gradient is requested.\n",
            "WARNING:absl:Importing a function (__inference_internal_grad_fn_9272359) with ops with unsaved custom gradients. Will likely fail if a gradient is requested.\n",
            "WARNING:absl:Importing a function (__inference_internal_grad_fn_9282070) with ops with unsaved custom gradients. Will likely fail if a gradient is requested.\n",
            "WARNING:absl:Importing a function (__inference_internal_grad_fn_9273043) with ops with unsaved custom gradients. Will likely fail if a gradient is requested.\n",
            "WARNING:absl:Importing a function (__inference_internal_grad_fn_9285706) with ops with unsaved custom gradients. Will likely fail if a gradient is requested.\n",
            "WARNING:absl:Importing a function (__inference_internal_grad_fn_9271657) with ops with unsaved custom gradients. Will likely fail if a gradient is requested.\n",
            "WARNING:absl:Importing a function (__inference_internal_grad_fn_9273898) with ops with unsaved custom gradients. Will likely fail if a gradient is requested.\n",
            "WARNING:absl:Importing a function (__inference_internal_grad_fn_9285949) with ops with unsaved custom gradients. Will likely fail if a gradient is requested.\n",
            "WARNING:absl:Importing a function (__inference_internal_grad_fn_9276022) with ops with unsaved custom gradients. Will likely fail if a gradient is requested.\n",
            "WARNING:absl:Importing a function (__inference_internal_grad_fn_9274312) with ops with unsaved custom gradients. Will likely fail if a gradient is requested.\n",
            "WARNING:absl:Importing a function (__inference_internal_grad_fn_9272449) with ops with unsaved custom gradients. Will likely fail if a gradient is requested.\n",
            "WARNING:absl:Importing a function (__inference_internal_grad_fn_9272161) with ops with unsaved custom gradients. Will likely fail if a gradient is requested.\n",
            "WARNING:absl:Importing a function (__inference_internal_grad_fn_9284923) with ops with unsaved custom gradients. Will likely fail if a gradient is requested.\n",
            "WARNING:absl:Importing a function (__inference_internal_grad_fn_9284626) with ops with unsaved custom gradients. Will likely fail if a gradient is requested.\n",
            "WARNING:absl:Importing a function (__inference_internal_grad_fn_9285490) with ops with unsaved custom gradients. Will likely fail if a gradient is requested.\n",
            "WARNING:absl:Importing a function (__inference_internal_grad_fn_9284644) with ops with unsaved custom gradients. Will likely fail if a gradient is requested.\n",
            "WARNING:absl:Importing a function (__inference_internal_grad_fn_9286642) with ops with unsaved custom gradients. Will likely fail if a gradient is requested.\n",
            "WARNING:absl:Importing a function (__inference_internal_grad_fn_9282610) with ops with unsaved custom gradients. Will likely fail if a gradient is requested.\n",
            "WARNING:absl:Importing a function (__inference_internal_grad_fn_9281404) with ops with unsaved custom gradients. Will likely fail if a gradient is requested.\n",
            "WARNING:absl:Importing a function (__inference_internal_grad_fn_9271603) with ops with unsaved custom gradients. Will likely fail if a gradient is requested.\n",
            "WARNING:absl:Importing a function (__inference_internal_grad_fn_9278110) with ops with unsaved custom gradients. Will likely fail if a gradient is requested.\n",
            "WARNING:absl:Importing a function (__inference_internal_grad_fn_9274267) with ops with unsaved custom gradients. Will likely fail if a gradient is requested.\n",
            "WARNING:absl:Importing a function (__inference_internal_grad_fn_9283834) with ops with unsaved custom gradients. Will likely fail if a gradient is requested.\n",
            "WARNING:absl:Importing a function (__inference_internal_grad_fn_9272512) with ops with unsaved custom gradients. Will likely fail if a gradient is requested.\n",
            "WARNING:absl:Importing a function (__inference_internal_grad_fn_9279982) with ops with unsaved custom gradients. Will likely fail if a gradient is requested.\n",
            "WARNING:absl:Importing a function (__inference_internal_grad_fn_9286723) with ops with unsaved custom gradients. Will likely fail if a gradient is requested.\n",
            "WARNING:absl:Importing a function (__inference_internal_grad_fn_9281935) with ops with unsaved custom gradients. Will likely fail if a gradient is requested.\n",
            "WARNING:absl:Importing a function (__inference_internal_grad_fn_9286219) with ops with unsaved custom gradients. Will likely fail if a gradient is requested.\n",
            "WARNING:absl:Importing a function (__inference_internal_grad_fn_9284014) with ops with unsaved custom gradients. Will likely fail if a gradient is requested.\n",
            "WARNING:absl:Importing a function (__inference_internal_grad_fn_9280009) with ops with unsaved custom gradients. Will likely fail if a gradient is requested.\n",
            "WARNING:absl:Importing a function (__inference_internal_grad_fn_9272494) with ops with unsaved custom gradients. Will likely fail if a gradient is requested.\n",
            "WARNING:absl:Importing a function (__inference_internal_grad_fn_9276778) with ops with unsaved custom gradients. Will likely fail if a gradient is requested.\n",
            "WARNING:absl:Importing a function (__inference_internal_grad_fn_9280621) with ops with unsaved custom gradients. Will likely fail if a gradient is requested.\n",
            "WARNING:absl:Importing a function (__inference_internal_grad_fn_9286606) with ops with unsaved custom gradients. Will likely fail if a gradient is requested.\n",
            "WARNING:absl:Importing a function (__inference_internal_grad_fn_9278119) with ops with unsaved custom gradients. Will likely fail if a gradient is requested.\n",
            "WARNING:absl:Importing a function (__inference_internal_grad_fn_9272053) with ops with unsaved custom gradients. Will likely fail if a gradient is requested.\n",
            "WARNING:absl:Importing a function (__inference_internal_grad_fn_9272674) with ops with unsaved custom gradients. Will likely fail if a gradient is requested.\n",
            "WARNING:absl:Importing a function (__inference_internal_grad_fn_9284752) with ops with unsaved custom gradients. Will likely fail if a gradient is requested.\n",
            "WARNING:absl:Importing a function (__inference_internal_grad_fn_9272746) with ops with unsaved custom gradients. Will likely fail if a gradient is requested.\n",
            "WARNING:absl:Importing a function (__inference_internal_grad_fn_9286282) with ops with unsaved custom gradients. Will likely fail if a gradient is requested.\n",
            "WARNING:absl:Importing a function (__inference_internal_grad_fn_9274051) with ops with unsaved custom gradients. Will likely fail if a gradient is requested.\n",
            "WARNING:absl:Importing a function (__inference_internal_grad_fn_9273376) with ops with unsaved custom gradients. Will likely fail if a gradient is requested.\n",
            "WARNING:absl:Importing a function (__inference_internal_grad_fn_9283393) with ops with unsaved custom gradients. Will likely fail if a gradient is requested.\n",
            "WARNING:absl:Importing a function (__inference_internal_grad_fn_9281845) with ops with unsaved custom gradients. Will likely fail if a gradient is requested.\n",
            "WARNING:absl:Importing a function (__inference_internal_grad_fn_9272908) with ops with unsaved custom gradients. Will likely fail if a gradient is requested.\n",
            "WARNING:absl:Importing a function (__inference_internal_grad_fn_9272080) with ops with unsaved custom gradients. Will likely fail if a gradient is requested.\n",
            "WARNING:absl:Importing a function (__inference_internal_grad_fn_9274375) with ops with unsaved custom gradients. Will likely fail if a gradient is requested.\n",
            "WARNING:absl:Importing a function (__inference_internal_grad_fn_9272575) with ops with unsaved custom gradients. Will likely fail if a gradient is requested.\n",
            "WARNING:absl:Importing a function (__inference_internal_grad_fn_9274285) with ops with unsaved custom gradients. Will likely fail if a gradient is requested.\n",
            "WARNING:absl:Importing a function (__inference_internal_grad_fn_9272395) with ops with unsaved custom gradients. Will likely fail if a gradient is requested.\n",
            "WARNING:absl:Importing a function (__inference_internal_grad_fn_9280711) with ops with unsaved custom gradients. Will likely fail if a gradient is requested.\n",
            "WARNING:absl:Importing a function (__inference_internal_grad_fn_9286894) with ops with unsaved custom gradients. Will likely fail if a gradient is requested.\n",
            "WARNING:absl:Importing a function (__inference_internal_grad_fn_9272854) with ops with unsaved custom gradients. Will likely fail if a gradient is requested.\n",
            "WARNING:absl:Importing a function (__inference_internal_grad_fn_9277417) with ops with unsaved custom gradients. Will likely fail if a gradient is requested.\n",
            "WARNING:absl:Importing a function (__inference_internal_grad_fn_9273403) with ops with unsaved custom gradients. Will likely fail if a gradient is requested.\n",
            "WARNING:absl:Importing a function (__inference_internal_grad_fn_9272008) with ops with unsaved custom gradients. Will likely fail if a gradient is requested.\n",
            "WARNING:absl:Importing a function (__inference_internal_grad_fn_9273925) with ops with unsaved custom gradients. Will likely fail if a gradient is requested.\n",
            "WARNING:absl:Importing a function (__inference_internal_grad_fn_9281422) with ops with unsaved custom gradients. Will likely fail if a gradient is requested.\n",
            "WARNING:absl:Importing a function (__inference_internal_grad_fn_9276733) with ops with unsaved custom gradients. Will likely fail if a gradient is requested.\n",
            "WARNING:absl:Importing a function (__inference_internal_grad_fn_9273538) with ops with unsaved custom gradients. Will likely fail if a gradient is requested.\n",
            "WARNING:absl:Importing a function (__inference_internal_grad_fn_9283996) with ops with unsaved custom gradients. Will likely fail if a gradient is requested.\n",
            "WARNING:absl:Importing a function (__inference_internal_grad_fn_9271693) with ops with unsaved custom gradients. Will likely fail if a gradient is requested.\n",
            "WARNING:absl:Importing a function (__inference_internal_grad_fn_9278902) with ops with unsaved custom gradients. Will likely fail if a gradient is requested.\n",
            "WARNING:absl:Importing a function (__inference_internal_grad_fn_9276004) with ops with unsaved custom gradients. Will likely fail if a gradient is requested.\n",
            "WARNING:absl:Importing a function (__inference_internal_grad_fn_9271396) with ops with unsaved custom gradients. Will likely fail if a gradient is requested.\n",
            "WARNING:absl:Importing a function (__inference_internal_grad_fn_9286138) with ops with unsaved custom gradients. Will likely fail if a gradient is requested.\n",
            "WARNING:absl:Importing a function (__inference_internal_grad_fn_9285562) with ops with unsaved custom gradients. Will likely fail if a gradient is requested.\n",
            "WARNING:absl:Importing a function (__inference_internal_grad_fn_9286966) with ops with unsaved custom gradients. Will likely fail if a gradient is requested.\n",
            "WARNING:absl:Importing a function (__inference_internal_grad_fn_9278488) with ops with unsaved custom gradients. Will likely fail if a gradient is requested.\n",
            "WARNING:absl:Importing a function (__inference_internal_grad_fn_9283474) with ops with unsaved custom gradients. Will likely fail if a gradient is requested.\n",
            "WARNING:absl:Importing a function (__inference_internal_grad_fn_9271927) with ops with unsaved custom gradients. Will likely fail if a gradient is requested.\n",
            "WARNING:absl:Importing a function (__inference_internal_grad_fn_9275698) with ops with unsaved custom gradients. Will likely fail if a gradient is requested.\n",
            "WARNING:absl:Importing a function (__inference_internal_grad_fn_9275635) with ops with unsaved custom gradients. Will likely fail if a gradient is requested.\n",
            "WARNING:absl:Importing a function (__inference_internal_grad_fn_9285409) with ops with unsaved custom gradients. Will likely fail if a gradient is requested.\n",
            "WARNING:absl:Importing a function (__inference_internal_grad_fn_9272089) with ops with unsaved custom gradients. Will likely fail if a gradient is requested.\n",
            "WARNING:absl:Importing a function (__inference_internal_grad_fn_9275617) with ops with unsaved custom gradients. Will likely fail if a gradient is requested.\n",
            "WARNING:absl:Importing a function (__inference_internal_grad_fn_9284851) with ops with unsaved custom gradients. Will likely fail if a gradient is requested.\n",
            "WARNING:absl:Importing a function (__inference_internal_grad_fn_9282142) with ops with unsaved custom gradients. Will likely fail if a gradient is requested.\n",
            "WARNING:absl:Importing a function (__inference_internal_grad_fn_9285274) with ops with unsaved custom gradients. Will likely fail if a gradient is requested.\n",
            "WARNING:absl:Importing a function (__inference_internal_grad_fn_9273511) with ops with unsaved custom gradients. Will likely fail if a gradient is requested.\n",
            "WARNING:absl:Importing a function (__inference_internal_grad_fn_9287083) with ops with unsaved custom gradients. Will likely fail if a gradient is requested.\n",
            "WARNING:absl:Importing a function (__inference_internal_grad_fn_9285301) with ops with unsaved custom gradients. Will likely fail if a gradient is requested.\n",
            "WARNING:absl:Importing a function (__inference_internal_grad_fn_9273961) with ops with unsaved custom gradients. Will likely fail if a gradient is requested.\n",
            "WARNING:absl:Importing a function (__inference_internal_grad_fn_9285931) with ops with unsaved custom gradients. Will likely fail if a gradient is requested.\n",
            "WARNING:absl:Importing a function (__inference_internal_grad_fn_9272692) with ops with unsaved custom gradients. Will likely fail if a gradient is requested.\n",
            "WARNING:absl:Importing a function (__inference_internal_grad_fn_9278128) with ops with unsaved custom gradients. Will likely fail if a gradient is requested.\n",
            "WARNING:absl:Importing a function (__inference_internal_grad_fn_9284437) with ops with unsaved custom gradients. Will likely fail if a gradient is requested.\n",
            "WARNING:absl:Importing a function (__inference_internal_grad_fn_9277912) with ops with unsaved custom gradients. Will likely fail if a gradient is requested.\n",
            "WARNING:absl:Importing a function (__inference_internal_grad_fn_9278254) with ops with unsaved custom gradients. Will likely fail if a gradient is requested.\n",
            "WARNING:absl:Importing a function (__inference_internal_grad_fn_9275365) with ops with unsaved custom gradients. Will likely fail if a gradient is requested.\n",
            "WARNING:absl:Importing a function (__inference_internal_grad_fn_9279541) with ops with unsaved custom gradients. Will likely fail if a gradient is requested.\n",
            "WARNING:absl:Importing a function (__inference_internal_grad_fn_9273853) with ops with unsaved custom gradients. Will likely fail if a gradient is requested.\n",
            "WARNING:absl:Importing a function (__inference_internal_grad_fn_9275356) with ops with unsaved custom gradients. Will likely fail if a gradient is requested.\n",
            "WARNING:absl:Importing a function (__inference_internal_grad_fn_9271684) with ops with unsaved custom gradients. Will likely fail if a gradient is requested.\n",
            "WARNING:absl:Importing a function (__inference_internal_grad_fn_9274105) with ops with unsaved custom gradients. Will likely fail if a gradient is requested.\n",
            "WARNING:absl:Importing a function (__inference_internal_grad_fn_9273196) with ops with unsaved custom gradients. Will likely fail if a gradient is requested.\n",
            "WARNING:absl:Importing a function (__inference_internal_grad_fn_9277426) with ops with unsaved custom gradients. Will likely fail if a gradient is requested.\n",
            "WARNING:absl:Importing a function (__inference_internal_grad_fn_9273745) with ops with unsaved custom gradients. Will likely fail if a gradient is requested.\n",
            "WARNING:absl:Importing a function (__inference_internal_grad_fn_9273484) with ops with unsaved custom gradients. Will likely fail if a gradient is requested.\n",
            "WARNING:absl:Importing a function (__inference_internal_grad_fn_9282061) with ops with unsaved custom gradients. Will likely fail if a gradient is requested.\n",
            "WARNING:absl:Importing a function (__inference_internal_grad_fn_9272305) with ops with unsaved custom gradients. Will likely fail if a gradient is requested.\n",
            "WARNING:absl:Importing a function (__inference_internal_grad_fn_9278758) with ops with unsaved custom gradients. Will likely fail if a gradient is requested.\n",
            "WARNING:absl:Importing a function (__inference_internal_grad_fn_9273952) with ops with unsaved custom gradients. Will likely fail if a gradient is requested.\n",
            "WARNING:absl:Importing a function (__inference_internal_grad_fn_9281305) with ops with unsaved custom gradients. Will likely fail if a gradient is requested.\n",
            "WARNING:absl:Importing a function (__inference_internal_grad_fn_9274537) with ops with unsaved custom gradients. Will likely fail if a gradient is requested.\n",
            "WARNING:absl:Importing a function (__inference_internal_grad_fn_9275275) with ops with unsaved custom gradients. Will likely fail if a gradient is requested.\n",
            "WARNING:absl:Importing a function (__inference_internal_grad_fn_9286435) with ops with unsaved custom gradients. Will likely fail if a gradient is requested.\n",
            "WARNING:absl:Importing a function (__inference_internal_grad_fn_9279253) with ops with unsaved custom gradients. Will likely fail if a gradient is requested.\n",
            "WARNING:absl:Importing a function (__inference_internal_grad_fn_9273889) with ops with unsaved custom gradients. Will likely fail if a gradient is requested.\n",
            "WARNING:absl:Importing a function (__inference_internal_grad_fn_9271774) with ops with unsaved custom gradients. Will likely fail if a gradient is requested.\n",
            "WARNING:absl:Importing a function (__inference_internal_grad_fn_9279856) with ops with unsaved custom gradients. Will likely fail if a gradient is requested.\n",
            "WARNING:absl:Importing a function (__inference_internal_grad_fn_9280765) with ops with unsaved custom gradients. Will likely fail if a gradient is requested.\n",
            "WARNING:absl:Importing a function (__inference_internal_grad_fn_9281368) with ops with unsaved custom gradients. Will likely fail if a gradient is requested.\n",
            "WARNING:absl:Importing a function (__inference_internal_grad_fn_9279793) with ops with unsaved custom gradients. Will likely fail if a gradient is requested.\n",
            "WARNING:absl:Importing a function (__inference_internal_grad_fn_9271720) with ops with unsaved custom gradients. Will likely fail if a gradient is requested.\n",
            "WARNING:absl:Importing a function (__inference_internal_grad_fn_9278506) with ops with unsaved custom gradients. Will likely fail if a gradient is requested.\n",
            "WARNING:absl:Importing a function (__inference_internal_grad_fn_9271711) with ops with unsaved custom gradients. Will likely fail if a gradient is requested.\n",
            "WARNING:absl:Importing a function (__inference_internal_grad_fn_9273583) with ops with unsaved custom gradients. Will likely fail if a gradient is requested.\n",
            "WARNING:absl:Importing a function (__inference_internal_grad_fn_9274204) with ops with unsaved custom gradients. Will likely fail if a gradient is requested.\n",
            "WARNING:absl:Importing a function (__inference_internal_grad_fn_9281746) with ops with unsaved custom gradients. Will likely fail if a gradient is requested.\n",
            "WARNING:absl:Importing a function (__inference_internal_grad_fn_9276607) with ops with unsaved custom gradients. Will likely fail if a gradient is requested.\n",
            "WARNING:absl:Importing a function (__inference_internal_grad_fn_9283465) with ops with unsaved custom gradients. Will likely fail if a gradient is requested.\n",
            "WARNING:absl:Importing a function (__inference_internal_grad_fn_9271612) with ops with unsaved custom gradients. Will likely fail if a gradient is requested.\n",
            "WARNING:absl:Importing a function (__inference_internal_grad_fn_9271648) with ops with unsaved custom gradients. Will likely fail if a gradient is requested.\n",
            "WARNING:absl:Importing a function (__inference_internal_grad_fn_9277192) with ops with unsaved custom gradients. Will likely fail if a gradient is requested.\n",
            "WARNING:absl:Importing a function (__inference_internal_grad_fn_9275779) with ops with unsaved custom gradients. Will likely fail if a gradient is requested.\n",
            "WARNING:absl:Importing a function (__inference_internal_grad_fn_9281287) with ops with unsaved custom gradients. Will likely fail if a gradient is requested.\n",
            "WARNING:absl:Importing a function (__inference_internal_grad_fn_9286057) with ops with unsaved custom gradients. Will likely fail if a gradient is requested.\n",
            "WARNING:absl:Importing a function (__inference_internal_grad_fn_9271801) with ops with unsaved custom gradients. Will likely fail if a gradient is requested.\n",
            "WARNING:absl:Importing a function (__inference_internal_grad_fn_9274042) with ops with unsaved custom gradients. Will likely fail if a gradient is requested.\n",
            "WARNING:absl:Importing a function (__inference_internal_grad_fn_9274807) with ops with unsaved custom gradients. Will likely fail if a gradient is requested.\n",
            "WARNING:absl:Importing a function (__inference_internal_grad_fn_9286570) with ops with unsaved custom gradients. Will likely fail if a gradient is requested.\n",
            "WARNING:absl:Importing a function (__inference_internal_grad_fn_9273880) with ops with unsaved custom gradients. Will likely fail if a gradient is requested.\n",
            "WARNING:absl:Importing a function (__inference_internal_grad_fn_9272872) with ops with unsaved custom gradients. Will likely fail if a gradient is requested.\n",
            "WARNING:absl:Importing a function (__inference_internal_grad_fn_9273232) with ops with unsaved custom gradients. Will likely fail if a gradient is requested.\n",
            "WARNING:absl:Importing a function (__inference_internal_grad_fn_9273736) with ops with unsaved custom gradients. Will likely fail if a gradient is requested.\n",
            "WARNING:absl:Importing a function (__inference_internal_grad_fn_9286930) with ops with unsaved custom gradients. Will likely fail if a gradient is requested.\n",
            "WARNING:absl:Importing a function (__inference_internal_grad_fn_9282502) with ops with unsaved custom gradients. Will likely fail if a gradient is requested.\n",
            "WARNING:absl:Importing a function (__inference_internal_grad_fn_9271585) with ops with unsaved custom gradients. Will likely fail if a gradient is requested.\n",
            "WARNING:absl:Importing a function (__inference_internal_grad_fn_9271810) with ops with unsaved custom gradients. Will likely fail if a gradient is requested.\n",
            "WARNING:absl:Importing a function (__inference_internal_grad_fn_9284491) with ops with unsaved custom gradients. Will likely fail if a gradient is requested.\n",
            "WARNING:absl:Importing a function (__inference_internal_grad_fn_9279784) with ops with unsaved custom gradients. Will likely fail if a gradient is requested.\n",
            "WARNING:absl:Importing a function (__inference_internal_grad_fn_9275950) with ops with unsaved custom gradients. Will likely fail if a gradient is requested.\n",
            "WARNING:absl:Importing a function (__inference_internal_grad_fn_9286228) with ops with unsaved custom gradients. Will likely fail if a gradient is requested.\n",
            "WARNING:absl:Importing a function (__inference_internal_grad_fn_9280666) with ops with unsaved custom gradients. Will likely fail if a gradient is requested.\n",
            "WARNING:absl:Importing a function (__inference_internal_grad_fn_9278074) with ops with unsaved custom gradients. Will likely fail if a gradient is requested.\n",
            "WARNING:absl:Importing a function (__inference_internal_grad_fn_9273439) with ops with unsaved custom gradients. Will likely fail if a gradient is requested.\n",
            "WARNING:absl:Importing a function (__inference_internal_grad_fn_9273115) with ops with unsaved custom gradients. Will likely fail if a gradient is requested.\n",
            "WARNING:absl:Importing a function (__inference_internal_grad_fn_9279190) with ops with unsaved custom gradients. Will likely fail if a gradient is requested.\n",
            "WARNING:absl:Importing a function (__inference_internal_grad_fn_9279136) with ops with unsaved custom gradients. Will likely fail if a gradient is requested.\n",
            "WARNING:absl:Importing a function (__inference_internal_grad_fn_9281359) with ops with unsaved custom gradients. Will likely fail if a gradient is requested.\n",
            "WARNING:absl:Importing a function (__inference_internal_grad_fn_9277957) with ops with unsaved custom gradients. Will likely fail if a gradient is requested.\n",
            "WARNING:absl:Importing a function (__inference_internal_grad_fn_9284698) with ops with unsaved custom gradients. Will likely fail if a gradient is requested.\n",
            "WARNING:absl:Importing a function (__inference_internal_grad_fn_9274402) with ops with unsaved custom gradients. Will likely fail if a gradient is requested.\n",
            "WARNING:absl:Importing a function (__inference_internal_grad_fn_9271486) with ops with unsaved custom gradients. Will likely fail if a gradient is requested.\n",
            "WARNING:absl:Importing a function (__inference_internal_grad_fn_9280189) with ops with unsaved custom gradients. Will likely fail if a gradient is requested.\n",
            "WARNING:absl:Importing a function (__inference_internal_grad_fn_9272071) with ops with unsaved custom gradients. Will likely fail if a gradient is requested.\n",
            "WARNING:absl:Importing a function (__inference_internal_grad_fn_9276652) with ops with unsaved custom gradients. Will likely fail if a gradient is requested.\n",
            "WARNING:absl:Importing a function (__inference_internal_grad_fn_9284545) with ops with unsaved custom gradients. Will likely fail if a gradient is requested.\n",
            "WARNING:absl:Importing a function (__inference_internal_grad_fn_9271567) with ops with unsaved custom gradients. Will likely fail if a gradient is requested.\n",
            "WARNING:absl:Importing a function (__inference_internal_grad_fn_9279469) with ops with unsaved custom gradients. Will likely fail if a gradient is requested.\n",
            "WARNING:absl:Importing a function (__inference_internal_grad_fn_9280630) with ops with unsaved custom gradients. Will likely fail if a gradient is requested.\n",
            "WARNING:absl:Importing a function (__inference_internal_grad_fn_9275626) with ops with unsaved custom gradients. Will likely fail if a gradient is requested.\n",
            "WARNING:absl:Importing a function (__inference_internal_grad_fn_9274114) with ops with unsaved custom gradients. Will likely fail if a gradient is requested.\n",
            "WARNING:absl:Importing a function (__inference_internal_grad_fn_9283132) with ops with unsaved custom gradients. Will likely fail if a gradient is requested.\n",
            "WARNING:absl:Importing a function (__inference_internal_grad_fn_9272917) with ops with unsaved custom gradients. Will likely fail if a gradient is requested.\n",
            "WARNING:absl:Importing a function (__inference_internal_grad_fn_9286732) with ops with unsaved custom gradients. Will likely fail if a gradient is requested.\n",
            "WARNING:absl:Importing a function (__inference_internal_grad_fn_9275374) with ops with unsaved custom gradients. Will likely fail if a gradient is requested.\n",
            "WARNING:absl:Importing a function (__inference_internal_grad_fn_9277255) with ops with unsaved custom gradients. Will likely fail if a gradient is requested.\n",
            "WARNING:absl:Importing a function (__inference_internal_grad_fn_9277462) with ops with unsaved custom gradients. Will likely fail if a gradient is requested.\n",
            "WARNING:absl:Importing a function (__inference_internal_grad_fn_9279370) with ops with unsaved custom gradients. Will likely fail if a gradient is requested.\n",
            "WARNING:absl:Importing a function (__inference_internal_grad_fn_9273871) with ops with unsaved custom gradients. Will likely fail if a gradient is requested.\n",
            "WARNING:absl:Importing a function (__inference_internal_grad_fn_9272989) with ops with unsaved custom gradients. Will likely fail if a gradient is requested.\n",
            "WARNING:absl:Importing a function (__inference_internal_grad_fn_9286363) with ops with unsaved custom gradients. Will likely fail if a gradient is requested.\n",
            "WARNING:absl:Importing a function (__inference_internal_grad_fn_9276877) with ops with unsaved custom gradients. Will likely fail if a gradient is requested.\n",
            "WARNING:absl:Importing a function (__inference_internal_grad_fn_9271972) with ops with unsaved custom gradients. Will likely fail if a gradient is requested.\n",
            "WARNING:absl:Importing a function (__inference_internal_grad_fn_9285355) with ops with unsaved custom gradients. Will likely fail if a gradient is requested.\n"
          ]
        }
      ],
      "source": [
        "saved_model_dir = 'model'\n",
        "tflite_filename = 'tflite_models/model.float16.tflite'\n",
        "input_shape = [1, 1, 172, 172, 3]\n",
        "# del converter\n",
        "converter = tf.lite.TFLiteConverter.from_saved_model(saved_model_dir)"
      ]
    },
    {
      "cell_type": "markdown",
      "metadata": {
        "id": "Ct2fyC00I63a"
      },
      "source": [
        "## Convert to TF Lite"
      ]
    },
    {
      "cell_type": "code",
      "execution_count": 9,
      "metadata": {
        "id": "lHr__VEsVOea"
      },
      "outputs": [
        {
          "name": "stdout",
          "output_type": "stream",
          "text": [
            "<dtype: 'float32'>\n"
          ]
        },
        {
          "name": "stderr",
          "output_type": "stream",
          "text": [
            "2023-10-31 21:37:12.443511: W tensorflow/compiler/mlir/lite/python/tf_tfl_flatbuffer_helpers.cc:378] Ignored output_format.\n",
            "2023-10-31 21:37:12.443561: W tensorflow/compiler/mlir/lite/python/tf_tfl_flatbuffer_helpers.cc:381] Ignored drop_control_dependency.\n",
            "2023-10-31 21:37:12.443741: I tensorflow/cc/saved_model/reader.cc:83] Reading SavedModel from: model\n",
            "2023-10-31 21:37:12.616206: I tensorflow/cc/saved_model/reader.cc:51] Reading meta graph with tags { serve }\n",
            "2023-10-31 21:37:12.616257: I tensorflow/cc/saved_model/reader.cc:146] Reading SavedModel debug info (if present) from: model\n",
            "2023-10-31 21:37:13.079077: I tensorflow/cc/saved_model/loader.cc:233] Restoring SavedModel bundle.\n",
            "2023-10-31 21:37:14.200290: I tensorflow/cc/saved_model/loader.cc:217] Running initialization op on SavedModel bundle at path: model\n",
            "2023-10-31 21:37:14.774856: I tensorflow/cc/saved_model/loader.cc:316] SavedModel load for tags { serve }; Status: success: OK. Took 2331116 microseconds.\n",
            "2023-10-31 21:37:16.861323: I tensorflow/compiler/mlir/lite/flatbuffer_export.cc:2245] Estimated count of arithmetic ops: 193.203 M  ops, equivalently 96.601 M  MACs\n"
          ]
        }
      ],
      "source": [
        "def representative_dataset_generator(\n",
        "    model: tf.keras.Model,\n",
        "    dataset_iter,\n",
        "    init_states,\n",
        "    num_samples_per_video = 3,\n",
        "    num_calibration_videos = 100\n",
        "):\n",
        "  counter = 0\n",
        "  for i in range(num_calibration_videos):\n",
        "    example_input, example_label = next(dataset_iter)\n",
        "    # groundtruth_label_id = tf.argmax(example_label, axis=-1)\n",
        "    input_states = init_states\n",
        "    # split video into frames along the temporal dimension.\n",
        "    frames = example_input\n",
        "    # frames = tf.split(example_input, example_input.shape[1], axis=1)\n",
        "\n",
        "    random_indices = np.random.randint(\n",
        "        low=1, high=len(frames), size=num_samples_per_video)\n",
        "    # always include the first frame\n",
        "    random_indices[0] = 0\n",
        "    random_indices = set(random_indices)\n",
        "    all_logits = []\n",
        "    for frame_index, frame in enumerate(frames):\n",
        "      frame = tf.expand_dims(tf.expand_dims(frame, axis=0), axis=0)\n",
        "      # print(tf.shape(frame))\n",
        "      predictions, output_states = model({'image': frame, **input_states})\n",
        "      # if frame_index in random_indices:\n",
        "      pred = tf.argmax(predictions[0])\n",
        "      print(\"Real: \", CLASSES[example_label], \"Pred: \", CLASSES[pred])\n",
        "      yield {'image': frame, **input_states}\n",
        "      counter += 1\n",
        "      # update states for the next inference step\n",
        "      input_states = output_states\n",
        "    \n",
        "\n",
        "\n",
        "init_states_fn = model.init_states\n",
        "init_states = init_states_fn(tf.shape(tf.ones(shape=input_shape)))\n",
        "\n",
        "converter.optimizations = [tf.lite.Optimize.DEFAULT]\n",
        "# converter.representative_dataset = functools.partial(representative_dataset_generator, \n",
        "#                                                      model=model, dataset_iter=iter(train1_ds.unbatch()), init_states=init_states)\n",
        "# converter.target_spec.supported_ops = [tf.lite.OpsSet.TFLITE_BUILTINS_INT8]\n",
        "converter.target_spec.supported_types = [tf.float32]\n",
        "\n",
        "# converter.inference_input_type = tf.uint8\n",
        "# converter.inference_output_type = tf.uint8\n",
        "print(converter.inference_input_type)\n",
        "with tf.device('/CPU:0'):\n",
        "  tflite_model = converter.convert()\n",
        "tflite_filename = 'tflite_models/model.float32.tflite'\n",
        "with open(tflite_filename, 'wb') as f:\n",
        "  f.write(tflite_model)\n",
        "\n",
        "\n"
      ]
    },
    {
      "cell_type": "code",
      "execution_count": 29,
      "metadata": {},
      "outputs": [
        {
          "name": "stdout",
          "output_type": "stream",
          "text": [
            "{'name': 'serving_default_image:0', 'index': 37, 'shape': array([  1,   1, 172, 172,   3], dtype=int32), 'shape_signature': array([  1,   1, 172, 172,   3], dtype=int32), 'dtype': <class 'numpy.uint8'>, 'quantization': (0.003921568859368563, 0), 'quantization_parameters': {'scales': array([0.00392157], dtype=float32), 'zero_points': array([0], dtype=int32), 'quantized_dimension': 0}, 'sparsity_parameters': {}}\n"
          ]
        }
      ],
      "source": [
        "# Create the interpreter and signature runner\n",
        "with tf.device('/CPU:0'):\n",
        "    interpreter = tf.lite.Interpreter(model_path=tflite_filename)\n",
        "\n",
        "    interpreter.allocate_tensors()\n",
        "    runner = interpreter.get_signature_runner()\n",
        "    input_details = runner.get_input_details()\n",
        "    print(input_details['image'])\n",
        "    init_states = {\n",
        "        name: tf.zeros(x['shape'], dtype=x['dtype'])\n",
        "        for name, x in runner.get_input_details().items()\n",
        "    }\n",
        "    del init_states['image']"
      ]
    },
    {
      "cell_type": "markdown",
      "metadata": {
        "id": "bmp9vBZ_I-Bw"
      },
      "source": [
        "## Inference using external states on tflite model"
      ]
    },
    {
      "cell_type": "code",
      "execution_count": 33,
      "metadata": {
        "id": "-0Exy6QJgep-"
      },
      "outputs": [
        {
          "name": "stdout",
          "output_type": "stream",
          "text": [
            "\n",
            "FieldHockeyPenalty 0.99999845\n",
            "ParallelBars 4.552242e-07\n",
            "CricketBowling 4.197087e-07\n",
            "SumoWrestling 3.3365572e-07\n",
            "ShavingBeard 6.468779e-08\n"
          ]
        },
        {
          "data": {
            "text/html": [
              "<img src=\"data:image/gif;base64,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\"/>"
            ],
            "text/plain": [
              "<IPython.core.display.HTML object>"
            ]
          },
          "execution_count": 33,
          "metadata": {},
          "output_type": "execute_result"
        }
      ],
      "source": [
        "# To run on a video, pass in one frame at a time\n",
        "states = init_states\n",
        "for videos, label in test_ds.take(1):\n",
        "  for frame in videos[0]:\n",
        "    # Input shape: [1, 1, 172, 172, 3]\n",
        "    outputs = runner(**states, image=frame)\n",
        "    logits = outputs.pop('logits')[0]\n",
        "    states = outputs\n",
        "\n",
        "probs = tf.nn.softmax(logits)\n",
        "top_k = get_top_k(probs)\n",
        "print()\n",
        "for label, prob in top_k:\n",
        "  print(label, prob)\n",
        "\n",
        "frames, label = list(test_ds.take(1))[0]\n",
        "to_gif(frames[0].numpy())"
      ]
    },
    {
      "cell_type": "code",
      "execution_count": 50,
      "metadata": {},
      "outputs": [
        {
          "name": "stdout",
          "output_type": "stream",
          "text": [
            "2620\n"
          ]
        }
      ],
      "source": [
        "cpt = sum([len(files) for r, d, files in os.walk(\"UCF101_subset/test/\")])\n",
        "print(cpt)"
      ]
    },
    {
      "cell_type": "code",
      "execution_count": 40,
      "metadata": {},
      "outputs": [
        {
          "name": "stdout",
          "output_type": "stream",
          "text": [
            "<class 'list'>\n",
            "<class 'list'>\n"
          ]
        }
      ],
      "source": [
        "print(type(actual.numpy().tolist()))\n",
        "print(type([1,2,3]))"
      ]
    },
    {
      "cell_type": "code",
      "execution_count": 51,
      "metadata": {},
      "outputs": [],
      "source": [
        "with open('ucf101_label_map.txt', 'w') as file:\n",
        "    for label in label_names:\n",
        "        file.write(label+'\\n')"
      ]
    },
    {
      "cell_type": "code",
      "execution_count": null,
      "metadata": {},
      "outputs": [],
      "source": []
    }
  ],
  "metadata": {
    "accelerator": "GPU",
    "colab": {
      "private_outputs": true,
      "provenance": [
        {
          "file_id": "1JB5Zzgt1DPwblAy9ScfajQtyIC-W5__f",
          "timestamp": 1679078074504
        }
      ],
      "toc_visible": true
    },
    "gpuClass": "standard",
    "kernelspec": {
      "display_name": "Python 3",
      "name": "python3"
    },
    "language_info": {
      "codemirror_mode": {
        "name": "ipython",
        "version": 3
      },
      "file_extension": ".py",
      "mimetype": "text/x-python",
      "name": "python",
      "nbconvert_exporter": "python",
      "pygments_lexer": "ipython3",
      "version": "3.10.13"
    }
  },
  "nbformat": 4,
  "nbformat_minor": 0
}
