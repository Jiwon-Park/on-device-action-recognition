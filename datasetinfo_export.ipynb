{
 "cells": [
  {
   "cell_type": "code",
   "execution_count": 3,
   "metadata": {},
   "outputs": [],
   "source": [
    "import pickle\n",
    "import os\n"
   ]
  },
  {
   "cell_type": "code",
   "execution_count": 7,
   "metadata": {},
   "outputs": [],
   "source": [
    "path = \"UCF101_subset/\"\n",
    "dataset = []\n",
    "\n",
    "\n",
    "for root, dirs, files in os.walk(\"UCF101_subset/\"):\n",
    "    level = root.replace(path, '')\n",
    "    for f in files:\n",
    "        dataset.append('{}/{}'.format(level, f))\n",
    "\n",
    "with open(\"ucf101_index.pk\", \"wb\") as pk:\n",
    "    pickle.dump(dataset, pk)\n"
   ]
  },
  {
   "cell_type": "code",
   "execution_count": null,
   "metadata": {},
   "outputs": [],
   "source": []
  }
 ],
 "metadata": {
  "kernelspec": {
   "display_name": ".venv",
   "language": "python",
   "name": "python3"
  },
  "language_info": {
   "codemirror_mode": {
    "name": "ipython",
    "version": 3
   },
   "file_extension": ".py",
   "mimetype": "text/x-python",
   "name": "python",
   "nbconvert_exporter": "python",
   "pygments_lexer": "ipython3",
   "version": "3.10.13"
  },
  "orig_nbformat": 4
 },
 "nbformat": 4,
 "nbformat_minor": 2
}
